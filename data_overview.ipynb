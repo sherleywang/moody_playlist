{
 "cells": [
  {
   "cell_type": "code",
   "execution_count": null,
   "metadata": {},
   "outputs": [],
   "source": [
    "# import packages\n",
    "import pandas as pd\n",
    "import matplotlib.pyplot as plt\n",
    "%matplotlib inline"
   ]
  },
  {
   "cell_type": "code",
   "execution_count": null,
   "metadata": {},
   "outputs": [],
   "source": [
    "# read in mood data\n",
    "mood_data = pd.read_csv(\"data/mood_data.csv\")\n",
    "mood_data"
   ]
  },
  {
   "cell_type": "code",
   "execution_count": null,
   "metadata": {},
   "outputs": [],
   "source": [
    "# pie chart for primary mood distribution\n",
    "primary_groups = mood_data.groupby('primary')\n",
    "plt.rc('font', size=14)\n",
    "ax = primary_groups.size().plot.bar(y = 'primary', figsize=(15, 10), color = \"orange\", rot = 0)\n",
    "ax.set_ylabel('Number of Songs')\n",
    "ax.set_xlabel('Primary Mood')\n",
    "ax.set_title('Primary Mood Distribution')\n",
    "ax.set_xticklabels(('Epic', 'Lighthearted', 'Energetic', 'Calm', 'Chill', 'Miscellaneous'))\n",
    "plt.savefig(\"primary_dist.pdf\")"
   ]
  },
  {
   "cell_type": "code",
   "execution_count": null,
   "metadata": {},
   "outputs": [],
   "source": [
    "# pie chart for secondary mood distribution\n",
    "secondary_groups = mood_data.groupby('secondary')\n",
    "plt.rc('font', size=14)\n",
    "ax = secondary_groups.size().plot.bar(y = 'secondary', figsize=(15, 10), color = \"green\", rot = 0)\n",
    "ax.set_ylabel('Number of Songs')\n",
    "ax.set_xlabel('Secondary Mood')\n",
    "ax.set_title('Secondary Mood Distribution')\n",
    "ax.set_xticklabels(('Epic', 'Lighthearted', 'Energetic', 'Calm', 'Chill', 'Miscellaneous'))\n",
    "plt.savefig(\"secondary_dist.pdf\")"
   ]
  },
  {
   "cell_type": "code",
   "execution_count": null,
   "metadata": {},
   "outputs": [],
   "source": [
    "# list top 10 artists\n",
    "artist_groups = mood_data.groupby('artist')\n",
    "plt.rc('font', size=14)\n",
    "top10 = artist_groups.size().sort_values(ascending = False).head(10)\n",
    "top10"
   ]
  },
  {
   "cell_type": "code",
   "execution_count": null,
   "metadata": {},
   "outputs": [],
   "source": [
    "# create a correlation DataFrame for the basic features\n",
    "features = pd.read_csv(\"data/features.csv\")\n",
    "features_corr = features.drop(columns = ['title', 'artist', 'primary', 'secondary'])\n",
    "features_corr"
   ]
  },
  {
   "cell_type": "code",
   "execution_count": null,
   "metadata": {},
   "outputs": [],
   "source": [
    "# plot the correlation matrix for basic features\n",
    "corr = features_corr.corr()\n",
    "plt.matshow(corr)\n",
    "labels = ['tempo', 'chroma number', 'zero crossing rate', 'energy entropy', 'spectral centroid']\n",
    "plt.xticks(range(len(corr.columns)), labels, rotation = 'vertical')\n",
    "plt.yticks(range(len(corr.columns)), labels)\n",
    "plt.savefig(\"data/correlation_matrix.pdf\", bbox_inches = 'tight')\n",
    "plt.show()"
   ]
  },
  {
   "cell_type": "code",
   "execution_count": null,
   "metadata": {},
   "outputs": [],
   "source": [
    "# create a correlation DataFrame for the engineered features\n",
    "eng_features = pd.read_csv(\"data/engineered_features.csv\")\n",
    "eng_features_corr = eng_features.drop(columns = ['title', 'artist', 'primary', 'secondary'])\n",
    "eng_features_corr"
   ]
  },
  {
   "cell_type": "code",
   "execution_count": null,
   "metadata": {},
   "outputs": [],
   "source": [
    "# plot the correlation matrix for the engineered features\n",
    "corr = eng_features_corr.corr()\n",
    "plt.matshow(corr)\n",
    "labels = eng_features_corr.columns\n",
    "plt.xticks(range(len(corr.columns)), labels, rotation = 'vertical')\n",
    "plt.yticks(range(len(corr.columns)), labels)\n",
    "plt.savefig(\"data/eng_correlation_matrix.pdf\", bbox_inches = 'tight')\n",
    "plt.show()"
   ]
  },
  {
   "cell_type": "code",
   "execution_count": null,
   "metadata": {},
   "outputs": [],
   "source": [
    "# reload basic features and load neural network features\n",
    "features = pd.read_csv(\"data/features.csv\")\n",
    "nn_features = pd.read_csv(\"data/nn_features.csv\")"
   ]
  },
  {
   "cell_type": "code",
   "execution_count": null,
   "metadata": {},
   "outputs": [],
   "source": [
    "# combine neural network features with basic features to add mood labels\n",
    "combined = pd.concat([features, nn_features], axis = 1)\n",
    "combined['song_check'] = combined['title'] + ' - ' + combined['artist']\n",
    "if combined['song'].equals(combined['song_check']):\n",
    "    print (\"Features match.\")\n",
    "    combined = combined.drop(columns = ['song', 'song_check'])\n",
    "else:\n",
    "    print (\"Features DO NOT match.\")"
   ]
  },
  {
   "cell_type": "code",
   "execution_count": null,
   "metadata": {},
   "outputs": [],
   "source": [
    "# drop repeating columns and song information\n",
    "combined = combined.drop(columns = ['title', 'artist', 'zero_crossing_rate', 'energy_entropy', 'spectral_centroid'])\n",
    "\n",
    "# generate boxplots of distribution of each feature for feature engineering\n",
    "for col in combined.columns:\n",
    "    if col == \"primary\" or col == \"secondary\":\n",
    "        continue\n",
    "    \n",
    "    # boxplot for primary mood\n",
    "    combined.boxplot(column = col, by = 'primary')\n",
    "    filename = \"data/feature_dist/primary_dist_\" + col + \".pdf\"\n",
    "    plt.ylabel(col)\n",
    "    plt.xlabel('primary mood')\n",
    "    plt.suptitle('')\n",
    "    plt.title(col + ' grouped by primary mood')\n",
    "    plt.savefig(filename, bbox_inches = 'tight')\n",
    "    plt.show()\n",
    "    \n",
    "    # boxplot for secondary mood\n",
    "    combined.boxplot(column = col, by = 'secondary')\n",
    "    filename = \"data/feature_dist/secondary_dist_\" + col + \".pdf\"\n",
    "    plt.ylabel(col)\n",
    "    plt.xlabel('secondary mood')\n",
    "    plt.suptitle('')\n",
    "    plt.title(col + ' grouped by secondary mood')\n",
    "    plt.savefig(filename, bbox_inches = 'tight')\n",
    "    plt.show()"
   ]
  }
 ],
 "metadata": {
  "kernelspec": {
   "display_name": "Python 3",
   "language": "python",
   "name": "python3"
  },
  "language_info": {
   "codemirror_mode": {
    "name": "ipython",
    "version": 3
   },
   "file_extension": ".py",
   "mimetype": "text/x-python",
   "name": "python",
   "nbconvert_exporter": "python",
   "pygments_lexer": "ipython3",
   "version": "3.8.5"
  }
 },
 "nbformat": 4,
 "nbformat_minor": 4
}
