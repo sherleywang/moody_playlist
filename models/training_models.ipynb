{
 "cells": [
  {
   "cell_type": "code",
   "execution_count": 29,
   "id": "engaging-framework",
   "metadata": {},
   "outputs": [],
   "source": [
    "# import packages\n",
    "import warnings\n",
    "import pandas as pd\n",
    "import numpy as np\n",
    "import sklearn\n",
    "import pickle\n",
    "from sklearn import pipeline\n",
    "from sklearn import model_selection\n",
    "from sklearn import svm\n",
    "from sklearn import metrics\n",
    "from sklearn import preprocessing\n",
    "from sklearn import linear_model\n",
    "from sklearn import neighbors\n",
    "from sklearn import naive_bayes\n",
    "from sklearn import ensemble\n",
    "from sklearn import neural_network"
   ]
  },
  {
   "cell_type": "code",
   "execution_count": 23,
   "id": "baking-protection",
   "metadata": {},
   "outputs": [],
   "source": [
    "# toggle warnings\n",
    "warnings.filterwarnings('ignore')\n",
    "# warnings.filterwarnings('default')"
   ]
  },
  {
   "cell_type": "code",
   "execution_count": 6,
   "id": "laughing-tension",
   "metadata": {},
   "outputs": [],
   "source": [
    "features = pd.read_csv(\"../data/features.csv\")\n",
    "nn_features = pd.read_csv(\"../data/nn_features.csv\")"
   ]
  },
  {
   "cell_type": "code",
   "execution_count": 14,
   "id": "virgin-monday",
   "metadata": {},
   "outputs": [
    {
     "name": "stdout",
     "output_type": "stream",
     "text": [
      "Features match.\n"
     ]
    }
   ],
   "source": [
    "combined = pd.concat([features, nn_features], axis = 1)\n",
    "combined['song_check'] = combined['title'] + ' - ' + combined['artist']\n",
    "if combined['song'].equals(combined['song_check']):\n",
    "    print (\"Features match.\")\n",
    "    combined = combined.drop(columns = ['song', 'song_check'])\n",
    "else:\n",
    "    print (\"Features DO NOT match.\")"
   ]
  },
  {
   "cell_type": "code",
   "execution_count": 15,
   "id": "august-victorian",
   "metadata": {},
   "outputs": [],
   "source": [
    "def build_xy(features, neural_net):\n",
    "    if neural_net:\n",
    "        # 9 is the index of zcr_mean, the first neural network feature\n",
    "        x = features.iloc[:, 9:]\n",
    "    else:\n",
    "        x = features[['tempo', 'chroma_number', 'zero_crossing_rate', 'energy_entropy', 'spectral_centroid']]\n",
    "    y = features[['primary', 'secondary']]\n",
    "    y['combined'] = y['primary'].astype(str) + y['secondary'].astype(str)\n",
    "    return (x, y)"
   ]
  },
  {
   "cell_type": "code",
   "execution_count": 30,
   "id": "funky-helen",
   "metadata": {},
   "outputs": [],
   "source": [
    "def evaluate_mood(y_true, y_predict):\n",
    "    true_list = y_true.tolist()\n",
    "    score_values = []\n",
    "    for index, value in enumerate(y_predict):\n",
    "        true_moods = true_list[index]\n",
    "        if str(value) == true_moods[0]:\n",
    "            score_values.append(1)\n",
    "        elif str(value) in list(true_moods):\n",
    "            score_values.append(0.5)\n",
    "        else:\n",
    "            score_values.append(0)\n",
    "    return pd.Series(score_values)"
   ]
  },
  {
   "cell_type": "code",
   "execution_count": 164,
   "id": "amber-burlington",
   "metadata": {},
   "outputs": [],
   "source": [
    "# code for using my custom mood scoring function\n",
    "# predictions = model_selection.cross_val_predict(pipe, x, y['primary'], cv = 5)\n",
    "# scores = evaluate_mood(y['combined'], predictions)\n",
    "# print (\"Accuracy of\", round(np.mean(scores), 3), \"on both primary and secondary moods\")"
   ]
  },
  {
   "cell_type": "code",
   "execution_count": 35,
   "id": "aerial-romance",
   "metadata": {},
   "outputs": [
    {
     "name": "stdout",
     "output_type": "stream",
     "text": [
      "Average accuracy: 0.39\n"
     ]
    }
   ],
   "source": [
    "# Support Vector Machine\n",
    "x, y = build_xy(combined, False)\n",
    "svm_model = svm.SVC()\n",
    "scaler = preprocessing.MinMaxScaler()\n",
    "pipe = pipeline.Pipeline(steps = [('scaler', scaler), ('svc', svm_model)])\n",
    "param_grid = {\n",
    "    'svc__kernel': ['linear', 'poly', 'rbf', 'sigmoid'],\n",
    "    'svc__decision_function_shape': ['ovr', 'ovo'],\n",
    "    'svc__C': [0.25, 0.5, 0.75, 1, 3, 5, 10, 25, 50],\n",
    "    'svc__gamma': [0.0001, 0.001, 0.01, 0.1, 1, 5, 10],\n",
    "}\n",
    "model = model_selection.GridSearchCV(pipe, param_grid, cv = 5)\n",
    "accuracies = model_selection.cross_val_score(model, x, y['primary'], cv = 5)\n",
    "print(\"Average accuracy:\", np.mean(accuracies))"
   ]
  },
  {
   "cell_type": "code",
   "execution_count": 32,
   "id": "rental-bachelor",
   "metadata": {},
   "outputs": [
    {
     "name": "stdout",
     "output_type": "stream",
     "text": [
      "***SVM Best Parameters***\n",
      "{'svc__C': 0.75, 'svc__decision_function_shape': 'ovr', 'svc__gamma': 5, 'svc__kernel': 'rbf'}\n"
     ]
    }
   ],
   "source": [
    "# final SVM model\n",
    "x, y = build_xy(combined, False)\n",
    "svm_model = svm.SVC()\n",
    "scaler = preprocessing.MinMaxScaler()\n",
    "pipe = pipeline.Pipeline(steps = [('scaler', scaler), ('svc', svm_model)])\n",
    "param_grid = {\n",
    "    'svc__kernel': ['linear', 'poly', 'rbf', 'sigmoid'],\n",
    "    'svc__decision_function_shape': ['ovr', 'ovo'],\n",
    "    'svc__C': [0.25, 0.5, 0.75, 1, 3, 5, 10, 25, 50],\n",
    "    'svc__gamma': [0.0001, 0.001, 0.01, 0.1, 1, 5, 10],\n",
    "}\n",
    "model = model_selection.GridSearchCV(pipe, param_grid, cv = 5)\n",
    "model.fit(x, y['primary'])\n",
    "print (\"***SVM Best Parameters***\")\n",
    "print (model.best_params_)"
   ]
  },
  {
   "cell_type": "code",
   "execution_count": 44,
   "id": "norman-apollo",
   "metadata": {},
   "outputs": [
    {
     "name": "stdout",
     "output_type": "stream",
     "text": [
      "Average accuracy: 0.44000000000000006\n"
     ]
    }
   ],
   "source": [
    "# Logistic Regression\n",
    "x, y = build_xy(combined, False)\n",
    "lr_model = linear_model.LogisticRegression()\n",
    "scaler = preprocessing.MinMaxScaler()\n",
    "pipe = pipeline.Pipeline(steps = [('scaler', scaler), ('log_reg', lr_model)])\n",
    "param_grid = {\n",
    "    'log_reg__penalty': ['l1', 'l2', 'elasticnet', 'none'],\n",
    "    'log_reg__solver': ['newton-cg', 'lbfgs', 'liblinear', 'sag', 'saga'],\n",
    "    'log_reg__C': [0.25, 0.5, 0.75, 1, 3, 5, 10, 25, 50]\n",
    "}\n",
    "model = model_selection.GridSearchCV(pipe, param_grid, cv = 5)\n",
    "accuracies = model_selection.cross_val_score(model, x, y['primary'], cv = 5)\n",
    "print(\"Average accuracy:\", np.mean(accuracies))"
   ]
  },
  {
   "cell_type": "code",
   "execution_count": 45,
   "id": "congressional-complexity",
   "metadata": {},
   "outputs": [
    {
     "name": "stdout",
     "output_type": "stream",
     "text": [
      "***LR Best Parameters***\n",
      "{'log_reg__C': 50, 'log_reg__penalty': 'l1', 'log_reg__solver': 'saga'}\n"
     ]
    }
   ],
   "source": [
    "# final LR model\n",
    "x, y = build_xy(combined, False)\n",
    "lr_model = linear_model.LogisticRegression()\n",
    "scaler = preprocessing.MinMaxScaler()\n",
    "pipe = pipeline.Pipeline(steps = [('scaler', scaler), ('log_reg', lr_model)])\n",
    "param_grid = {\n",
    "    'log_reg__penalty': ['l1', 'l2', 'elasticnet', 'none'],\n",
    "    'log_reg__solver': ['newton-cg', 'lbfgs', 'liblinear', 'sag', 'saga'],\n",
    "    'log_reg__C': [0.25, 0.5, 0.75, 1, 3, 5, 10, 25, 50]\n",
    "}\n",
    "model = model_selection.GridSearchCV(pipe, param_grid, cv = 5)\n",
    "model.fit(x, y['primary'])\n",
    "print (\"***LR Best Parameters***\")\n",
    "print (model.best_params_)"
   ]
  },
  {
   "cell_type": "code",
   "execution_count": 46,
   "id": "domestic-retrieval",
   "metadata": {},
   "outputs": [
    {
     "name": "stdout",
     "output_type": "stream",
     "text": [
      "Average accuracy: 0.4\n"
     ]
    }
   ],
   "source": [
    "# K Nearest Neighbor\n",
    "x, y = build_xy(combined, False)\n",
    "knn_model = neighbors.KNeighborsClassifier()\n",
    "scaler = preprocessing.MinMaxScaler()\n",
    "pipe = pipeline.Pipeline(steps = [('scaler', scaler), ('knn', knn_model)])\n",
    "param_grid = {\n",
    "    'knn__n_neighbors': [1, 3, 5, 7, 9, 11, 13, 15],\n",
    "    'knn__weights': ['uniform', 'distance'],\n",
    "    'knn__metric': ['euclidean', 'manhattan', 'chebyshev', 'minkowski', 'wminkowski', 'seuclidean', 'mahalanobis'],\n",
    "}\n",
    "model = model_selection.GridSearchCV(pipe, param_grid, cv = 5)\n",
    "accuracies = model_selection.cross_val_score(model, x, y['primary'], cv = 5)\n",
    "print(\"Average accuracy:\", np.mean(accuracies))"
   ]
  },
  {
   "cell_type": "code",
   "execution_count": 47,
   "id": "historic-surface",
   "metadata": {},
   "outputs": [
    {
     "name": "stdout",
     "output_type": "stream",
     "text": [
      "***KNN Best Parameters***\n",
      "{'knn__metric': 'euclidean', 'knn__n_neighbors': 9, 'knn__weights': 'distance'}\n"
     ]
    }
   ],
   "source": [
    "# final KNN model\n",
    "x, y = build_xy(combined, False)\n",
    "knn_model = neighbors.KNeighborsClassifier()\n",
    "scaler = preprocessing.MinMaxScaler()\n",
    "pipe = pipeline.Pipeline(steps = [('scaler', scaler), ('knn', knn_model)])\n",
    "param_grid = {\n",
    "    'knn__n_neighbors': [1, 3, 5, 7, 9, 11, 13, 15],\n",
    "    'knn__weights': ['uniform', 'distance'],\n",
    "    'knn__metric': ['euclidean', 'manhattan', 'chebyshev', 'minkowski', 'wminkowski', 'seuclidean', 'mahalanobis'],\n",
    "}\n",
    "model = model_selection.GridSearchCV(pipe, param_grid, cv = 5)\n",
    "model.fit(x, y['primary'])\n",
    "print (\"***KNN Best Parameters***\")\n",
    "print (model.best_params_)"
   ]
  },
  {
   "cell_type": "code",
   "execution_count": 60,
   "id": "double-arrest",
   "metadata": {},
   "outputs": [
    {
     "name": "stdout",
     "output_type": "stream",
     "text": [
      "Average accuracy: 0.43\n"
     ]
    }
   ],
   "source": [
    "# Gaussian Naive Bayes\n",
    "x, y = build_xy(combined, False)\n",
    "nb_model = naive_bayes.GaussianNB()\n",
    "param_grid = {\n",
    "    'var_smoothing': [0.000000001, 0.00000001, 0.0000001, 0.000001],\n",
    "}\n",
    "model = model_selection.GridSearchCV(nb_model, param_grid, cv = 5)\n",
    "accuracies = model_selection.cross_val_score(model, x, y['primary'], cv = 5)\n",
    "print(\"Average accuracy:\", np.mean(accuracies))"
   ]
  },
  {
   "cell_type": "code",
   "execution_count": 58,
   "id": "mighty-works",
   "metadata": {},
   "outputs": [
    {
     "name": "stdout",
     "output_type": "stream",
     "text": [
      "***GNB Best Parameters***\n",
      "{'var_smoothing': 1e-07}\n"
     ]
    }
   ],
   "source": [
    "# final GNB model\n",
    "x, y = build_xy(combined, False)\n",
    "nb_model = naive_bayes.GaussianNB()\n",
    "param_grid = {\n",
    "    'var_smoothing': [0.000000001, 0.00000001, 0.0000001, 0.000001],\n",
    "}\n",
    "model = model_selection.GridSearchCV(nb_model, param_grid, cv = 5)\n",
    "model.fit(x, y['primary'])\n",
    "print (\"***GNB Best Parameters***\")\n",
    "print (model.best_params_)"
   ]
  },
  {
   "cell_type": "code",
   "execution_count": 69,
   "id": "valid-detective",
   "metadata": {},
   "outputs": [
    {
     "name": "stdout",
     "output_type": "stream",
     "text": [
      "Average accuracy: 0.4\n"
     ]
    }
   ],
   "source": [
    "# Random Forest\n",
    "x, y = build_xy(combined, False)\n",
    "rf_model = ensemble.RandomForestClassifier()\n",
    "param_grid = {\n",
    "    'max_depth': [5, 10, 15, 20, 25, 50, 75, None],\n",
    "    'min_samples_leaf': [1, 2, 5, 7, 10, 12, 15],\n",
    "    'max_features': [\"sqrt\", \"log2\"]\n",
    "}\n",
    "model = model_selection.GridSearchCV(rf_model, param_grid, cv = 5)\n",
    "accuracies = model_selection.cross_val_score(model, x, y['primary'], cv = 5)\n",
    "print(\"Average accuracy:\", np.mean(accuracies))"
   ]
  },
  {
   "cell_type": "code",
   "execution_count": 68,
   "id": "placed-demonstration",
   "metadata": {},
   "outputs": [
    {
     "name": "stdout",
     "output_type": "stream",
     "text": [
      "***RF Best Parameters***\n",
      "{'max_depth': 25, 'max_features': 'sqrt', 'min_samples_leaf': 7}\n"
     ]
    }
   ],
   "source": [
    "# final RF model\n",
    "x, y = build_xy(combined, False)\n",
    "rf_model = ensemble.RandomForestClassifier()\n",
    "param_grid = {\n",
    "    'max_depth': [5, 10, 15, 20, 25, 50, 75, None],\n",
    "    'min_samples_leaf': [1, 2, 5, 7, 10, 12, 15],\n",
    "    'max_features': [\"sqrt\", \"log2\"]\n",
    "}\n",
    "model = model_selection.GridSearchCV(rf_model, param_grid, cv = 5)\n",
    "model.fit(x, y['primary'])\n",
    "print (\"***RF Best Parameters***\")\n",
    "print (model.best_params_)"
   ]
  },
  {
   "cell_type": "code",
   "execution_count": 26,
   "id": "center-formation",
   "metadata": {},
   "outputs": [
    {
     "name": "stdout",
     "output_type": "stream",
     "text": [
      "Average accuracy: 0.5650000000000001\n"
     ]
    }
   ],
   "source": [
    "# Multi-Layer Perceptron\n",
    "x, y = build_xy(combined, True)\n",
    "mlp_model = neural_network.MLPClassifier()\n",
    "scaler = preprocessing.MinMaxScaler()\n",
    "pipe = pipeline.Pipeline(steps = [('scaler', scaler), ('mlp', mlp_model)])\n",
    "param_grid = {\n",
    "    'mlp__hidden_layer_sizes': [(10,), (20,), (30,), (40,), (50,), (60,)],\n",
    "    'mlp__activation': ['logistic', 'tanh', 'relu', 'identity'],\n",
    "    'mlp__solver': ['lbfgs', 'sgd', 'adam'],\n",
    "    'mlp__alpha': [0.00001, 0.0001, 0.001, 0.01, 0.1],\n",
    "}\n",
    "model = model_selection.GridSearchCV(pipe, param_grid, cv = 5)\n",
    "accuracies = model_selection.cross_val_score(model, x, y['primary'], cv = 5)\n",
    "print(\"Average accuracy:\", np.mean(accuracies))"
   ]
  },
  {
   "cell_type": "code",
   "execution_count": 27,
   "id": "abandoned-blind",
   "metadata": {},
   "outputs": [
    {
     "name": "stdout",
     "output_type": "stream",
     "text": [
      "***MLP Best Parameters***\n",
      "{'mlp__activation': 'logistic', 'mlp__alpha': 0.1, 'mlp__hidden_layer_sizes': (60,), 'mlp__solver': 'adam'}\n"
     ]
    }
   ],
   "source": [
    "# final MLP model\n",
    "x, y = build_xy(combined, True)\n",
    "mlp_model = neural_network.MLPClassifier()\n",
    "scaler = preprocessing.MinMaxScaler()\n",
    "pipe = pipeline.Pipeline(steps = [('scaler', scaler), ('mlp', mlp_model)])\n",
    "param_grid = {\n",
    "    'mlp__hidden_layer_sizes': [(10,), (20,), (30,), (40,), (50,), (60,)],\n",
    "    'mlp__activation': ['logistic', 'tanh', 'relu', 'identity'],\n",
    "    'mlp__solver': ['lbfgs', 'sgd', 'adam'],\n",
    "    'mlp__alpha': [0.00001, 0.0001, 0.001, 0.01, 0.1],\n",
    "}\n",
    "model = model_selection.GridSearchCV(pipe, param_grid, cv = 5)\n",
    "model.fit(x, y['primary'])\n",
    "print (\"***MLP Best Parameters***\")\n",
    "print (model.best_params_)"
   ]
  },
  {
   "cell_type": "code",
   "execution_count": null,
   "id": "included-aerospace",
   "metadata": {},
   "outputs": [],
   "source": [
    "# ensemble/stacking"
   ]
  },
  {
   "cell_type": "code",
   "execution_count": null,
   "id": "independent-render",
   "metadata": {},
   "outputs": [],
   "source": [
    "# use pickle to store the final model\n",
    "stacked_model = None\n",
    "filename = 'mood_model.sav'\n",
    "pickle.dump(stacked_model, open(filename, 'wb'))"
   ]
  }
 ],
 "metadata": {
  "kernelspec": {
   "display_name": "Python 3",
   "language": "python",
   "name": "python3"
  },
  "language_info": {
   "codemirror_mode": {
    "name": "ipython",
    "version": 3
   },
   "file_extension": ".py",
   "mimetype": "text/x-python",
   "name": "python",
   "nbconvert_exporter": "python",
   "pygments_lexer": "ipython3",
   "version": "3.8.5"
  }
 },
 "nbformat": 4,
 "nbformat_minor": 5
}
