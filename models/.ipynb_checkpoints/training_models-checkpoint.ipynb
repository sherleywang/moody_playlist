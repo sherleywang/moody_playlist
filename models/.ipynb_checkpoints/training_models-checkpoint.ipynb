{
 "cells": [
  {
   "cell_type": "code",
   "execution_count": 27,
   "id": "engaging-framework",
   "metadata": {},
   "outputs": [],
   "source": [
    "# import packages\n",
    "import pandas as pd\n",
    "import numpy as np\n",
    "import sklearn\n",
    "from sklearn import svm\n",
    "from sklearn import metrics\n",
    "from sklearn import preprocessing\n",
    "from sklearn import linear_model\n",
    "from sklearn import neighbors\n",
    "from sklearn import naive_bayes\n",
    "from sklearn import ensemble"
   ]
  },
  {
   "cell_type": "code",
   "execution_count": 14,
   "id": "laughing-tension",
   "metadata": {},
   "outputs": [],
   "source": [
    "features = pd.read_csv(\"../data/features.csv\")"
   ]
  },
  {
   "cell_type": "code",
   "execution_count": 18,
   "id": "opponent-treaty",
   "metadata": {},
   "outputs": [
    {
     "name": "stdout",
     "output_type": "stream",
     "text": [
      "Accuracy for fold 0 is: 0.375\n",
      "Accuracy for fold 1 is: 0.375\n",
      "Accuracy for fold 2 is: 0.425\n",
      "Accuracy for fold 3 is: 0.425\n",
      "Accuracy for fold 4 is: 0.4\n",
      "Average accuracy is: 40.0\n"
     ]
    }
   ],
   "source": [
    "# SVM one-versus-rest\n",
    "accuracy = 0\n",
    "num_folds = 5\n",
    "folds = np.array_split(features, num_folds)\n",
    "min_max_scaler = preprocessing.MinMaxScaler()\n",
    "\n",
    "for i in range(num_folds):\n",
    "    end = i + 1\n",
    "    train = pd.concat(folds[0:i] + folds[end:num_folds])\n",
    "    test = folds[i]\n",
    "    \n",
    "    train_main = train[['tempo', 'chroma_number', 'zero_crossing_rate', 'energy_entropy', 'spectral_centroid']]\n",
    "    train_mood = train['primary']\n",
    "    test_main = test[['tempo', 'chroma_number', 'zero_crossing_rate', 'energy_entropy', 'spectral_centroid']]\n",
    "    test_mood = test['primary']\n",
    "    \n",
    "    train_main = train_main.to_numpy()\n",
    "    train_main = min_max_scaler.fit_transform(train_main)\n",
    "    train_mood = train_mood.to_numpy()\n",
    "    test_main = test_main.to_numpy()\n",
    "    test_main = min_max_scaler.transform(test_main)\n",
    "    test_mood = test_mood.to_numpy()\n",
    "    \n",
    "    clf = svm.SVC(decision_function_shape = 'ovr')\n",
    "    clf.fit(train_main, train_mood)\n",
    "    predictions = clf.predict(test_main)\n",
    "    \n",
    "    curr_acc = metrics.accuracy_score(test_mood, predictions)\n",
    "    accuracy += curr_acc\n",
    "    print (\"Accuracy for fold\", i, \"is:\", curr_acc)\n",
    "\n",
    "print (\"Average accuracy is:\", (accuracy / 5) * 100)"
   ]
  },
  {
   "cell_type": "code",
   "execution_count": 19,
   "id": "adjusted-margin",
   "metadata": {},
   "outputs": [
    {
     "name": "stdout",
     "output_type": "stream",
     "text": [
      "Accuracy for fold 0 is: 0.375\n",
      "Accuracy for fold 1 is: 0.375\n",
      "Accuracy for fold 2 is: 0.425\n",
      "Accuracy for fold 3 is: 0.425\n",
      "Accuracy for fold 4 is: 0.4\n",
      "Average accuracy is: 40.0\n"
     ]
    }
   ],
   "source": [
    "# SVM one-versus-one\n",
    "accuracy = 0\n",
    "num_folds = 5\n",
    "folds = np.array_split(features, num_folds)\n",
    "min_max_scaler = preprocessing.MinMaxScaler()\n",
    "\n",
    "for i in range(num_folds):\n",
    "    end = i + 1\n",
    "    train = pd.concat(folds[0:i] + folds[end:num_folds])\n",
    "    test = folds[i]\n",
    "    \n",
    "    train_main = train[['tempo', 'chroma_number', 'zero_crossing_rate', 'energy_entropy', 'spectral_centroid']]\n",
    "    train_mood = train['primary']\n",
    "    test_main = test[['tempo', 'chroma_number', 'zero_crossing_rate', 'energy_entropy', 'spectral_centroid']]\n",
    "    test_mood = test['primary']\n",
    "    \n",
    "    train_main = train_main.to_numpy()\n",
    "    train_main = min_max_scaler.fit_transform(train_main)\n",
    "    train_mood = train_mood.to_numpy()\n",
    "    test_main = test_main.to_numpy()\n",
    "    test_main = min_max_scaler.transform(test_main)\n",
    "    test_mood = test_mood.to_numpy()\n",
    "    \n",
    "    clf = svm.SVC(decision_function_shape = 'ovo')\n",
    "    clf.fit(train_main, train_mood)\n",
    "    predictions = clf.predict(test_main)\n",
    "    \n",
    "    curr_acc = metrics.accuracy_score(test_mood, predictions)\n",
    "    accuracy += curr_acc\n",
    "    print (\"Accuracy for fold\", i, \"is:\", curr_acc)\n",
    "\n",
    "print (\"Average accuracy is:\", (accuracy / 5) * 100)"
   ]
  },
  {
   "cell_type": "code",
   "execution_count": 21,
   "id": "electoral-china",
   "metadata": {},
   "outputs": [
    {
     "name": "stdout",
     "output_type": "stream",
     "text": [
      "Accuracy for fold 0 is: 0.3\n",
      "Accuracy for fold 1 is: 0.35\n",
      "Accuracy for fold 2 is: 0.4\n",
      "Accuracy for fold 3 is: 0.475\n",
      "Accuracy for fold 4 is: 0.45\n",
      "Average accuracy is: 39.49999999999999\n"
     ]
    }
   ],
   "source": [
    "# Logistic regression\n",
    "accuracy = 0\n",
    "num_folds = 5\n",
    "folds = np.array_split(features, num_folds)\n",
    "min_max_scaler = preprocessing.MinMaxScaler()\n",
    "\n",
    "for i in range(num_folds):\n",
    "    end = i + 1\n",
    "    train = pd.concat(folds[0:i] + folds[end:num_folds])\n",
    "    test = folds[i]\n",
    "    \n",
    "    train_main = train[['tempo', 'chroma_number', 'zero_crossing_rate', 'energy_entropy', 'spectral_centroid']]\n",
    "    train_mood = train['primary']\n",
    "    test_main = test[['tempo', 'chroma_number', 'zero_crossing_rate', 'energy_entropy', 'spectral_centroid']]\n",
    "    test_mood = test['primary']\n",
    "    \n",
    "    train_main = train_main.to_numpy()\n",
    "    train_main = min_max_scaler.fit_transform(train_main)\n",
    "    train_mood = train_mood.to_numpy()\n",
    "    test_main = test_main.to_numpy()\n",
    "    test_main = min_max_scaler.transform(test_main)\n",
    "    test_mood = test_mood.to_numpy()\n",
    "    \n",
    "    clf = linear_model.LogisticRegression(random_state = 0)\n",
    "    clf.fit(train_main, train_mood)\n",
    "    predictions = clf.predict(test_main)\n",
    "    \n",
    "    curr_acc = metrics.accuracy_score(test_mood, predictions)\n",
    "    accuracy += curr_acc\n",
    "    print (\"Accuracy for fold\", i, \"is:\", curr_acc)\n",
    "\n",
    "print (\"Average accuracy is:\", (accuracy / 5) * 100)"
   ]
  },
  {
   "cell_type": "code",
   "execution_count": 23,
   "id": "domestic-retrieval",
   "metadata": {},
   "outputs": [
    {
     "name": "stdout",
     "output_type": "stream",
     "text": [
      "Accuracy for fold 0 is: 0.35\n",
      "Accuracy for fold 1 is: 0.5\n",
      "Accuracy for fold 2 is: 0.275\n",
      "Accuracy for fold 3 is: 0.45\n",
      "Accuracy for fold 4 is: 0.4\n",
      "Average accuracy is: 39.5\n"
     ]
    }
   ],
   "source": [
    "# K nearest neighbor\n",
    "accuracy = 0\n",
    "num_folds = 5\n",
    "folds = np.array_split(features, num_folds)\n",
    "min_max_scaler = preprocessing.MinMaxScaler()\n",
    "\n",
    "for i in range(num_folds):\n",
    "    end = i + 1\n",
    "    train = pd.concat(folds[0:i] + folds[end:num_folds])\n",
    "    test = folds[i]\n",
    "    \n",
    "    train_main = train[['tempo', 'chroma_number', 'zero_crossing_rate', 'energy_entropy', 'spectral_centroid']]\n",
    "    train_mood = train['primary']\n",
    "    test_main = test[['tempo', 'chroma_number', 'zero_crossing_rate', 'energy_entropy', 'spectral_centroid']]\n",
    "    test_mood = test['primary']\n",
    "    \n",
    "    train_main = train_main.to_numpy()\n",
    "    train_main = min_max_scaler.fit_transform(train_main)\n",
    "    train_mood = train_mood.to_numpy()\n",
    "    test_main = test_main.to_numpy()\n",
    "    test_main = min_max_scaler.transform(test_main)\n",
    "    test_mood = test_mood.to_numpy()\n",
    "    \n",
    "    clf = neighbors.KNeighborsClassifier()\n",
    "    clf.fit(train_main, train_mood)\n",
    "    predictions = clf.predict(test_main)\n",
    "\n",
    "    curr_acc = metrics.accuracy_score(test_mood, predictions)\n",
    "    accuracy += curr_acc\n",
    "    print (\"Accuracy for fold\", i, \"is:\", curr_acc)\n",
    "\n",
    "print (\"Average accuracy is:\", (accuracy / 5) * 100)"
   ]
  },
  {
   "cell_type": "code",
   "execution_count": 25,
   "id": "concerned-fifteen",
   "metadata": {},
   "outputs": [
    {
     "name": "stdout",
     "output_type": "stream",
     "text": [
      "Accuracy for fold 0 is: 0.35\n",
      "Accuracy for fold 1 is: 0.4\n",
      "Accuracy for fold 2 is: 0.45\n",
      "Accuracy for fold 3 is: 0.375\n",
      "Accuracy for fold 4 is: 0.45\n",
      "Average accuracy is: 40.5\n"
     ]
    }
   ],
   "source": [
    "# Naive Bayes\n",
    "accuracy = 0\n",
    "num_folds = 5\n",
    "folds = np.array_split(features, num_folds)\n",
    "min_max_scaler = preprocessing.MinMaxScaler()\n",
    "\n",
    "for i in range(num_folds):\n",
    "    end = i + 1\n",
    "    train = pd.concat(folds[0:i] + folds[end:num_folds])\n",
    "    test = folds[i]\n",
    "    \n",
    "    train_main = train[['tempo', 'chroma_number', 'zero_crossing_rate', 'energy_entropy', 'spectral_centroid']]\n",
    "    train_mood = train['primary']\n",
    "    test_main = test[['tempo', 'chroma_number', 'zero_crossing_rate', 'energy_entropy', 'spectral_centroid']]\n",
    "    test_mood = test['primary']\n",
    "    \n",
    "    train_main = train_main.to_numpy()\n",
    "    train_main = min_max_scaler.fit_transform(train_main)\n",
    "    train_mood = train_mood.to_numpy()\n",
    "    test_main = test_main.to_numpy()\n",
    "    test_main = min_max_scaler.transform(test_main)\n",
    "    test_mood = test_mood.to_numpy()\n",
    "    \n",
    "    clf = naive_bayes.GaussianNB()\n",
    "    clf.fit(train_main, train_mood)\n",
    "    predictions = clf.predict(test_main)\n",
    "    \n",
    "    curr_acc = metrics.accuracy_score(test_mood, predictions)\n",
    "    accuracy += curr_acc\n",
    "    print (\"Accuracy for fold\", i, \"is:\", curr_acc)\n",
    "\n",
    "print (\"Average accuracy is:\", (accuracy / 5) * 100)"
   ]
  },
  {
   "cell_type": "code",
   "execution_count": 28,
   "id": "thermal-poetry",
   "metadata": {},
   "outputs": [
    {
     "name": "stdout",
     "output_type": "stream",
     "text": [
      "Accuracy for fold 0 is: 0.375\n",
      "Accuracy for fold 1 is: 0.4\n",
      "Accuracy for fold 2 is: 0.425\n",
      "Accuracy for fold 3 is: 0.425\n",
      "Accuracy for fold 4 is: 0.45\n",
      "Average accuracy is: 41.5\n"
     ]
    }
   ],
   "source": [
    "# Random forest\n",
    "accuracy = 0\n",
    "num_folds = 5\n",
    "folds = np.array_split(features, num_folds)\n",
    "min_max_scaler = preprocessing.MinMaxScaler()\n",
    "\n",
    "for i in range(num_folds):\n",
    "    end = i + 1\n",
    "    train = pd.concat(folds[0:i] + folds[end:num_folds])\n",
    "    test = folds[i]\n",
    "    \n",
    "    train_main = train[['tempo', 'chroma_number', 'zero_crossing_rate', 'energy_entropy', 'spectral_centroid']]\n",
    "    train_mood = train['primary']\n",
    "    test_main = test[['tempo', 'chroma_number', 'zero_crossing_rate', 'energy_entropy', 'spectral_centroid']]\n",
    "    test_mood = test['primary']\n",
    "    \n",
    "    train_main = train_main.to_numpy()\n",
    "    train_main = min_max_scaler.fit_transform(train_main)\n",
    "    train_mood = train_mood.to_numpy()\n",
    "    test_main = test_main.to_numpy()\n",
    "    test_main = min_max_scaler.transform(test_main)\n",
    "    test_mood = test_mood.to_numpy()\n",
    "    \n",
    "    clf = ensemble.RandomForestClassifier(max_depth = 10, random_state = 0)\n",
    "    clf.fit(train_main, train_mood)\n",
    "    predictions = clf.predict(test_main)\n",
    "    \n",
    "    curr_acc = metrics.accuracy_score(test_mood, predictions)\n",
    "    accuracy += curr_acc\n",
    "    print (\"Accuracy for fold\", i, \"is:\", curr_acc)\n",
    "\n",
    "print (\"Average accuracy is:\", (accuracy / 5) * 100)"
   ]
  }
 ],
 "metadata": {
  "kernelspec": {
   "display_name": "Python 3",
   "language": "python",
   "name": "python3"
  },
  "language_info": {
   "codemirror_mode": {
    "name": "ipython",
    "version": 3
   },
   "file_extension": ".py",
   "mimetype": "text/x-python",
   "name": "python",
   "nbconvert_exporter": "python",
   "pygments_lexer": "ipython3",
   "version": "3.8.5"
  }
 },
 "nbformat": 4,
 "nbformat_minor": 5
}
