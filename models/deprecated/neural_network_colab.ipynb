{
 "cells": [
  {
   "cell_type": "code",
   "execution_count": null,
   "metadata": {
    "colab": {
     "base_uri": "https://localhost:8080/"
    },
    "id": "0frxtq7P3N1O",
    "outputId": "53371257-3fdf-41d7-f58a-21dd83582f4f"
   },
   "outputs": [],
   "source": [
    "# mount google drive to load raw features\n",
    "from google.colab import drive\n",
    "drive.mount('/content/drive')"
   ]
  },
  {
   "cell_type": "code",
   "execution_count": null,
   "metadata": {
    "id": "F1r1JhWuH1ar"
   },
   "outputs": [],
   "source": [
    "# import general packages\n",
    "import pandas as pd\n",
    "import numpy as np\n",
    "import pickle\n",
    "\n",
    "# import sklearn utility\n",
    "import sklearn\n",
    "from sklearn import pipeline\n",
    "from sklearn import model_selection\n",
    "from sklearn import metrics\n",
    "from sklearn import preprocessing\n",
    "from sklearn import ensemble\n",
    "from sklearn import neural_network\n",
    "from sklearn import decomposition"
   ]
  },
  {
   "cell_type": "code",
   "execution_count": null,
   "metadata": {
    "id": "94cPfr72HqAQ"
   },
   "outputs": [],
   "source": [
    "# import the raw features\n",
    "raw_features_path = \"/content/drive/MyDrive/moody_playlist_data/raw_features.csv\"\n",
    "raw_features = pd.read_csv(raw_features_path)"
   ]
  },
  {
   "cell_type": "code",
   "execution_count": null,
   "metadata": {
    "id": "m2RAS77aMEPw"
   },
   "outputs": [],
   "source": [
    "# import the basic features for mood labels\n",
    "basic_features_path = \"/content/drive/MyDrive/moody_playlist_data/features.csv\"\n",
    "basic_features = pd.read_csv(basic_features_path)"
   ]
  },
  {
   "cell_type": "code",
   "execution_count": null,
   "metadata": {
    "colab": {
     "base_uri": "https://localhost:8080/"
    },
    "id": "l4-0xIcOJyLi",
    "outputId": "12480947-d804-4943-a728-a1054e3b4303"
   },
   "outputs": [],
   "source": [
    "# combine the raw features with the basic features\n",
    "combined_raw = pd.concat([basic_features, raw_features], axis = 1)\n",
    "combined_raw['song_check'] = combined_raw['title'] + ' - ' + combined_raw['artist']\n",
    "# display a message based on whether merge was successful\n",
    "if combined_raw['song'].equals(combined_raw['song_check']):\n",
    "    print (\"Raw features match.\")\n",
    "    combined_raw = combined_raw.drop(columns = ['song', 'song_check'])\n",
    "else:\n",
    "    print (\"Raw features DO NOT match.\")"
   ]
  },
  {
   "cell_type": "code",
   "execution_count": null,
   "metadata": {
    "id": "EqOdOhgUOJRg"
   },
   "outputs": [],
   "source": [
    "# function to separate the raw features from the mood labels\n",
    "def build_xy(features):\n",
    "    # skip all the basic features to only keep raw features\n",
    "    x = features.iloc[:, 9:]\n",
    "    y = features[['primary', 'secondary']]\n",
    "    # create a combined label with primary and secondary moods listed\n",
    "    y['combined'] = y['primary'].astype(str) + y['secondary'].astype(str)\n",
    "    return (x, y)"
   ]
  },
  {
   "cell_type": "code",
   "execution_count": null,
   "metadata": {
    "colab": {
     "base_uri": "https://localhost:8080/"
    },
    "id": "YnYgFoDgFQ_T",
    "outputId": "abac193e-d497-4150-c723-7c6b8ca32da9"
   },
   "outputs": [],
   "source": [
    "# Multi-Layer Perceptron with raw features\n",
    "x, y = build_xy(combined_raw)\n",
    "mlp_model = neural_network.MLPClassifier()\n",
    "scaler = preprocessing.MinMaxScaler()\n",
    "pca = decomposition.PCA(n_components = 0.95, svd_solver = \"full\")\n",
    "pipe = pipeline.Pipeline(steps = [('scaler', scaler), ('pca', pca), ('mlp', mlp_model)])\n",
    "param_grid = {\n",
    "    'mlp__hidden_layer_sizes': [(2000,), (5000,), (10000,), (2000, 25), (5000, 25), (10000, 25)],\n",
    "}\n",
    "model = model_selection.GridSearchCV(pipe, param_grid, cv = 5)\n",
    "accuracies = model_selection.cross_val_score(model, x, y['primary'], cv = 5)\n",
    "print(\"Average accuracy:\", np.mean(accuracies))"
   ]
  }
 ],
 "metadata": {
  "colab": {
   "collapsed_sections": [],
   "name": "neural_networks.ipynb",
   "provenance": []
  },
  "kernelspec": {
   "display_name": "Python 3",
   "language": "python",
   "name": "python3"
  },
  "language_info": {
   "codemirror_mode": {
    "name": "ipython",
    "version": 3
   },
   "file_extension": ".py",
   "mimetype": "text/x-python",
   "name": "python",
   "nbconvert_exporter": "python",
   "pygments_lexer": "ipython3",
   "version": "3.8.5"
  }
 },
 "nbformat": 4,
 "nbformat_minor": 1
}
