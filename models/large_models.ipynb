{
 "cells": [
  {
   "cell_type": "code",
   "execution_count": 1,
   "id": "brown-yukon",
   "metadata": {},
   "outputs": [],
   "source": [
    "import pandas as pd\n",
    "import numpy as np\n",
    "import sklearn\n",
    "import pickle\n",
    "from sklearn import pipeline\n",
    "from sklearn import model_selection\n",
    "from sklearn import metrics\n",
    "from sklearn import preprocessing\n",
    "from sklearn import neural_network\n",
    "from sklearn import decomposition"
   ]
  },
  {
   "cell_type": "code",
   "execution_count": null,
   "id": "developed-might",
   "metadata": {},
   "outputs": [],
   "source": [
    "raw_features = pd.read_csv(\"data/raw_features.csv\")\n",
    "basic_features = pd.read_csv(\"data/features.csv\")"
   ]
  },
  {
   "cell_type": "code",
   "execution_count": 2,
   "id": "royal-invasion",
   "metadata": {},
   "outputs": [],
   "source": [
    "combined_raw = pd.concat([basic_features, raw_features], axis = 1)\n",
    "combined_raw['song_check'] = combined_raw['title'] + ' - ' + combined_raw['artist']\n",
    "if combined_raw['song'].equals(combined_raw['song_check']):\n",
    "    !echo \"Raw features match.\"\n",
    "    combined_raw = combined_raw.drop(columns = ['song', 'song_check'])\n",
    "else:\n",
    "    !echo \"Raw features DO NOT match.\""
   ]
  },
  {
   "cell_type": "code",
   "execution_count": 4,
   "id": "sublime-shannon",
   "metadata": {},
   "outputs": [],
   "source": [
    "def build_xy(features):\n",
    "    x = features.iloc[:, 9:]\n",
    "    y = features[['primary', 'secondary']]\n",
    "    y['combined'] = y['primary'].astype(str) + y['secondary'].astype(str)\n",
    "    return (x, y)"
   ]
  },
  {
   "cell_type": "code",
   "execution_count": null,
   "id": "damaged-mountain",
   "metadata": {},
   "outputs": [],
   "source": [
    "# Multi-Layer Perceptron with raw features\n",
    "x, y = build_xy(combined_raw)\n",
    "mlp_model = neural_network.MLPClassifier()\n",
    "scaler = preprocessing.MinMaxScaler()\n",
    "pca = decomposition.PCA(n_components = 0.95, svd_solver = \"full\")\n",
    "pipe = pipeline.Pipeline(steps = [('scaler', scaler), ('pca', pca), ('mlp', mlp_model)])\n",
    "param_grid = {\n",
    "    'mlp__hidden_layer_sizes': [(1000,), (10000,), (1000,50), (1000,50,6)],\n",
    "    'mlp__activation': ['logistic', 'tanh', 'relu', 'identity'],\n",
    "    'mlp__solver': ['lbfgs', 'sgd', 'adam'],\n",
    "    'mlp__alpha': [0.00001, 0.0001, 0.001, 0.01, 0.1],\n",
    "}\n",
    "model = model_selection.GridSearchCV(pipe, param_grid, cv = 5)\n",
    "accuracies = model_selection.cross_val_score(model, x, y['primary'], cv = 5)\n",
    "avg = np.mean(accuracies)\n",
    "!echo \"cross validation average\"\n",
    "!echo $avg"
   ]
  },
  {
   "cell_type": "code",
   "execution_count": null,
   "id": "dress-amazon",
   "metadata": {},
   "outputs": [],
   "source": [
    "# final Multi-Layer Perceptron model with raw features\n",
    "x, y = build_xy(combined_raw)\n",
    "mlp_model = neural_network.MLPClassifier()\n",
    "scaler = preprocessing.MinMaxScaler()\n",
    "pca = decomposition.PCA(n_components = 0.95, svd_solver = \"full\")\n",
    "pipe = pipeline.Pipeline(steps = [('scaler', scaler), ('pca', pca), ('mlp', mlp_model)])\n",
    "param_grid = {\n",
    "    'mlp__hidden_layer_sizes': [(1000,), (10000,), (1000,50), (1000,50,6)],\n",
    "    'mlp__activation': ['logistic', 'tanh', 'relu', 'identity'],\n",
    "    'mlp__solver': ['lbfgs', 'sgd', 'adam'],\n",
    "    'mlp__alpha': [0.00001, 0.0001, 0.001, 0.01, 0.1],\n",
    "}\n",
    "model = model_selection.GridSearchCV(pipe, param_grid, cv = 5)\n",
    "model.fit(x, y['primary'])\n",
    "best = model.best_params_\n",
    "!echo \"MLP Best Parameters\"\n",
    "!echo $best"
   ]
  }
 ],
 "metadata": {
  "kernelspec": {
   "display_name": "Python 3",
   "language": "python",
   "name": "python3"
  },
  "language_info": {
   "codemirror_mode": {
    "name": "ipython",
    "version": 3
   },
   "file_extension": ".py",
   "mimetype": "text/x-python",
   "name": "python",
   "nbconvert_exporter": "python",
   "pygments_lexer": "ipython3",
   "version": "3.8.5"
  }
 },
 "nbformat": 4,
 "nbformat_minor": 5
}
