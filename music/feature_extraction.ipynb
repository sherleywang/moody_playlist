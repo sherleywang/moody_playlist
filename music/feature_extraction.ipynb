{
 "cells": [
  {
   "cell_type": "code",
   "execution_count": 1,
   "id": "broken-indian",
   "metadata": {},
   "outputs": [],
   "source": [
    "import librosa\n",
    "import pyAudioAnalysis as pyaudio\n",
    "import numpy as np\n",
    "import pandas as pd\n",
    "import os"
   ]
  },
  {
   "cell_type": "code",
   "execution_count": 2,
   "id": "entertaining-reserve",
   "metadata": {},
   "outputs": [],
   "source": [
    "from pyAudioAnalysis import audioBasicIO\n",
    "from pyAudioAnalysis import MidTermFeatures"
   ]
  },
  {
   "cell_type": "code",
   "execution_count": 3,
   "id": "aging-framing",
   "metadata": {},
   "outputs": [],
   "source": [
    "features = []\n",
    "existing = []\n",
    "missing = []\n",
    "prev_features = None"
   ]
  },
  {
   "cell_type": "code",
   "execution_count": 4,
   "id": "hispanic-sellers",
   "metadata": {},
   "outputs": [],
   "source": [
    "if os.path.exists(\"../data/features.csv\"):\n",
    "    prev_features = pd.read_csv(\"../data/features.csv\")\n",
    "    prev_features.dropna(how = 'any')\n",
    "    prev_features['song'] = prev_features['title'] + \" - \" + prev_features['artist']\n",
    "    existing = prev_features['song'].tolist()"
   ]
  },
  {
   "cell_type": "code",
   "execution_count": 5,
   "id": "executive-trigger",
   "metadata": {},
   "outputs": [
    {
     "name": "stderr",
     "output_type": "stream",
     "text": [
      "/opt/anaconda3/envs/music/lib/python3.8/site-packages/librosa/core/audio.py:162: UserWarning: PySoundFile failed. Trying audioread instead.\n",
      "  warnings.warn(\"PySoundFile failed. Trying audioread instead.\")\n"
     ]
    },
    {
     "name": "stdout",
     "output_type": "stream",
     "text": [
      "[\"baby don't cry - exo\", 69.83741554054055, -0.01112832059264044]\n"
     ]
    }
   ],
   "source": [
    "for song in os.scandir(\".\"):\n",
    "    if song.path.endswith(\".mp3\") and song.is_file():\n",
    "        # skip ./ in the path to the mp3 file\n",
    "        file_name = song.path[2:]\n",
    "        song_name = file_name[:len(file_name) - 4]\n",
    "        if song_name not in existing:\n",
    "            # add it to the missing list so we can use pyAudioAnalysis on it\n",
    "            missing.append(file_name)\n",
    "            \n",
    "            # get the tempo of the song\n",
    "            waveform, samp_rate = librosa.load(file_name)\n",
    "            tempo, beat_frames = librosa.beat.beat_track(waveform, samp_rate)\n",
    "\n",
    "            # get the chroma number of the song\n",
    "            beat_times = librosa.frames_to_time(beat_frames, samp_rate)\n",
    "            y_harmonic, y_percussive = librosa.effects.hpss(waveform)\n",
    "            chromagram = librosa.feature.chroma_cqt(y_harmonic, samp_rate)\n",
    "            beat_chroma = librosa.util.sync(chromagram, beat_frames, aggregate=np.median)\n",
    "            # make beat chroma into a DataFrame and calculate the diff\n",
    "            chroma_df = pd.DataFrame(beat_chroma)\n",
    "            diff_values = chroma_df.diff()\n",
    "            diff_mean = diff_values.mean(axis = 0, skipna = True)\n",
    "            chroma_num = sum(diff_mean) / len(diff_mean)\n",
    "\n",
    "            # add song, tempo and chroma number to the features list\n",
    "            print ([song_name, tempo, chroma_num])\n",
    "            features.append([song_name, tempo, chroma_num])"
   ]
  },
  {
   "cell_type": "code",
   "execution_count": 6,
   "id": "coupled-pitch",
   "metadata": {},
   "outputs": [],
   "source": [
    "features_df = pd.DataFrame(features, columns = ['song', 'tempo', 'chroma_number'])\n",
    "features_df = features_df.sort_values(by = ['song'])"
   ]
  },
  {
   "cell_type": "code",
   "execution_count": 7,
   "id": "intimate-museum",
   "metadata": {},
   "outputs": [
    {
     "data": {
      "text/plain": [
       "'\\nmkdir missing\\ncat missing.txt | while read line\\ndo\\n    cp $line missing\\ndone\\n'"
      ]
     },
     "execution_count": 7,
     "metadata": {},
     "output_type": "execute_result"
    }
   ],
   "source": [
    "# move all the mp3 files that need to have features extracted into some folder\n",
    "with open('missing.txt', 'w+') as f:\n",
    "    for song in missing:\n",
    "        f.write(\"%s\\n\" % song)\n",
    "# use command line here\n",
    "'''\n",
    "mkdir missing\n",
    "cat missing.txt | while read line\n",
    "do\n",
    "    cp $line missing\n",
    "done\n",
    "'''\n",
    "# change the path in directory_feature_extraction"
   ]
  },
  {
   "cell_type": "code",
   "execution_count": 3,
   "id": "ordered-cowboy",
   "metadata": {},
   "outputs": [
    {
     "name": "stdout",
     "output_type": "stream",
     "text": [
      "Analyzing file 1 of 1: trial/traveler of the magic borders - takanashi yasuharu.mp3\n",
      "Feature extraction complexity ratio: 43.9 x realtime\n"
     ]
    }
   ],
   "source": [
    "mid_term_window = 1\n",
    "mid_term_step = 1\n",
    "short_term_window = 0.05\n",
    "short_term_step = 0.05\n",
    "# use compute_beat = True if we want the extra beat features\n",
    "pyaudio_feat, files, feat_names = MidTermFeatures.directory_feature_extraction(\"trial\", \n",
    "                                                                               mid_term_window, \n",
    "                                                                               mid_term_step, \n",
    "                                                                               short_term_window, \n",
    "                                                                               short_term_step,\n",
    "                                                                               False)"
   ]
  },
  {
   "cell_type": "code",
   "execution_count": 25,
   "id": "ethical-highlight",
   "metadata": {},
   "outputs": [],
   "source": [
    "# neural network features\n",
    "features_df.reset_index(drop = True, inplace = True)\n",
    "if len(features_df) == 1:\n",
    "    nn_features_df = pd.DataFrame([pyaudio_feat], columns = feat_names)\n",
    "else:\n",
    "    nn_features_df = pd.DataFrame(pyaudio_feat, columns = feat_names)\n",
    "nn_features_df['song'] = features_df['song']"
   ]
  },
  {
   "cell_type": "code",
   "execution_count": 26,
   "id": "handled-integer",
   "metadata": {},
   "outputs": [],
   "source": [
    "zcr_ind = feat_names.index('zcr_mean')\n",
    "ee_ind = feat_names.index('energy_entropy_mean')\n",
    "spc_ind = feat_names.index('spectral_centroid_mean')\n",
    "\n",
    "features_df['zero_crossing_rate'] = nn_features_df.iloc[:, zcr_ind]\n",
    "features_df['energy_entropy'] = nn_features_df.iloc[:, ee_ind]\n",
    "features_df['spectral_centroid'] = nn_features_df.iloc[:, spc_ind]"
   ]
  },
  {
   "cell_type": "code",
   "execution_count": 27,
   "id": "younger-premises",
   "metadata": {
    "scrolled": false
   },
   "outputs": [
    {
     "data": {
      "text/html": [
       "<div>\n",
       "<style scoped>\n",
       "    .dataframe tbody tr th:only-of-type {\n",
       "        vertical-align: middle;\n",
       "    }\n",
       "\n",
       "    .dataframe tbody tr th {\n",
       "        vertical-align: top;\n",
       "    }\n",
       "\n",
       "    .dataframe thead th {\n",
       "        text-align: right;\n",
       "    }\n",
       "</style>\n",
       "<table border=\"1\" class=\"dataframe\">\n",
       "  <thead>\n",
       "    <tr style=\"text-align: right;\">\n",
       "      <th></th>\n",
       "      <th>song</th>\n",
       "      <th>tempo</th>\n",
       "      <th>chroma_number</th>\n",
       "      <th>zero_crossing_rate</th>\n",
       "      <th>energy_entropy</th>\n",
       "      <th>spectral_centroid</th>\n",
       "    </tr>\n",
       "  </thead>\n",
       "  <tbody>\n",
       "    <tr>\n",
       "      <th>0</th>\n",
       "      <td>baby don't cry - exo</td>\n",
       "      <td>69.837416</td>\n",
       "      <td>-0.011128</td>\n",
       "      <td>0.053817</td>\n",
       "      <td>3.185847</td>\n",
       "      <td>0.136686</td>\n",
       "    </tr>\n",
       "  </tbody>\n",
       "</table>\n",
       "</div>"
      ],
      "text/plain": [
       "                   song      tempo  chroma_number  zero_crossing_rate  \\\n",
       "0  baby don't cry - exo  69.837416      -0.011128            0.053817   \n",
       "\n",
       "   energy_entropy  spectral_centroid  \n",
       "0        3.185847           0.136686  "
      ]
     },
     "execution_count": 27,
     "metadata": {},
     "output_type": "execute_result"
    }
   ],
   "source": [
    "features_df"
   ]
  },
  {
   "cell_type": "code",
   "execution_count": 62,
   "id": "swedish-crime",
   "metadata": {},
   "outputs": [
    {
     "data": {
      "text/html": [
       "<div>\n",
       "<style scoped>\n",
       "    .dataframe tbody tr th:only-of-type {\n",
       "        vertical-align: middle;\n",
       "    }\n",
       "\n",
       "    .dataframe tbody tr th {\n",
       "        vertical-align: top;\n",
       "    }\n",
       "\n",
       "    .dataframe thead th {\n",
       "        text-align: right;\n",
       "    }\n",
       "</style>\n",
       "<table border=\"1\" class=\"dataframe\">\n",
       "  <thead>\n",
       "    <tr style=\"text-align: right;\">\n",
       "      <th></th>\n",
       "      <th>title</th>\n",
       "      <th>artist</th>\n",
       "      <th>primary</th>\n",
       "      <th>secondary</th>\n",
       "    </tr>\n",
       "  </thead>\n",
       "  <tbody>\n",
       "    <tr>\n",
       "      <th>0</th>\n",
       "      <td>who says</td>\n",
       "      <td>selena gomez</td>\n",
       "      <td>2</td>\n",
       "      <td>3</td>\n",
       "    </tr>\n",
       "    <tr>\n",
       "      <th>1</th>\n",
       "      <td>don't stop</td>\n",
       "      <td>5 seconds of summer</td>\n",
       "      <td>3</td>\n",
       "      <td>2</td>\n",
       "    </tr>\n",
       "    <tr>\n",
       "      <th>2</th>\n",
       "      <td>do you hear what i hear</td>\n",
       "      <td>carrie underwood</td>\n",
       "      <td>4</td>\n",
       "      <td>2</td>\n",
       "    </tr>\n",
       "    <tr>\n",
       "      <th>3</th>\n",
       "      <td>alliance force, assemble</td>\n",
       "      <td>takanashi yasuharu</td>\n",
       "      <td>1</td>\n",
       "      <td>6</td>\n",
       "    </tr>\n",
       "    <tr>\n",
       "      <th>4</th>\n",
       "      <td>ni pa bu pa shi qu wo</td>\n",
       "      <td>liu zeng tong</td>\n",
       "      <td>2</td>\n",
       "      <td>4</td>\n",
       "    </tr>\n",
       "    <tr>\n",
       "      <th>...</th>\n",
       "      <td>...</td>\n",
       "      <td>...</td>\n",
       "      <td>...</td>\n",
       "      <td>...</td>\n",
       "    </tr>\n",
       "    <tr>\n",
       "      <th>195</th>\n",
       "      <td>nine four two zero</td>\n",
       "      <td>mai xiao er</td>\n",
       "      <td>2</td>\n",
       "      <td>4</td>\n",
       "    </tr>\n",
       "    <tr>\n",
       "      <th>196</th>\n",
       "      <td>zui mei hun li</td>\n",
       "      <td>bai xiao bai</td>\n",
       "      <td>2</td>\n",
       "      <td>4</td>\n",
       "    </tr>\n",
       "    <tr>\n",
       "      <th>197</th>\n",
       "      <td>jiu shi xi huan ni</td>\n",
       "      <td>li meng yin</td>\n",
       "      <td>2</td>\n",
       "      <td>6</td>\n",
       "    </tr>\n",
       "    <tr>\n",
       "      <th>198</th>\n",
       "      <td>xiao xing xing</td>\n",
       "      <td>wang su long</td>\n",
       "      <td>2</td>\n",
       "      <td>4</td>\n",
       "    </tr>\n",
       "    <tr>\n",
       "      <th>199</th>\n",
       "      <td>qing hua ci</td>\n",
       "      <td>jay chou</td>\n",
       "      <td>4</td>\n",
       "      <td>2</td>\n",
       "    </tr>\n",
       "  </tbody>\n",
       "</table>\n",
       "<p>200 rows × 4 columns</p>\n",
       "</div>"
      ],
      "text/plain": [
       "                        title               artist  primary  secondary\n",
       "0                    who says         selena gomez        2          3\n",
       "1                  don't stop  5 seconds of summer        3          2\n",
       "2     do you hear what i hear     carrie underwood        4          2\n",
       "3    alliance force, assemble   takanashi yasuharu        1          6\n",
       "4       ni pa bu pa shi qu wo        liu zeng tong        2          4\n",
       "..                        ...                  ...      ...        ...\n",
       "195        nine four two zero          mai xiao er        2          4\n",
       "196            zui mei hun li         bai xiao bai        2          4\n",
       "197        jiu shi xi huan ni          li meng yin        2          6\n",
       "198            xiao xing xing         wang su long        2          4\n",
       "199               qing hua ci             jay chou        4          2\n",
       "\n",
       "[200 rows x 4 columns]"
      ]
     },
     "execution_count": 62,
     "metadata": {},
     "output_type": "execute_result"
    }
   ],
   "source": [
    "moods = pd.read_csv(\"../data/mood_data.csv\")\n",
    "moods"
   ]
  },
  {
   "cell_type": "code",
   "execution_count": 63,
   "id": "according-definition",
   "metadata": {},
   "outputs": [
    {
     "data": {
      "text/html": [
       "<div>\n",
       "<style scoped>\n",
       "    .dataframe tbody tr th:only-of-type {\n",
       "        vertical-align: middle;\n",
       "    }\n",
       "\n",
       "    .dataframe tbody tr th {\n",
       "        vertical-align: top;\n",
       "    }\n",
       "\n",
       "    .dataframe thead th {\n",
       "        text-align: right;\n",
       "    }\n",
       "</style>\n",
       "<table border=\"1\" class=\"dataframe\">\n",
       "  <thead>\n",
       "    <tr style=\"text-align: right;\">\n",
       "      <th></th>\n",
       "      <th>tempo</th>\n",
       "      <th>chroma_number</th>\n",
       "      <th>zero_crossing_rate</th>\n",
       "      <th>energy_entropy</th>\n",
       "      <th>spectral_centroid</th>\n",
       "      <th>title</th>\n",
       "      <th>artist</th>\n",
       "      <th>primary</th>\n",
       "      <th>secondary</th>\n",
       "    </tr>\n",
       "  </thead>\n",
       "  <tbody>\n",
       "    <tr>\n",
       "      <th>0</th>\n",
       "      <td>69.837416</td>\n",
       "      <td>-0.011128</td>\n",
       "      <td>0.053817</td>\n",
       "      <td>3.185847</td>\n",
       "      <td>0.136686</td>\n",
       "      <td>baby, don't cry</td>\n",
       "      <td>exo</td>\n",
       "      <td>2</td>\n",
       "      <td>4</td>\n",
       "    </tr>\n",
       "  </tbody>\n",
       "</table>\n",
       "</div>"
      ],
      "text/plain": [
       "       tempo  chroma_number  zero_crossing_rate  energy_entropy  \\\n",
       "0  69.837416      -0.011128            0.053817        3.185847   \n",
       "\n",
       "   spectral_centroid            title artist  primary  secondary  \n",
       "0           0.136686  baby, don't cry    exo        2          4  "
      ]
     },
     "execution_count": 63,
     "metadata": {},
     "output_type": "execute_result"
    }
   ],
   "source": [
    "# merging is incorrect, does not work\n",
    "moods['song'] = moods['title'] + \" - \" + moods['artist']\n",
    "moods = moods.sort_values(by = ['song'])\n",
    "moods.reset_index(drop = True, inplace = True)\n",
    "\n",
    "new_features = features_df.merge(moods, on = \"song\", how = \"left\")\n",
    "new_features = new_features.drop(columns = ['song'])\n",
    "new_features"
   ]
  },
  {
   "cell_type": "code",
   "execution_count": 15,
   "id": "backed-georgia",
   "metadata": {},
   "outputs": [],
   "source": [
    "if not existing:\n",
    "    new_features = new_features[['title', 'artist', 'tempo', 'chroma_number', \n",
    "                                 'zero_crossing_rate', 'energy_entropy', \n",
    "                                 'spectral_centroid', 'primary', 'secondary']]\n",
    "    new_features.to_csv(\"../data/features.csv\", header = True, index = False)\n",
    "    \n",
    "    nn_features_df.to_csv(\"../data/nn_features.csv\", header = True, index = False)\n",
    "    \n",
    "    feat_names_df = pd.DataFrame(feat_names)\n",
    "    feat_names_df.to_csv(\"../data/nn_feature_names.csv\", header = True, index = False)\n",
    "else:\n",
    "    prev_features = prev_features.drop(columns = ['song'])\n",
    "    all_features = pd.concat([prev_features, new_features], ignore_index = True)\n",
    "    all_features = all_features[['title', 'artist', 'tempo', 'chroma_number', \n",
    "                                 'zero_crossing_rate', 'energy_entropy', \n",
    "                                 'spectral_centroid', 'primary', 'secondary']]\n",
    "    all_features.to_csv(\"../data/features.csv\", header = True, index = False)\n",
    "    \n",
    "    prev_nn = pd.read_csv(\"../data/nn_features.csv\")\n",
    "    all_nn = pd.concat([prev_nn, nn_features_df], ignore_index = True)\n",
    "    all_nn.to_csv(\"../data/nn_features.csv\", header = True, index = False)"
   ]
  },
  {
   "cell_type": "code",
   "execution_count": null,
   "id": "frank-tender",
   "metadata": {},
   "outputs": [],
   "source": [
    "# make sure to delete the directory missing and the text file missing.txt\n",
    "'''\n",
    "rm -r missing\n",
    "rm missing.txt\n",
    "'''"
   ]
  }
 ],
 "metadata": {
  "kernelspec": {
   "display_name": "Python 3",
   "language": "python",
   "name": "python3"
  },
  "language_info": {
   "codemirror_mode": {
    "name": "ipython",
    "version": 3
   },
   "file_extension": ".py",
   "mimetype": "text/x-python",
   "name": "python",
   "nbconvert_exporter": "python",
   "pygments_lexer": "ipython3",
   "version": "3.8.5"
  }
 },
 "nbformat": 4,
 "nbformat_minor": 5
}
