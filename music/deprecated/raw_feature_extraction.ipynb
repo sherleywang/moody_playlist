{
 "cells": [
  {
   "cell_type": "code",
   "execution_count": null,
   "id": "leading-dependence",
   "metadata": {},
   "outputs": [],
   "source": [
    "# import packages\n",
    "import os\n",
    "import librosa\n",
    "import numpy as np\n",
    "import pandas as pd\n",
    "import soundfile as sf\n",
    "from pydub import AudioSegment"
   ]
  },
  {
   "cell_type": "code",
   "execution_count": null,
   "id": "seven-weapon",
   "metadata": {},
   "outputs": [],
   "source": [
    "# initialize raw features data structures\n",
    "existing_raw = []\n",
    "new_raw_dict = {}"
   ]
  },
  {
   "cell_type": "code",
   "execution_count": null,
   "id": "comfortable-business",
   "metadata": {},
   "outputs": [],
   "source": [
    "# check and save if there are existing raw features\n",
    "if os.path.exists(\"../data/raw_features.csv\"):\n",
    "    prev_raw = pd.read_csv(\"../data/raw_features.csv\")\n",
    "    prev_raw.dropna(how = 'any')\n",
    "    prev_raw['song'] = prev_raw['title'] + \" - \" + prev_raw['artist']\n",
    "    existing_raw = prev_raw['song'].tolist()"
   ]
  },
  {
   "cell_type": "code",
   "execution_count": null,
   "id": "certified-blond",
   "metadata": {},
   "outputs": [],
   "source": [
    "# scan the directory for mp3 files\n",
    "for song in os.scandir(\".\"):\n",
    "    if song.path.endswith(\".mp3\") and song.is_file():\n",
    "        # skip ./ in the path to the mp3 file\n",
    "        file_name = song.path[2:]\n",
    "        song_name = file_name[:len(file_name) - 4]\n",
    "        if song_name not in existing_raw:\n",
    "            # set the channel and framerate\n",
    "            sound = AudioSegment.from_mp3(file_name)\n",
    "            sound = sound.set_channels(1)\n",
    "            sound = sound.set_frame_rate(16000)\n",
    "            sound.export(\"temp.wav\", format = \"wav\")\n",
    "            # raw feature extraction does not work for mp3s shorter than 35 seconds\n",
    "            for block in sf.blocks(\"temp.wav\", blocksize = 100000, start = 50000):\n",
    "                new_raw_dict[song_name] = block\n",
    "                break\n",
    "\n",
    "# if the temp.wav file exists, then conversion and extraction occurred\n",
    "if os.path.exists(\"temp.wav\"):\n",
    "    os.remove(\"temp.wav\")\n",
    "else:\n",
    "    print (\"No temporary wav file found, extraction failed.\")"
   ]
  },
  {
   "cell_type": "code",
   "execution_count": null,
   "id": "incorrect-spanking",
   "metadata": {},
   "outputs": [],
   "source": [
    "# format and sort the DataFrame with raw features\n",
    "new_raw = pd.DataFrame(new_raw_dict)\n",
    "new_raw = new_raw.transpose()\n",
    "new_raw.index.name = 'song'\n",
    "new_raw.reset_index(inplace = True)\n",
    "new_raw = new_raw.sort_values(by = ['song'])\n",
    "new_raw.reset_index(drop = True, inplace = True)"
   ]
  },
  {
   "cell_type": "code",
   "execution_count": null,
   "id": "subsequent-dubai",
   "metadata": {},
   "outputs": [],
   "source": [
    "# write raw features to csv\n",
    "if not existing_raw:\n",
    "    new_raw.to_csv(\"../data/raw_features.csv\", header = True, index = False)\n",
    "else:\n",
    "    all_raw = pd.concat([prev_raw, new_raw], ignore_index = True)\n",
    "    all_raw.to_csv(\"../data/raw_features.csv\", header = True, index = False)"
   ]
  }
 ],
 "metadata": {
  "kernelspec": {
   "display_name": "Python 3",
   "language": "python",
   "name": "python3"
  },
  "language_info": {
   "codemirror_mode": {
    "name": "ipython",
    "version": 3
   },
   "file_extension": ".py",
   "mimetype": "text/x-python",
   "name": "python",
   "nbconvert_exporter": "python",
   "pygments_lexer": "ipython3",
   "version": "3.8.5"
  }
 },
 "nbformat": 4,
 "nbformat_minor": 5
}
