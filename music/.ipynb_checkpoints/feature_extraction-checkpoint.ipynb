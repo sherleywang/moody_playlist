{
 "cells": [
  {
   "cell_type": "code",
   "execution_count": 1,
   "id": "broken-indian",
   "metadata": {},
   "outputs": [],
   "source": [
    "import librosa\n",
    "import pyAudioAnalysis as pyaudio\n",
    "import numpy as np\n",
    "import pandas as pd\n",
    "import os"
   ]
  },
  {
   "cell_type": "code",
   "execution_count": 2,
   "id": "entertaining-reserve",
   "metadata": {},
   "outputs": [],
   "source": [
    "from pyAudioAnalysis import audioBasicIO\n",
    "from pyAudioAnalysis import MidTermFeatures"
   ]
  },
  {
   "cell_type": "code",
   "execution_count": 3,
   "id": "aging-framing",
   "metadata": {},
   "outputs": [],
   "source": [
    "features = []\n",
    "existing = []\n",
    "missing = []\n",
    "prev_features = None"
   ]
  },
  {
   "cell_type": "code",
   "execution_count": null,
   "id": "hispanic-sellers",
   "metadata": {},
   "outputs": [],
   "source": [
    "if os.path.exists(\"../data/features.csv\"):\n",
    "    prev_features = pd.read_csv(\"../data/features.csv\")\n",
    "    prev_features.dropna(how = 'any')\n",
    "    prev_features['song'] = prev_features['title'] + \" - \" + prev_features['artist']\n",
    "    existing = prev_features['song'].tolist()"
   ]
  },
  {
   "cell_type": "code",
   "execution_count": 4,
   "id": "executive-trigger",
   "metadata": {},
   "outputs": [
    {
     "name": "stderr",
     "output_type": "stream",
     "text": [
      "/opt/anaconda3/envs/music/lib/python3.8/site-packages/librosa/core/audio.py:162: UserWarning: PySoundFile failed. Trying audioread instead.\n",
      "  warnings.warn(\"PySoundFile failed. Trying audioread instead.\")\n"
     ]
    },
    {
     "name": "stdout",
     "output_type": "stream",
     "text": [
      "['zhe shi ai - henry, donghae', 151.99908088235293, -0.020014190450434274]\n"
     ]
    },
    {
     "name": "stderr",
     "output_type": "stream",
     "text": [
      "/opt/anaconda3/envs/music/lib/python3.8/site-packages/librosa/core/audio.py:162: UserWarning: PySoundFile failed. Trying audioread instead.\n",
      "  warnings.warn(\"PySoundFile failed. Trying audioread instead.\")\n"
     ]
    },
    {
     "name": "stdout",
     "output_type": "stream",
     "text": [
      "['ai no katachi - tachibana keita', 103.359375, -0.012216292206368193]\n"
     ]
    },
    {
     "name": "stderr",
     "output_type": "stream",
     "text": [
      "/opt/anaconda3/envs/music/lib/python3.8/site-packages/librosa/core/audio.py:162: UserWarning: PySoundFile failed. Trying audioread instead.\n",
      "  warnings.warn(\"PySoundFile failed. Trying audioread instead.\")\n"
     ]
    },
    {
     "name": "stdout",
     "output_type": "stream",
     "text": [
      "['a thousand years - christina perri', 92.28515625, -0.01632074586115444]\n"
     ]
    },
    {
     "name": "stderr",
     "output_type": "stream",
     "text": [
      "/opt/anaconda3/envs/music/lib/python3.8/site-packages/librosa/core/audio.py:162: UserWarning: PySoundFile failed. Trying audioread instead.\n",
      "  warnings.warn(\"PySoundFile failed. Trying audioread instead.\")\n"
     ]
    },
    {
     "name": "stdout",
     "output_type": "stream",
     "text": [
      "['red - taylor swift', 123.046875, 0.033330368142967165]\n"
     ]
    },
    {
     "name": "stderr",
     "output_type": "stream",
     "text": [
      "/opt/anaconda3/envs/music/lib/python3.8/site-packages/librosa/core/audio.py:162: UserWarning: PySoundFile failed. Trying audioread instead.\n",
      "  warnings.warn(\"PySoundFile failed. Trying audioread instead.\")\n"
     ]
    },
    {
     "name": "stdout",
     "output_type": "stream",
     "text": [
      "['no air - jordin sparks, chris brown', 80.74951171875, 0.0039660891427376116]\n"
     ]
    },
    {
     "name": "stderr",
     "output_type": "stream",
     "text": [
      "/opt/anaconda3/envs/music/lib/python3.8/site-packages/librosa/core/audio.py:162: UserWarning: PySoundFile failed. Trying audioread instead.\n",
      "  warnings.warn(\"PySoundFile failed. Trying audioread instead.\")\n"
     ]
    },
    {
     "name": "stdout",
     "output_type": "stream",
     "text": [
      "['destiny of love - yiruma', 135.99917763157896, 0.02748063175612918]\n"
     ]
    },
    {
     "name": "stderr",
     "output_type": "stream",
     "text": [
      "/opt/anaconda3/envs/music/lib/python3.8/site-packages/librosa/core/audio.py:162: UserWarning: PySoundFile failed. Trying audioread instead.\n",
      "  warnings.warn(\"PySoundFile failed. Trying audioread instead.\")\n"
     ]
    },
    {
     "name": "stdout",
     "output_type": "stream",
     "text": [
      "['heartseeker - miraie, imeiden', 161.4990234375, -0.006401757218717205]\n"
     ]
    },
    {
     "name": "stderr",
     "output_type": "stream",
     "text": [
      "/opt/anaconda3/envs/music/lib/python3.8/site-packages/librosa/core/audio.py:162: UserWarning: PySoundFile failed. Trying audioread instead.\n",
      "  warnings.warn(\"PySoundFile failed. Trying audioread instead.\")\n"
     ]
    },
    {
     "name": "stdout",
     "output_type": "stream",
     "text": [
      "[\"it's you - henry\", 151.99908088235293, -0.0013526432818837847]\n"
     ]
    },
    {
     "name": "stderr",
     "output_type": "stream",
     "text": [
      "/opt/anaconda3/envs/music/lib/python3.8/site-packages/librosa/core/audio.py:162: UserWarning: PySoundFile failed. Trying audioread instead.\n",
      "  warnings.warn(\"PySoundFile failed. Trying audioread instead.\")\n"
     ]
    },
    {
     "name": "stdout",
     "output_type": "stream",
     "text": [
      "['somewhere - july', 89.10290948275862, -0.016939594660502842]\n"
     ]
    },
    {
     "name": "stderr",
     "output_type": "stream",
     "text": [
      "/opt/anaconda3/envs/music/lib/python3.8/site-packages/librosa/core/audio.py:162: UserWarning: PySoundFile failed. Trying audioread instead.\n",
      "  warnings.warn(\"PySoundFile failed. Trying audioread instead.\")\n"
     ]
    },
    {
     "name": "stdout",
     "output_type": "stream",
     "text": [
      "['fo xi shao nu - feng ti mo', 129.19921875, -0.0012236183198013175]\n"
     ]
    },
    {
     "name": "stderr",
     "output_type": "stream",
     "text": [
      "/opt/anaconda3/envs/music/lib/python3.8/site-packages/librosa/core/audio.py:162: UserWarning: PySoundFile failed. Trying audioread instead.\n",
      "  warnings.warn(\"PySoundFile failed. Trying audioread instead.\")\n"
     ]
    },
    {
     "name": "stdout",
     "output_type": "stream",
     "text": [
      "['hello - omfg', 103.359375, 0.0010392377516931107]\n"
     ]
    },
    {
     "name": "stderr",
     "output_type": "stream",
     "text": [
      "/opt/anaconda3/envs/music/lib/python3.8/site-packages/librosa/core/audio.py:162: UserWarning: PySoundFile failed. Trying audioread instead.\n",
      "  warnings.warn(\"PySoundFile failed. Trying audioread instead.\")\n"
     ]
    },
    {
     "name": "stdout",
     "output_type": "stream",
     "text": [
      "['what makes you beautiful - one direction', 123.046875, 0.02092259862142693]\n"
     ]
    },
    {
     "name": "stderr",
     "output_type": "stream",
     "text": [
      "/opt/anaconda3/envs/music/lib/python3.8/site-packages/librosa/core/audio.py:162: UserWarning: PySoundFile failed. Trying audioread instead.\n",
      "  warnings.warn(\"PySoundFile failed. Trying audioread instead.\")\n"
     ]
    },
    {
     "name": "stdout",
     "output_type": "stream",
     "text": [
      "['something i need - one republic', 99.38401442307692, 0.007352069794559086]\n"
     ]
    },
    {
     "name": "stderr",
     "output_type": "stream",
     "text": [
      "/opt/anaconda3/envs/music/lib/python3.8/site-packages/librosa/core/audio.py:162: UserWarning: PySoundFile failed. Trying audioread instead.\n",
      "  warnings.warn(\"PySoundFile failed. Trying audioread instead.\")\n"
     ]
    },
    {
     "name": "stdout",
     "output_type": "stream",
     "text": [
      "['dragon fight - takanashi yasuharu', 89.10290948275862, -0.013099527925621274]\n"
     ]
    },
    {
     "name": "stderr",
     "output_type": "stream",
     "text": [
      "/opt/anaconda3/envs/music/lib/python3.8/site-packages/librosa/core/audio.py:162: UserWarning: PySoundFile failed. Trying audioread instead.\n",
      "  warnings.warn(\"PySoundFile failed. Trying audioread instead.\")\n"
     ]
    },
    {
     "name": "stdout",
     "output_type": "stream",
     "text": [
      "['tell me why - teen top', 123.046875, -0.015594043114751759]\n"
     ]
    },
    {
     "name": "stderr",
     "output_type": "stream",
     "text": [
      "/opt/anaconda3/envs/music/lib/python3.8/site-packages/librosa/core/audio.py:162: UserWarning: PySoundFile failed. Trying audioread instead.\n",
      "  warnings.warn(\"PySoundFile failed. Trying audioread instead.\")\n"
     ]
    },
    {
     "name": "stdout",
     "output_type": "stream",
     "text": [
      "['i wish - one direction', 123.046875, 0.004288763742085811]\n"
     ]
    },
    {
     "name": "stderr",
     "output_type": "stream",
     "text": [
      "/opt/anaconda3/envs/music/lib/python3.8/site-packages/librosa/core/audio.py:162: UserWarning: PySoundFile failed. Trying audioread instead.\n",
      "  warnings.warn(\"PySoundFile failed. Trying audioread instead.\")\n"
     ]
    },
    {
     "name": "stdout",
     "output_type": "stream",
     "text": [
      "['mine - taylor swift', 123.046875, -0.001952825235896903]\n"
     ]
    },
    {
     "name": "stderr",
     "output_type": "stream",
     "text": [
      "/opt/anaconda3/envs/music/lib/python3.8/site-packages/librosa/core/audio.py:162: UserWarning: PySoundFile failed. Trying audioread instead.\n",
      "  warnings.warn(\"PySoundFile failed. Trying audioread instead.\")\n"
     ]
    },
    {
     "name": "stdout",
     "output_type": "stream",
     "text": [
      "['sparks fly - taylor swift', 117.45383522727273, -0.024645435849058286]\n"
     ]
    },
    {
     "name": "stderr",
     "output_type": "stream",
     "text": [
      "/opt/anaconda3/envs/music/lib/python3.8/site-packages/librosa/core/audio.py:162: UserWarning: PySoundFile failed. Trying audioread instead.\n",
      "  warnings.warn(\"PySoundFile failed. Trying audioread instead.\")\n"
     ]
    },
    {
     "name": "stdout",
     "output_type": "stream",
     "text": [
      "['traveler of the magic borders - takanashi yasuharu', 117.45383522727273, -0.012549795917427655]\n"
     ]
    },
    {
     "name": "stderr",
     "output_type": "stream",
     "text": [
      "/opt/anaconda3/envs/music/lib/python3.8/site-packages/librosa/core/audio.py:162: UserWarning: PySoundFile failed. Trying audioread instead.\n",
      "  warnings.warn(\"PySoundFile failed. Trying audioread instead.\")\n"
     ]
    },
    {
     "name": "stdout",
     "output_type": "stream",
     "text": [
      "['three dragon slayers - takanashi yasuharu', 78.30255681818181, 0.006103139509047781]\n"
     ]
    },
    {
     "name": "stderr",
     "output_type": "stream",
     "text": [
      "/opt/anaconda3/envs/music/lib/python3.8/site-packages/librosa/core/audio.py:162: UserWarning: PySoundFile failed. Trying audioread instead.\n",
      "  warnings.warn(\"PySoundFile failed. Trying audioread instead.\")\n"
     ]
    },
    {
     "name": "stdout",
     "output_type": "stream",
     "text": [
      "['wo shi zhen de ai guo ni - liu zeng tong', 143.5546875, 0.0005712135405318934]\n"
     ]
    },
    {
     "name": "stderr",
     "output_type": "stream",
     "text": [
      "/opt/anaconda3/envs/music/lib/python3.8/site-packages/librosa/core/audio.py:162: UserWarning: PySoundFile failed. Trying audioread instead.\n",
      "  warnings.warn(\"PySoundFile failed. Trying audioread instead.\")\n"
     ]
    },
    {
     "name": "stdout",
     "output_type": "stream",
     "text": [
      "['celestial spirit leo - takanashi yasuharu', 86.1328125, 0.0109553187548192]\n"
     ]
    },
    {
     "name": "stderr",
     "output_type": "stream",
     "text": [
      "/opt/anaconda3/envs/music/lib/python3.8/site-packages/librosa/core/audio.py:162: UserWarning: PySoundFile failed. Trying audioread instead.\n",
      "  warnings.warn(\"PySoundFile failed. Trying audioread instead.\")\n"
     ]
    },
    {
     "name": "stdout",
     "output_type": "stream",
     "text": [
      "['whistle - flo rida', 103.359375, -0.015469292596686538]\n"
     ]
    },
    {
     "name": "stderr",
     "output_type": "stream",
     "text": [
      "/opt/anaconda3/envs/music/lib/python3.8/site-packages/librosa/core/audio.py:162: UserWarning: PySoundFile failed. Trying audioread instead.\n",
      "  warnings.warn(\"PySoundFile failed. Trying audioread instead.\")\n"
     ]
    },
    {
     "name": "stdout",
     "output_type": "stream",
     "text": [
      "['morning - toshiro masuda', 117.45383522727273, -0.026717612158187947]\n"
     ]
    },
    {
     "name": "stderr",
     "output_type": "stream",
     "text": [
      "/opt/anaconda3/envs/music/lib/python3.8/site-packages/librosa/core/audio.py:162: UserWarning: PySoundFile failed. Trying audioread instead.\n",
      "  warnings.warn(\"PySoundFile failed. Trying audioread instead.\")\n"
     ]
    },
    {
     "name": "stdout",
     "output_type": "stream",
     "text": [
      "['xiao xing xing - wang su long', 135.99917763157896, 0.02233608819471615]\n"
     ]
    },
    {
     "name": "stderr",
     "output_type": "stream",
     "text": [
      "/opt/anaconda3/envs/music/lib/python3.8/site-packages/librosa/core/audio.py:162: UserWarning: PySoundFile failed. Trying audioread instead.\n",
      "  warnings.warn(\"PySoundFile failed. Trying audioread instead.\")\n"
     ]
    },
    {
     "name": "stdout",
     "output_type": "stream",
     "text": [
      "['mother - super junior', 80.74951171875, -0.018025239349598404]\n"
     ]
    },
    {
     "name": "stderr",
     "output_type": "stream",
     "text": [
      "/opt/anaconda3/envs/music/lib/python3.8/site-packages/librosa/core/audio.py:162: UserWarning: PySoundFile failed. Trying audioread instead.\n",
      "  warnings.warn(\"PySoundFile failed. Trying audioread instead.\")\n"
     ]
    },
    {
     "name": "stdout",
     "output_type": "stream",
     "text": [
      "['jing zhe - yin que shi ting', 123.046875, 0.022497121614629093]\n"
     ]
    },
    {
     "name": "stderr",
     "output_type": "stream",
     "text": [
      "/opt/anaconda3/envs/music/lib/python3.8/site-packages/librosa/core/audio.py:162: UserWarning: PySoundFile failed. Trying audioread instead.\n",
      "  warnings.warn(\"PySoundFile failed. Trying audioread instead.\")\n"
     ]
    },
    {
     "name": "stdout",
     "output_type": "stream",
     "text": [
      "['dreamer - super junior', 95.703125, 0.007970774511758446]\n"
     ]
    },
    {
     "name": "stderr",
     "output_type": "stream",
     "text": [
      "/opt/anaconda3/envs/music/lib/python3.8/site-packages/librosa/core/audio.py:162: UserWarning: PySoundFile failed. Trying audioread instead.\n",
      "  warnings.warn(\"PySoundFile failed. Trying audioread instead.\")\n"
     ]
    },
    {
     "name": "stdout",
     "output_type": "stream",
     "text": [
      "['silhouette - kana boon', 92.28515625, 0.006313550386394379]\n"
     ]
    },
    {
     "name": "stderr",
     "output_type": "stream",
     "text": [
      "/opt/anaconda3/envs/music/lib/python3.8/site-packages/librosa/core/audio.py:162: UserWarning: PySoundFile failed. Trying audioread instead.\n",
      "  warnings.warn(\"PySoundFile failed. Trying audioread instead.\")\n"
     ]
    },
    {
     "name": "stdout",
     "output_type": "stream",
     "text": [
      "['glass heart - jason chen', 117.45383522727273, -0.013093585369195656]\n"
     ]
    },
    {
     "name": "stderr",
     "output_type": "stream",
     "text": [
      "/opt/anaconda3/envs/music/lib/python3.8/site-packages/librosa/core/audio.py:162: UserWarning: PySoundFile failed. Trying audioread instead.\n",
      "  warnings.warn(\"PySoundFile failed. Trying audioread instead.\")\n"
     ]
    },
    {
     "name": "stdout",
     "output_type": "stream",
     "text": [
      "['a oh - super junior', 129.19921875, -0.005782174978379038]\n"
     ]
    },
    {
     "name": "stderr",
     "output_type": "stream",
     "text": [
      "/opt/anaconda3/envs/music/lib/python3.8/site-packages/librosa/core/audio.py:162: UserWarning: PySoundFile failed. Trying audioread instead.\n",
      "  warnings.warn(\"PySoundFile failed. Trying audioread instead.\")\n"
     ]
    },
    {
     "name": "stdout",
     "output_type": "stream",
     "text": [
      "['you he bu ke - xu song', 99.38401442307692, 0.01533914687834769]\n"
     ]
    },
    {
     "name": "stderr",
     "output_type": "stream",
     "text": [
      "/opt/anaconda3/envs/music/lib/python3.8/site-packages/librosa/core/audio.py:162: UserWarning: PySoundFile failed. Trying audioread instead.\n",
      "  warnings.warn(\"PySoundFile failed. Trying audioread instead.\")\n"
     ]
    },
    {
     "name": "stdout",
     "output_type": "stream",
     "text": [
      "['because of you - kelly clarkson', 69.83741554054055, -0.022511676338412886]\n"
     ]
    },
    {
     "name": "stderr",
     "output_type": "stream",
     "text": [
      "/opt/anaconda3/envs/music/lib/python3.8/site-packages/librosa/core/audio.py:162: UserWarning: PySoundFile failed. Trying audioread instead.\n",
      "  warnings.warn(\"PySoundFile failed. Trying audioread instead.\")\n"
     ]
    },
    {
     "name": "stdout",
     "output_type": "stream",
     "text": [
      "['norwegian pirate - two steps from hell', 161.4990234375, -0.008484705083681408]\n"
     ]
    },
    {
     "name": "stderr",
     "output_type": "stream",
     "text": [
      "/opt/anaconda3/envs/music/lib/python3.8/site-packages/librosa/core/audio.py:162: UserWarning: PySoundFile failed. Trying audioread instead.\n",
      "  warnings.warn(\"PySoundFile failed. Trying audioread instead.\")\n"
     ]
    },
    {
     "name": "stdout",
     "output_type": "stream",
     "text": [
      "['need you now - henry, hoya', 89.10290948275862, 0.019937481296705032]\n"
     ]
    },
    {
     "name": "stderr",
     "output_type": "stream",
     "text": [
      "/opt/anaconda3/envs/music/lib/python3.8/site-packages/librosa/core/audio.py:162: UserWarning: PySoundFile failed. Trying audioread instead.\n",
      "  warnings.warn(\"PySoundFile failed. Trying audioread instead.\")\n"
     ]
    },
    {
     "name": "stdout",
     "output_type": "stream",
     "text": [
      "['the story of us - taylor swift', 143.5546875, 0.029204194713596227]\n"
     ]
    },
    {
     "name": "stderr",
     "output_type": "stream",
     "text": [
      "/opt/anaconda3/envs/music/lib/python3.8/site-packages/librosa/core/audio.py:162: UserWarning: PySoundFile failed. Trying audioread instead.\n",
      "  warnings.warn(\"PySoundFile failed. Trying audioread instead.\")\n"
     ]
    },
    {
     "name": "stdout",
     "output_type": "stream",
     "text": [
      "['the colonel - two steps from hell', 89.10290948275862, -0.023732756171060333]\n"
     ]
    },
    {
     "name": "stderr",
     "output_type": "stream",
     "text": [
      "/opt/anaconda3/envs/music/lib/python3.8/site-packages/librosa/core/audio.py:162: UserWarning: PySoundFile failed. Trying audioread instead.\n",
      "  warnings.warn(\"PySoundFile failed. Trying audioread instead.\")\n"
     ]
    },
    {
     "name": "stdout",
     "output_type": "stream",
     "text": [
      "['try - pink', 103.359375, 0.021059716187481155]\n"
     ]
    },
    {
     "name": "stderr",
     "output_type": "stream",
     "text": [
      "/opt/anaconda3/envs/music/lib/python3.8/site-packages/librosa/core/audio.py:162: UserWarning: PySoundFile failed. Trying audioread instead.\n",
      "  warnings.warn(\"PySoundFile failed. Trying audioread instead.\")\n"
     ]
    },
    {
     "name": "stdout",
     "output_type": "stream",
     "text": [
      "['ni cong bu zhi dao - liu zeng tong', 86.1328125, -0.009262435901882492]\n"
     ]
    },
    {
     "name": "stderr",
     "output_type": "stream",
     "text": [
      "/opt/anaconda3/envs/music/lib/python3.8/site-packages/librosa/core/audio.py:162: UserWarning: PySoundFile failed. Trying audioread instead.\n",
      "  warnings.warn(\"PySoundFile failed. Trying audioread instead.\")\n"
     ]
    },
    {
     "name": "stdout",
     "output_type": "stream",
     "text": [
      "['let me love you - mario', 184.5703125, -0.024100662749550937]\n"
     ]
    },
    {
     "name": "stderr",
     "output_type": "stream",
     "text": [
      "/opt/anaconda3/envs/music/lib/python3.8/site-packages/librosa/core/audio.py:162: UserWarning: PySoundFile failed. Trying audioread instead.\n",
      "  warnings.warn(\"PySoundFile failed. Trying audioread instead.\")\n"
     ]
    },
    {
     "name": "stdout",
     "output_type": "stream",
     "text": [
      "[\"live while we're young - one direction\", 123.046875, 0.014973390490779243]\n"
     ]
    },
    {
     "name": "stderr",
     "output_type": "stream",
     "text": [
      "/opt/anaconda3/envs/music/lib/python3.8/site-packages/librosa/core/audio.py:162: UserWarning: PySoundFile failed. Trying audioread instead.\n",
      "  warnings.warn(\"PySoundFile failed. Trying audioread instead.\")\n"
     ]
    },
    {
     "name": "stdout",
     "output_type": "stream",
     "text": [
      "['kiss the rain - yiruma', 129.19921875, -0.022612350936845844]\n"
     ]
    },
    {
     "name": "stderr",
     "output_type": "stream",
     "text": [
      "/opt/anaconda3/envs/music/lib/python3.8/site-packages/librosa/core/audio.py:162: UserWarning: PySoundFile failed. Trying audioread instead.\n",
      "  warnings.warn(\"PySoundFile failed. Trying audioread instead.\")\n"
     ]
    },
    {
     "name": "stdout",
     "output_type": "stream",
     "text": [
      "['hua shui yue - vk', 73.828125, -0.02038337203955404]\n"
     ]
    },
    {
     "name": "stderr",
     "output_type": "stream",
     "text": [
      "/opt/anaconda3/envs/music/lib/python3.8/site-packages/librosa/core/audio.py:162: UserWarning: PySoundFile failed. Trying audioread instead.\n",
      "  warnings.warn(\"PySoundFile failed. Trying audioread instead.\")\n"
     ]
    },
    {
     "name": "stdout",
     "output_type": "stream",
     "text": [
      "['fade - alan walker', 89.10290948275862, 0.005338110710013556]\n"
     ]
    },
    {
     "name": "stderr",
     "output_type": "stream",
     "text": [
      "/opt/anaconda3/envs/music/lib/python3.8/site-packages/librosa/core/audio.py:162: UserWarning: PySoundFile failed. Trying audioread instead.\n",
      "  warnings.warn(\"PySoundFile failed. Trying audioread instead.\")\n"
     ]
    },
    {
     "name": "stdout",
     "output_type": "stream",
     "text": [
      "['here we go - super junior', 117.45383522727273, 0.0006970009197766454]\n"
     ]
    },
    {
     "name": "stderr",
     "output_type": "stream",
     "text": [
      "/opt/anaconda3/envs/music/lib/python3.8/site-packages/librosa/core/audio.py:162: UserWarning: PySoundFile failed. Trying audioread instead.\n",
      "  warnings.warn(\"PySoundFile failed. Trying audioread instead.\")\n"
     ]
    },
    {
     "name": "stdout",
     "output_type": "stream",
     "text": [
      "['after rain - aimer', 117.45383522727273, -0.010324108943978054]\n"
     ]
    },
    {
     "name": "stderr",
     "output_type": "stream",
     "text": [
      "/opt/anaconda3/envs/music/lib/python3.8/site-packages/librosa/core/audio.py:162: UserWarning: PySoundFile failed. Trying audioread instead.\n",
      "  warnings.warn(\"PySoundFile failed. Trying audioread instead.\")\n"
     ]
    },
    {
     "name": "stdout",
     "output_type": "stream",
     "text": [
      "['just dance - lady gaga', 117.45383522727273, 0.009512477723852017]\n"
     ]
    },
    {
     "name": "stderr",
     "output_type": "stream",
     "text": [
      "/opt/anaconda3/envs/music/lib/python3.8/site-packages/librosa/core/audio.py:162: UserWarning: PySoundFile failed. Trying audioread instead.\n",
      "  warnings.warn(\"PySoundFile failed. Trying audioread instead.\")\n"
     ]
    },
    {
     "name": "stdout",
     "output_type": "stream",
     "text": [
      "['save you tonight - one direction', 129.19921875, -0.02005143887834863]\n"
     ]
    },
    {
     "name": "stderr",
     "output_type": "stream",
     "text": [
      "/opt/anaconda3/envs/music/lib/python3.8/site-packages/librosa/core/audio.py:162: UserWarning: PySoundFile failed. Trying audioread instead.\n",
      "  warnings.warn(\"PySoundFile failed. Trying audioread instead.\")\n"
     ]
    },
    {
     "name": "stdout",
     "output_type": "stream",
     "text": [
      "[\"dawn star and boy's song - sereno\", 95.703125, 0.01655639874870809]\n"
     ]
    },
    {
     "name": "stderr",
     "output_type": "stream",
     "text": [
      "/opt/anaconda3/envs/music/lib/python3.8/site-packages/librosa/core/audio.py:162: UserWarning: PySoundFile failed. Trying audioread instead.\n",
      "  warnings.warn(\"PySoundFile failed. Trying audioread instead.\")\n"
     ]
    },
    {
     "name": "stdout",
     "output_type": "stream",
     "text": [
      "['mitsuha no tsugaku - radwimps', 99.38401442307692, -0.028683056650625077]\n"
     ]
    },
    {
     "name": "stderr",
     "output_type": "stream",
     "text": [
      "/opt/anaconda3/envs/music/lib/python3.8/site-packages/librosa/core/audio.py:162: UserWarning: PySoundFile failed. Trying audioread instead.\n",
      "  warnings.warn(\"PySoundFile failed. Trying audioread instead.\")\n"
     ]
    },
    {
     "name": "stdout",
     "output_type": "stream",
     "text": [
      "['rainy summer - sereno', 117.45383522727273, -0.017700233620999484]\n"
     ]
    },
    {
     "name": "stderr",
     "output_type": "stream",
     "text": [
      "/opt/anaconda3/envs/music/lib/python3.8/site-packages/librosa/core/audio.py:162: UserWarning: PySoundFile failed. Trying audioread instead.\n",
      "  warnings.warn(\"PySoundFile failed. Trying audioread instead.\")\n"
     ]
    },
    {
     "name": "stdout",
     "output_type": "stream",
     "text": [
      "['dorothy - super junior', 143.5546875, -0.012695422394725245]\n"
     ]
    },
    {
     "name": "stderr",
     "output_type": "stream",
     "text": [
      "/opt/anaconda3/envs/music/lib/python3.8/site-packages/librosa/core/audio.py:162: UserWarning: PySoundFile failed. Trying audioread instead.\n",
      "  warnings.warn(\"PySoundFile failed. Trying audioread instead.\")\n"
     ]
    },
    {
     "name": "stdout",
     "output_type": "stream",
     "text": [
      "['everytime we touch - cascada', 143.5546875, -0.008648161975629521]\n"
     ]
    },
    {
     "name": "stderr",
     "output_type": "stream",
     "text": [
      "/opt/anaconda3/envs/music/lib/python3.8/site-packages/librosa/core/audio.py:162: UserWarning: PySoundFile failed. Trying audioread instead.\n",
      "  warnings.warn(\"PySoundFile failed. Trying audioread instead.\")\n"
     ]
    },
    {
     "name": "stdout",
     "output_type": "stream",
     "text": [
      "['angela - super junior', 107.666015625, -0.001114500368419951]\n"
     ]
    },
    {
     "name": "stderr",
     "output_type": "stream",
     "text": [
      "/opt/anaconda3/envs/music/lib/python3.8/site-packages/librosa/core/audio.py:162: UserWarning: PySoundFile failed. Trying audioread instead.\n",
      "  warnings.warn(\"PySoundFile failed. Trying audioread instead.\")\n"
     ]
    },
    {
     "name": "stdout",
     "output_type": "stream",
     "text": [
      "['ji jing zhi kong - fu xu', 129.19921875, 0.050666132062755866]\n"
     ]
    },
    {
     "name": "stderr",
     "output_type": "stream",
     "text": [
      "/opt/anaconda3/envs/music/lib/python3.8/site-packages/librosa/core/audio.py:162: UserWarning: PySoundFile failed. Trying audioread instead.\n",
      "  warnings.warn(\"PySoundFile failed. Trying audioread instead.\")\n"
     ]
    },
    {
     "name": "stdout",
     "output_type": "stream",
     "text": [
      "['body language - jesse mccartney', 161.4990234375, -0.028805531400521778]\n"
     ]
    },
    {
     "name": "stderr",
     "output_type": "stream",
     "text": [
      "/opt/anaconda3/envs/music/lib/python3.8/site-packages/librosa/core/audio.py:162: UserWarning: PySoundFile failed. Trying audioread instead.\n",
      "  warnings.warn(\"PySoundFile failed. Trying audioread instead.\")\n"
     ]
    },
    {
     "name": "stdout",
     "output_type": "stream",
     "text": [
      "['i love you - omfg', 103.359375, -0.012958232364874192]\n"
     ]
    },
    {
     "name": "stderr",
     "output_type": "stream",
     "text": [
      "/opt/anaconda3/envs/music/lib/python3.8/site-packages/librosa/core/audio.py:162: UserWarning: PySoundFile failed. Trying audioread instead.\n",
      "  warnings.warn(\"PySoundFile failed. Trying audioread instead.\")\n"
     ]
    },
    {
     "name": "stdout",
     "output_type": "stream",
     "text": [
      "['hey, soul sister - train', 95.703125, 0.029515811511813605]\n"
     ]
    },
    {
     "name": "stderr",
     "output_type": "stream",
     "text": [
      "/opt/anaconda3/envs/music/lib/python3.8/site-packages/librosa/core/audio.py:162: UserWarning: PySoundFile failed. Trying audioread instead.\n",
      "  warnings.warn(\"PySoundFile failed. Trying audioread instead.\")\n"
     ]
    },
    {
     "name": "stdout",
     "output_type": "stream",
     "text": [
      "[\"don't stop - 5 seconds of summer\", 151.99908088235293, -0.004306464315502128]\n"
     ]
    },
    {
     "name": "stderr",
     "output_type": "stream",
     "text": [
      "/opt/anaconda3/envs/music/lib/python3.8/site-packages/librosa/core/audio.py:162: UserWarning: PySoundFile failed. Trying audioread instead.\n",
      "  warnings.warn(\"PySoundFile failed. Trying audioread instead.\")\n"
     ]
    },
    {
     "name": "stdout",
     "output_type": "stream",
     "text": [
      "['unexpectedly - jason chen', 112.34714673913044, -0.0064963193875992205]\n"
     ]
    },
    {
     "name": "stderr",
     "output_type": "stream",
     "text": [
      "/opt/anaconda3/envs/music/lib/python3.8/site-packages/librosa/core/audio.py:162: UserWarning: PySoundFile failed. Trying audioread instead.\n",
      "  warnings.warn(\"PySoundFile failed. Trying audioread instead.\")\n"
     ]
    },
    {
     "name": "stdout",
     "output_type": "stream",
     "text": [
      "['youth - troye sivan', 123.046875, -0.002241655945459056]\n"
     ]
    },
    {
     "name": "stderr",
     "output_type": "stream",
     "text": [
      "/opt/anaconda3/envs/music/lib/python3.8/site-packages/librosa/core/audio.py:162: UserWarning: PySoundFile failed. Trying audioread instead.\n",
      "  warnings.warn(\"PySoundFile failed. Trying audioread instead.\")\n"
     ]
    },
    {
     "name": "stdout",
     "output_type": "stream",
     "text": [
      "['people of the floating island - takanashi yasuharu', 117.45383522727273, -0.001028311404851316]\n"
     ]
    },
    {
     "name": "stderr",
     "output_type": "stream",
     "text": [
      "/opt/anaconda3/envs/music/lib/python3.8/site-packages/librosa/core/audio.py:162: UserWarning: PySoundFile failed. Trying audioread instead.\n",
      "  warnings.warn(\"PySoundFile failed. Trying audioread instead.\")\n"
     ]
    },
    {
     "name": "stdout",
     "output_type": "stream",
     "text": [
      "['wait for you - elliot yamin', 117.45383522727273, -0.01954246593441356]\n"
     ]
    },
    {
     "name": "stderr",
     "output_type": "stream",
     "text": [
      "/opt/anaconda3/envs/music/lib/python3.8/site-packages/librosa/core/audio.py:162: UserWarning: PySoundFile failed. Trying audioread instead.\n",
      "  warnings.warn(\"PySoundFile failed. Trying audioread instead.\")\n"
     ]
    },
    {
     "name": "stdout",
     "output_type": "stream",
     "text": [
      "['beggin on your knees - victoria justice', 129.19921875, -0.01633215384444978]\n"
     ]
    },
    {
     "name": "stderr",
     "output_type": "stream",
     "text": [
      "/opt/anaconda3/envs/music/lib/python3.8/site-packages/librosa/core/audio.py:162: UserWarning: PySoundFile failed. Trying audioread instead.\n",
      "  warnings.warn(\"PySoundFile failed. Trying audioread instead.\")\n"
     ]
    },
    {
     "name": "stdout",
     "output_type": "stream",
     "text": [
      "[\"you don't go - super junior\", 99.38401442307692, 0.02676868083358136]\n"
     ]
    },
    {
     "name": "stderr",
     "output_type": "stream",
     "text": [
      "/opt/anaconda3/envs/music/lib/python3.8/site-packages/librosa/core/audio.py:162: UserWarning: PySoundFile failed. Trying audioread instead.\n",
      "  warnings.warn(\"PySoundFile failed. Trying audioread instead.\")\n"
     ]
    },
    {
     "name": "stdout",
     "output_type": "stream",
     "text": [
      "['theme of el - yamagami takeshi', 123.046875, 0.032736513643320066]\n"
     ]
    },
    {
     "name": "stderr",
     "output_type": "stream",
     "text": [
      "/opt/anaconda3/envs/music/lib/python3.8/site-packages/librosa/core/audio.py:162: UserWarning: PySoundFile failed. Trying audioread instead.\n",
      "  warnings.warn(\"PySoundFile failed. Trying audioread instead.\")\n"
     ]
    },
    {
     "name": "stdout",
     "output_type": "stream",
     "text": [
      "['faded - alan walker', 89.10290948275862, 0.006892178554981595]\n"
     ]
    },
    {
     "name": "stderr",
     "output_type": "stream",
     "text": [
      "/opt/anaconda3/envs/music/lib/python3.8/site-packages/librosa/core/audio.py:162: UserWarning: PySoundFile failed. Trying audioread instead.\n",
      "  warnings.warn(\"PySoundFile failed. Trying audioread instead.\")\n"
     ]
    },
    {
     "name": "stdout",
     "output_type": "stream",
     "text": [
      "['wan you yin li - wang su long', 95.703125, 0.020189782780537933]\n"
     ]
    },
    {
     "name": "stderr",
     "output_type": "stream",
     "text": [
      "/opt/anaconda3/envs/music/lib/python3.8/site-packages/librosa/core/audio.py:162: UserWarning: PySoundFile failed. Trying audioread instead.\n",
      "  warnings.warn(\"PySoundFile failed. Trying audioread instead.\")\n"
     ]
    },
    {
     "name": "stdout",
     "output_type": "stream",
     "text": [
      "['the relief - kajiura yuki', 107.666015625, -0.01203227183610278]\n"
     ]
    },
    {
     "name": "stderr",
     "output_type": "stream",
     "text": [
      "/opt/anaconda3/envs/music/lib/python3.8/site-packages/librosa/core/audio.py:162: UserWarning: PySoundFile failed. Trying audioread instead.\n",
      "  warnings.warn(\"PySoundFile failed. Trying audioread instead.\")\n"
     ]
    },
    {
     "name": "stdout",
     "output_type": "stream",
     "text": [
      "['dragon cry - takanashi yasuharu', 95.703125, -0.015023271556128748]\n"
     ]
    },
    {
     "name": "stderr",
     "output_type": "stream",
     "text": [
      "/opt/anaconda3/envs/music/lib/python3.8/site-packages/librosa/core/audio.py:162: UserWarning: PySoundFile failed. Trying audioread instead.\n",
      "  warnings.warn(\"PySoundFile failed. Trying audioread instead.\")\n"
     ]
    },
    {
     "name": "stdout",
     "output_type": "stream",
     "text": [
      "['houki boshi - younha', 78.30255681818181, 0.018821466869468055]\n"
     ]
    },
    {
     "name": "stderr",
     "output_type": "stream",
     "text": [
      "/opt/anaconda3/envs/music/lib/python3.8/site-packages/librosa/core/audio.py:162: UserWarning: PySoundFile failed. Trying audioread instead.\n",
      "  warnings.warn(\"PySoundFile failed. Trying audioread instead.\")\n"
     ]
    },
    {
     "name": "stdout",
     "output_type": "stream",
     "text": [
      "['bie qing yi shuo ai - cheng xin', 117.45383522727273, -0.007790719688954155]\n"
     ]
    },
    {
     "name": "stderr",
     "output_type": "stream",
     "text": [
      "/opt/anaconda3/envs/music/lib/python3.8/site-packages/librosa/core/audio.py:162: UserWarning: PySoundFile failed. Trying audioread instead.\n",
      "  warnings.warn(\"PySoundFile failed. Trying audioread instead.\")\n"
     ]
    },
    {
     "name": "stdout",
     "output_type": "stream",
     "text": [
      "['not over you - gavin degraw', 143.5546875, -0.0075298342572696665]\n"
     ]
    },
    {
     "name": "stderr",
     "output_type": "stream",
     "text": [
      "/opt/anaconda3/envs/music/lib/python3.8/site-packages/librosa/core/audio.py:162: UserWarning: PySoundFile failed. Trying audioread instead.\n",
      "  warnings.warn(\"PySoundFile failed. Trying audioread instead.\")\n"
     ]
    },
    {
     "name": "stdout",
     "output_type": "stream",
     "text": [
      "['city - yamagami takeshi', 107.666015625, 0.03597901234978304]\n"
     ]
    },
    {
     "name": "stderr",
     "output_type": "stream",
     "text": [
      "/opt/anaconda3/envs/music/lib/python3.8/site-packages/librosa/core/audio.py:162: UserWarning: PySoundFile failed. Trying audioread instead.\n",
      "  warnings.warn(\"PySoundFile failed. Trying audioread instead.\")\n"
     ]
    },
    {
     "name": "stdout",
     "output_type": "stream",
     "text": [
      "['who says - selena gomez', 99.38401442307692, 0.017894557862239743]\n"
     ]
    },
    {
     "name": "stderr",
     "output_type": "stream",
     "text": [
      "/opt/anaconda3/envs/music/lib/python3.8/site-packages/librosa/core/audio.py:162: UserWarning: PySoundFile failed. Trying audioread instead.\n",
      "  warnings.warn(\"PySoundFile failed. Trying audioread instead.\")\n"
     ]
    },
    {
     "name": "stdout",
     "output_type": "stream",
     "text": [
      "[\"sakura's theme - toshiro masuda\", 89.10290948275862, -0.030935974192868875]\n"
     ]
    },
    {
     "name": "stderr",
     "output_type": "stream",
     "text": [
      "/opt/anaconda3/envs/music/lib/python3.8/site-packages/librosa/core/audio.py:162: UserWarning: PySoundFile failed. Trying audioread instead.\n",
      "  warnings.warn(\"PySoundFile failed. Trying audioread instead.\")\n"
     ]
    },
    {
     "name": "stdout",
     "output_type": "stream",
     "text": [
      "['the sea - yamagami takeshi', 129.19921875, 0.00973826191841306]\n"
     ]
    },
    {
     "name": "stderr",
     "output_type": "stream",
     "text": [
      "/opt/anaconda3/envs/music/lib/python3.8/site-packages/librosa/core/audio.py:162: UserWarning: PySoundFile failed. Trying audioread instead.\n",
      "  warnings.warn(\"PySoundFile failed. Trying audioread instead.\")\n"
     ]
    },
    {
     "name": "stdout",
     "output_type": "stream",
     "text": [
      "['zurui yo - chihiro', 161.4990234375, 0.0019649766952182473]\n"
     ]
    },
    {
     "name": "stderr",
     "output_type": "stream",
     "text": [
      "/opt/anaconda3/envs/music/lib/python3.8/site-packages/librosa/core/audio.py:162: UserWarning: PySoundFile failed. Trying audioread instead.\n",
      "  warnings.warn(\"PySoundFile failed. Trying audioread instead.\")\n"
     ]
    },
    {
     "name": "stdout",
     "output_type": "stream",
     "text": [
      "['may be - yiruma', 112.34714673913044, -0.012831373524397007]\n"
     ]
    },
    {
     "name": "stderr",
     "output_type": "stream",
     "text": [
      "/opt/anaconda3/envs/music/lib/python3.8/site-packages/librosa/core/audio.py:162: UserWarning: PySoundFile failed. Trying audioread instead.\n",
      "  warnings.warn(\"PySoundFile failed. Trying audioread instead.\")\n"
     ]
    },
    {
     "name": "stdout",
     "output_type": "stream",
     "text": [
      "[\"don't wake me - skillet\", 129.19921875, -0.02636705017505508]\n"
     ]
    },
    {
     "name": "stderr",
     "output_type": "stream",
     "text": [
      "/opt/anaconda3/envs/music/lib/python3.8/site-packages/librosa/core/audio.py:162: UserWarning: PySoundFile failed. Trying audioread instead.\n",
      "  warnings.warn(\"PySoundFile failed. Trying audioread instead.\")\n"
     ]
    },
    {
     "name": "stdout",
     "output_type": "stream",
     "text": [
      "['livin in - super junior', 103.359375, -0.013277763816483417]\n"
     ]
    },
    {
     "name": "stderr",
     "output_type": "stream",
     "text": [
      "/opt/anaconda3/envs/music/lib/python3.8/site-packages/librosa/core/audio.py:162: UserWarning: PySoundFile failed. Trying audioread instead.\n",
      "  warnings.warn(\"PySoundFile failed. Trying audioread instead.\")\n"
     ]
    },
    {
     "name": "stdout",
     "output_type": "stream",
     "text": [
      "['starry night rondo - sereno', 184.5703125, 0.022226994919581484]\n"
     ]
    },
    {
     "name": "stderr",
     "output_type": "stream",
     "text": [
      "/opt/anaconda3/envs/music/lib/python3.8/site-packages/librosa/core/audio.py:162: UserWarning: PySoundFile failed. Trying audioread instead.\n",
      "  warnings.warn(\"PySoundFile failed. Trying audioread instead.\")\n"
     ]
    },
    {
     "name": "stdout",
     "output_type": "stream",
     "text": [
      "['star at dawn - vk', 129.19921875, -0.023292772612424475]\n"
     ]
    },
    {
     "name": "stderr",
     "output_type": "stream",
     "text": [
      "/opt/anaconda3/envs/music/lib/python3.8/site-packages/librosa/core/audio.py:162: UserWarning: PySoundFile failed. Trying audioread instead.\n",
      "  warnings.warn(\"PySoundFile failed. Trying audioread instead.\")\n"
     ]
    },
    {
     "name": "stdout",
     "output_type": "stream",
     "text": [
      "[\"natsu's theme - takanashi yasuharu\", 129.19921875, -0.01600537319603211]\n"
     ]
    },
    {
     "name": "stderr",
     "output_type": "stream",
     "text": [
      "/opt/anaconda3/envs/music/lib/python3.8/site-packages/librosa/core/audio.py:162: UserWarning: PySoundFile failed. Trying audioread instead.\n",
      "  warnings.warn(\"PySoundFile failed. Trying audioread instead.\")\n"
     ]
    },
    {
     "name": "stdout",
     "output_type": "stream",
     "text": [
      "['dive to world - cherryblossom', 143.5546875, -0.002665922760720305]\n"
     ]
    },
    {
     "name": "stderr",
     "output_type": "stream",
     "text": [
      "/opt/anaconda3/envs/music/lib/python3.8/site-packages/librosa/core/audio.py:162: UserWarning: PySoundFile failed. Trying audioread instead.\n",
      "  warnings.warn(\"PySoundFile failed. Trying audioread instead.\")\n"
     ]
    },
    {
     "name": "stdout",
     "output_type": "stream",
     "text": [
      "['fairy tail rising - takanashi yasuharu', 112.34714673913044, -0.029997954390677883]\n"
     ]
    },
    {
     "name": "stderr",
     "output_type": "stream",
     "text": [
      "/opt/anaconda3/envs/music/lib/python3.8/site-packages/librosa/core/audio.py:162: UserWarning: PySoundFile failed. Trying audioread instead.\n",
      "  warnings.warn(\"PySoundFile failed. Trying audioread instead.\")\n"
     ]
    },
    {
     "name": "stdout",
     "output_type": "stream",
     "text": [
      "['spiral moon - sereno', 95.703125, 0.006111410502062347]\n"
     ]
    },
    {
     "name": "stderr",
     "output_type": "stream",
     "text": [
      "/opt/anaconda3/envs/music/lib/python3.8/site-packages/librosa/core/audio.py:162: UserWarning: PySoundFile failed. Trying audioread instead.\n",
      "  warnings.warn(\"PySoundFile failed. Trying audioread instead.\")\n"
     ]
    },
    {
     "name": "stdout",
     "output_type": "stream",
     "text": [
      "['spectre - alan walker', 129.19921875, 0.015029370776863367]\n"
     ]
    },
    {
     "name": "stderr",
     "output_type": "stream",
     "text": [
      "/opt/anaconda3/envs/music/lib/python3.8/site-packages/librosa/core/audio.py:162: UserWarning: PySoundFile failed. Trying audioread instead.\n",
      "  warnings.warn(\"PySoundFile failed. Trying audioread instead.\")\n"
     ]
    },
    {
     "name": "stdout",
     "output_type": "stream",
     "text": [
      "['alliance force, assemble - takanashi yasuharu', 95.703125, 0.007707513882594772]\n"
     ]
    },
    {
     "name": "stderr",
     "output_type": "stream",
     "text": [
      "/opt/anaconda3/envs/music/lib/python3.8/site-packages/librosa/core/audio.py:162: UserWarning: PySoundFile failed. Trying audioread instead.\n",
      "  warnings.warn(\"PySoundFile failed. Trying audioread instead.\")\n"
     ]
    },
    {
     "name": "stdout",
     "output_type": "stream",
     "text": [
      "['one thing - one direction', 129.19921875, 0.009096393550202728]\n"
     ]
    },
    {
     "name": "stderr",
     "output_type": "stream",
     "text": [
      "/opt/anaconda3/envs/music/lib/python3.8/site-packages/librosa/core/audio.py:162: UserWarning: PySoundFile failed. Trying audioread instead.\n",
      "  warnings.warn(\"PySoundFile failed. Trying audioread instead.\")\n"
     ]
    },
    {
     "name": "stdout",
     "output_type": "stream",
     "text": [
      "['festival - yamagami takeshi', 107.666015625, -0.01967515340819283]\n"
     ]
    },
    {
     "name": "stderr",
     "output_type": "stream",
     "text": [
      "/opt/anaconda3/envs/music/lib/python3.8/site-packages/librosa/core/audio.py:162: UserWarning: PySoundFile failed. Trying audioread instead.\n",
      "  warnings.warn(\"PySoundFile failed. Trying audioread instead.\")\n"
     ]
    },
    {
     "name": "stdout",
     "output_type": "stream",
     "text": [
      "['haru - super junior', 92.28515625, -0.02251503863608079]\n"
     ]
    },
    {
     "name": "stderr",
     "output_type": "stream",
     "text": [
      "/opt/anaconda3/envs/music/lib/python3.8/site-packages/librosa/core/audio.py:162: UserWarning: PySoundFile failed. Trying audioread instead.\n",
      "  warnings.warn(\"PySoundFile failed. Trying audioread instead.\")\n"
     ]
    },
    {
     "name": "stdout",
     "output_type": "stream",
     "text": [
      "['the monster - eminem, rihanna', 112.34714673913044, 0.011379822931062544]\n"
     ]
    },
    {
     "name": "stderr",
     "output_type": "stream",
     "text": [
      "/opt/anaconda3/envs/music/lib/python3.8/site-packages/librosa/core/audio.py:162: UserWarning: PySoundFile failed. Trying audioread instead.\n",
      "  warnings.warn(\"PySoundFile failed. Trying audioread instead.\")\n"
     ]
    },
    {
     "name": "stdout",
     "output_type": "stream",
     "text": [
      "['between - yesung', 99.38401442307692, -0.009141891827877188]\n"
     ]
    },
    {
     "name": "stderr",
     "output_type": "stream",
     "text": [
      "/opt/anaconda3/envs/music/lib/python3.8/site-packages/librosa/core/audio.py:162: UserWarning: PySoundFile failed. Trying audioread instead.\n",
      "  warnings.warn(\"PySoundFile failed. Trying audioread instead.\")\n"
     ]
    },
    {
     "name": "stdout",
     "output_type": "stream",
     "text": [
      "['deng ni - a lin', 129.19921875, -0.012441392682766101]\n"
     ]
    },
    {
     "name": "stderr",
     "output_type": "stream",
     "text": [
      "/opt/anaconda3/envs/music/lib/python3.8/site-packages/librosa/core/audio.py:162: UserWarning: PySoundFile failed. Trying audioread instead.\n",
      "  warnings.warn(\"PySoundFile failed. Trying audioread instead.\")\n"
     ]
    },
    {
     "name": "stdout",
     "output_type": "stream",
     "text": [
      "['river flows in you - yiruma', 143.5546875, 0.022345711602772555]\n"
     ]
    },
    {
     "name": "stderr",
     "output_type": "stream",
     "text": [
      "/opt/anaconda3/envs/music/lib/python3.8/site-packages/librosa/core/audio.py:162: UserWarning: PySoundFile failed. Trying audioread instead.\n",
      "  warnings.warn(\"PySoundFile failed. Trying audioread instead.\")\n"
     ]
    },
    {
     "name": "stdout",
     "output_type": "stream",
     "text": [
      "['talking with the star in the night - sereno', 92.28515625, 0.009998519244394106]\n"
     ]
    },
    {
     "name": "stderr",
     "output_type": "stream",
     "text": [
      "/opt/anaconda3/envs/music/lib/python3.8/site-packages/librosa/core/audio.py:162: UserWarning: PySoundFile failed. Trying audioread instead.\n",
      "  warnings.warn(\"PySoundFile failed. Trying audioread instead.\")\n"
     ]
    },
    {
     "name": "stdout",
     "output_type": "stream",
     "text": [
      "['for the win - two steps from hell', 117.45383522727273, -0.017863495011724538]\n"
     ]
    },
    {
     "name": "stderr",
     "output_type": "stream",
     "text": [
      "/opt/anaconda3/envs/music/lib/python3.8/site-packages/librosa/core/audio.py:162: UserWarning: PySoundFile failed. Trying audioread instead.\n",
      "  warnings.warn(\"PySoundFile failed. Trying audioread instead.\")\n"
     ]
    },
    {
     "name": "stdout",
     "output_type": "stream",
     "text": [
      "['invoke magic - takanashi yasuharu', 129.19921875, 0.01591975695958575]\n"
     ]
    },
    {
     "name": "stderr",
     "output_type": "stream",
     "text": [
      "/opt/anaconda3/envs/music/lib/python3.8/site-packages/librosa/core/audio.py:162: UserWarning: PySoundFile failed. Trying audioread instead.\n",
      "  warnings.warn(\"PySoundFile failed. Trying audioread instead.\")\n"
     ]
    },
    {
     "name": "stdout",
     "output_type": "stream",
     "text": [
      "['spin and burst - yaiba', 89.10290948275862, -0.0017774532365878546]\n"
     ]
    },
    {
     "name": "stderr",
     "output_type": "stream",
     "text": [
      "/opt/anaconda3/envs/music/lib/python3.8/site-packages/librosa/core/audio.py:162: UserWarning: PySoundFile failed. Trying audioread instead.\n",
      "  warnings.warn(\"PySoundFile failed. Trying audioread instead.\")\n"
     ]
    },
    {
     "name": "stdout",
     "output_type": "stream",
     "text": [
      "['count on you - jordin sparks, big time rush', 92.28515625, 0.004697856732316557]\n"
     ]
    },
    {
     "name": "stderr",
     "output_type": "stream",
     "text": [
      "/opt/anaconda3/envs/music/lib/python3.8/site-packages/librosa/core/audio.py:162: UserWarning: PySoundFile failed. Trying audioread instead.\n",
      "  warnings.warn(\"PySoundFile failed. Trying audioread instead.\")\n"
     ]
    },
    {
     "name": "stdout",
     "output_type": "stream",
     "text": [
      "['fight song - rachel platten', 172.265625, -0.003812855930150813]\n"
     ]
    },
    {
     "name": "stderr",
     "output_type": "stream",
     "text": [
      "/opt/anaconda3/envs/music/lib/python3.8/site-packages/librosa/core/audio.py:162: UserWarning: PySoundFile failed. Trying audioread instead.\n",
      "  warnings.warn(\"PySoundFile failed. Trying audioread instead.\")\n"
     ]
    },
    {
     "name": "stdout",
     "output_type": "stream",
     "text": [
      "['qing hua ci - jay chou', 107.666015625, 0.006708307648527076]\n"
     ]
    },
    {
     "name": "stderr",
     "output_type": "stream",
     "text": [
      "/opt/anaconda3/envs/music/lib/python3.8/site-packages/librosa/core/audio.py:162: UserWarning: PySoundFile failed. Trying audioread instead.\n",
      "  warnings.warn(\"PySoundFile failed. Trying audioread instead.\")\n"
     ]
    },
    {
     "name": "stdout",
     "output_type": "stream",
     "text": [
      "['no title - reol', 135.99917763157896, 0.006176362088003991]\n"
     ]
    },
    {
     "name": "stderr",
     "output_type": "stream",
     "text": [
      "/opt/anaconda3/envs/music/lib/python3.8/site-packages/librosa/core/audio.py:162: UserWarning: PySoundFile failed. Trying audioread instead.\n",
      "  warnings.warn(\"PySoundFile failed. Trying audioread instead.\")\n"
     ]
    },
    {
     "name": "stdout",
     "output_type": "stream",
     "text": [
      "[\"please don't go - joel adams\", 83.35433467741936, -0.001879427140398541]\n"
     ]
    },
    {
     "name": "stderr",
     "output_type": "stream",
     "text": [
      "/opt/anaconda3/envs/music/lib/python3.8/site-packages/librosa/core/audio.py:162: UserWarning: PySoundFile failed. Trying audioread instead.\n",
      "  warnings.warn(\"PySoundFile failed. Trying audioread instead.\")\n"
     ]
    },
    {
     "name": "stdout",
     "output_type": "stream",
     "text": [
      "['rugs from me to you - owl city', 151.99908088235293, -0.026281568100708582]\n"
     ]
    },
    {
     "name": "stderr",
     "output_type": "stream",
     "text": [
      "/opt/anaconda3/envs/music/lib/python3.8/site-packages/librosa/core/audio.py:162: UserWarning: PySoundFile failed. Trying audioread instead.\n",
      "  warnings.warn(\"PySoundFile failed. Trying audioread instead.\")\n"
     ]
    },
    {
     "name": "stdout",
     "output_type": "stream",
     "text": [
      "['dynamite - taio cruz', 117.45383522727273, 0.028146897818738373]\n"
     ]
    },
    {
     "name": "stderr",
     "output_type": "stream",
     "text": [
      "/opt/anaconda3/envs/music/lib/python3.8/site-packages/librosa/core/audio.py:162: UserWarning: PySoundFile failed. Trying audioread instead.\n",
      "  warnings.warn(\"PySoundFile failed. Trying audioread instead.\")\n"
     ]
    },
    {
     "name": "stdout",
     "output_type": "stream",
     "text": [
      "['daisy - stereo dive foundation', 184.5703125, -0.00832920846624894]\n"
     ]
    },
    {
     "name": "stderr",
     "output_type": "stream",
     "text": [
      "/opt/anaconda3/envs/music/lib/python3.8/site-packages/librosa/core/audio.py:162: UserWarning: PySoundFile failed. Trying audioread instead.\n",
      "  warnings.warn(\"PySoundFile failed. Trying audioread instead.\")\n"
     ]
    },
    {
     "name": "stdout",
     "output_type": "stream",
     "text": [
      "['half a heart - one direction', 151.99908088235293, -0.011312586485889327]\n"
     ]
    },
    {
     "name": "stderr",
     "output_type": "stream",
     "text": [
      "/opt/anaconda3/envs/music/lib/python3.8/site-packages/librosa/core/audio.py:162: UserWarning: PySoundFile failed. Trying audioread instead.\n",
      "  warnings.warn(\"PySoundFile failed. Trying audioread instead.\")\n"
     ]
    },
    {
     "name": "stdout",
     "output_type": "stream",
     "text": [
      "['heart of courage - two steps from hell', 135.99917763157896, -0.024097726565411325]\n"
     ]
    },
    {
     "name": "stderr",
     "output_type": "stream",
     "text": [
      "/opt/anaconda3/envs/music/lib/python3.8/site-packages/librosa/core/audio.py:162: UserWarning: PySoundFile failed. Trying audioread instead.\n",
      "  warnings.warn(\"PySoundFile failed. Trying audioread instead.\")\n"
     ]
    },
    {
     "name": "stdout",
     "output_type": "stream",
     "text": [
      "['loved you first - one direction', 123.046875, 0.006745692478305384]\n"
     ]
    },
    {
     "name": "stderr",
     "output_type": "stream",
     "text": [
      "/opt/anaconda3/envs/music/lib/python3.8/site-packages/librosa/core/audio.py:162: UserWarning: PySoundFile failed. Trying audioread instead.\n",
      "  warnings.warn(\"PySoundFile failed. Trying audioread instead.\")\n"
     ]
    },
    {
     "name": "stdout",
     "output_type": "stream",
     "text": [
      "['cassandra - two steps from hell', 117.45383522727273, -0.01731830532867276]\n"
     ]
    },
    {
     "name": "stderr",
     "output_type": "stream",
     "text": [
      "/opt/anaconda3/envs/music/lib/python3.8/site-packages/librosa/core/audio.py:162: UserWarning: PySoundFile failed. Trying audioread instead.\n",
      "  warnings.warn(\"PySoundFile failed. Trying audioread instead.\")\n"
     ]
    },
    {
     "name": "stdout",
     "output_type": "stream",
     "text": [
      "['sad past - takanashi yasuharu', 69.83741554054055, -0.017790333550923125]\n"
     ]
    },
    {
     "name": "stderr",
     "output_type": "stream",
     "text": [
      "/opt/anaconda3/envs/music/lib/python3.8/site-packages/librosa/core/audio.py:162: UserWarning: PySoundFile failed. Trying audioread instead.\n",
      "  warnings.warn(\"PySoundFile failed. Trying audioread instead.\")\n"
     ]
    },
    {
     "name": "stdout",
     "output_type": "stream",
     "text": [
      "['mad - neyo', 129.19921875, -0.014575567902513182]\n"
     ]
    },
    {
     "name": "stderr",
     "output_type": "stream",
     "text": [
      "/opt/anaconda3/envs/music/lib/python3.8/site-packages/librosa/core/audio.py:162: UserWarning: PySoundFile failed. Trying audioread instead.\n",
      "  warnings.warn(\"PySoundFile failed. Trying audioread instead.\")\n"
     ]
    },
    {
     "name": "stdout",
     "output_type": "stream",
     "text": [
      "['adore u - seventeen', 103.359375, -0.0077445566646183114]\n"
     ]
    },
    {
     "name": "stderr",
     "output_type": "stream",
     "text": [
      "/opt/anaconda3/envs/music/lib/python3.8/site-packages/librosa/core/audio.py:162: UserWarning: PySoundFile failed. Trying audioread instead.\n",
      "  warnings.warn(\"PySoundFile failed. Trying audioread instead.\")\n"
     ]
    },
    {
     "name": "stdout",
     "output_type": "stream",
     "text": [
      "['last first kiss - one direction', 161.4990234375, 0.015924645504883216]\n"
     ]
    },
    {
     "name": "stderr",
     "output_type": "stream",
     "text": [
      "/opt/anaconda3/envs/music/lib/python3.8/site-packages/librosa/core/audio.py:162: UserWarning: PySoundFile failed. Trying audioread instead.\n",
      "  warnings.warn(\"PySoundFile failed. Trying audioread instead.\")\n"
     ]
    },
    {
     "name": "stdout",
     "output_type": "stream",
     "text": [
      "['in love - july', 172.265625, -0.015880424965318014]\n"
     ]
    },
    {
     "name": "stderr",
     "output_type": "stream",
     "text": [
      "/opt/anaconda3/envs/music/lib/python3.8/site-packages/librosa/core/audio.py:162: UserWarning: PySoundFile failed. Trying audioread instead.\n",
      "  warnings.warn(\"PySoundFile failed. Trying audioread instead.\")\n"
     ]
    },
    {
     "name": "stdout",
     "output_type": "stream",
     "text": [
      "['katawaredoki - radwimps', 129.19921875, -0.03870614803903669]\n"
     ]
    },
    {
     "name": "stderr",
     "output_type": "stream",
     "text": [
      "/opt/anaconda3/envs/music/lib/python3.8/site-packages/librosa/core/audio.py:162: UserWarning: PySoundFile failed. Trying audioread instead.\n",
      "  warnings.warn(\"PySoundFile failed. Trying audioread instead.\")\n"
     ]
    },
    {
     "name": "stdout",
     "output_type": "stream",
     "text": [
      "['na ge ta shi ni - mai xiao er', 112.34714673913044, 0.019305075428611186]\n"
     ]
    },
    {
     "name": "stderr",
     "output_type": "stream",
     "text": [
      "/opt/anaconda3/envs/music/lib/python3.8/site-packages/librosa/core/audio.py:162: UserWarning: PySoundFile failed. Trying audioread instead.\n",
      "  warnings.warn(\"PySoundFile failed. Trying audioread instead.\")\n"
     ]
    },
    {
     "name": "stdout",
     "output_type": "stream",
     "text": [
      "['this is me - demi lovato, joe jonas', 92.28515625, -0.004799166308471168]\n"
     ]
    },
    {
     "name": "stderr",
     "output_type": "stream",
     "text": [
      "/opt/anaconda3/envs/music/lib/python3.8/site-packages/librosa/core/audio.py:162: UserWarning: PySoundFile failed. Trying audioread instead.\n",
      "  warnings.warn(\"PySoundFile failed. Trying audioread instead.\")\n"
     ]
    },
    {
     "name": "stdout",
     "output_type": "stream",
     "text": [
      "['still in love - jason chen', 143.5546875, -0.018925687674030023]\n"
     ]
    },
    {
     "name": "stderr",
     "output_type": "stream",
     "text": [
      "/opt/anaconda3/envs/music/lib/python3.8/site-packages/librosa/core/audio.py:162: UserWarning: PySoundFile failed. Trying audioread instead.\n",
      "  warnings.warn(\"PySoundFile failed. Trying audioread instead.\")\n"
     ]
    },
    {
     "name": "stdout",
     "output_type": "stream",
     "text": [
      "['battleborne - two steps from hell', 151.99908088235293, 0.007016301156254898]\n"
     ]
    },
    {
     "name": "stderr",
     "output_type": "stream",
     "text": [
      "/opt/anaconda3/envs/music/lib/python3.8/site-packages/librosa/core/audio.py:162: UserWarning: PySoundFile failed. Trying audioread instead.\n",
      "  warnings.warn(\"PySoundFile failed. Trying audioread instead.\")\n"
     ]
    },
    {
     "name": "stdout",
     "output_type": "stream",
     "text": [
      "['way back home - shaun', 135.99917763157896, -0.010064210979207393]\n"
     ]
    },
    {
     "name": "stderr",
     "output_type": "stream",
     "text": [
      "/opt/anaconda3/envs/music/lib/python3.8/site-packages/librosa/core/audio.py:162: UserWarning: PySoundFile failed. Trying audioread instead.\n",
      "  warnings.warn(\"PySoundFile failed. Trying audioread instead.\")\n"
     ]
    },
    {
     "name": "stdout",
     "output_type": "stream",
     "text": [
      "['victory - two steps from hell', 117.45383522727273, -0.00892723417624278]\n"
     ]
    },
    {
     "name": "stderr",
     "output_type": "stream",
     "text": [
      "/opt/anaconda3/envs/music/lib/python3.8/site-packages/librosa/core/audio.py:162: UserWarning: PySoundFile failed. Trying audioread instead.\n",
      "  warnings.warn(\"PySoundFile failed. Trying audioread instead.\")\n"
     ]
    },
    {
     "name": "stdout",
     "output_type": "stream",
     "text": [
      "[\"why don't we go there - one direction\", 161.4990234375, -0.013630135656122937]\n"
     ]
    },
    {
     "name": "stderr",
     "output_type": "stream",
     "text": [
      "/opt/anaconda3/envs/music/lib/python3.8/site-packages/librosa/core/audio.py:162: UserWarning: PySoundFile failed. Trying audioread instead.\n",
      "  warnings.warn(\"PySoundFile failed. Trying audioread instead.\")\n"
     ]
    },
    {
     "name": "stdout",
     "output_type": "stream",
     "text": [
      "['u smile - justin bieber', 75.99954044117646, -0.009513380032173703]\n"
     ]
    },
    {
     "name": "stderr",
     "output_type": "stream",
     "text": [
      "/opt/anaconda3/envs/music/lib/python3.8/site-packages/librosa/core/audio.py:162: UserWarning: PySoundFile failed. Trying audioread instead.\n",
      "  warnings.warn(\"PySoundFile failed. Trying audioread instead.\")\n"
     ]
    },
    {
     "name": "stdout",
     "output_type": "stream",
     "text": [
      "['strong bonds in mind - takanashi yasuharu', 161.4990234375, 0.03249639111139388]\n"
     ]
    },
    {
     "name": "stderr",
     "output_type": "stream",
     "text": [
      "/opt/anaconda3/envs/music/lib/python3.8/site-packages/librosa/core/audio.py:162: UserWarning: PySoundFile failed. Trying audioread instead.\n",
      "  warnings.warn(\"PySoundFile failed. Trying audioread instead.\")\n"
     ]
    },
    {
     "name": "stdout",
     "output_type": "stream",
     "text": [
      "['dragon slayer - takanashi yasuharu', 73.828125, 0.03253266970304222]\n"
     ]
    },
    {
     "name": "stderr",
     "output_type": "stream",
     "text": [
      "/opt/anaconda3/envs/music/lib/python3.8/site-packages/librosa/core/audio.py:162: UserWarning: PySoundFile failed. Trying audioread instead.\n",
      "  warnings.warn(\"PySoundFile failed. Trying audioread instead.\")\n"
     ]
    },
    {
     "name": "stdout",
     "output_type": "stream",
     "text": [
      "['gang hao yu jian ni - li yu gang', 78.30255681818181, -0.005552109420098208]\n"
     ]
    },
    {
     "name": "stderr",
     "output_type": "stream",
     "text": [
      "/opt/anaconda3/envs/music/lib/python3.8/site-packages/librosa/core/audio.py:162: UserWarning: PySoundFile failed. Trying audioread instead.\n",
      "  warnings.warn(\"PySoundFile failed. Trying audioread instead.\")\n"
     ]
    },
    {
     "name": "stdout",
     "output_type": "stream",
     "text": [
      "['hurry up and save me - tiffany giardina', 143.5546875, 0.004256395275002831]\n"
     ]
    },
    {
     "name": "stderr",
     "output_type": "stream",
     "text": [
      "/opt/anaconda3/envs/music/lib/python3.8/site-packages/librosa/core/audio.py:162: UserWarning: PySoundFile failed. Trying audioread instead.\n",
      "  warnings.warn(\"PySoundFile failed. Trying audioread instead.\")\n"
     ]
    },
    {
     "name": "stdout",
     "output_type": "stream",
     "text": [
      "['lost my pieces - hashimoto yukari', 86.1328125, -0.000301704055495572]\n"
     ]
    },
    {
     "name": "stderr",
     "output_type": "stream",
     "text": [
      "/opt/anaconda3/envs/music/lib/python3.8/site-packages/librosa/core/audio.py:162: UserWarning: PySoundFile failed. Trying audioread instead.\n",
      "  warnings.warn(\"PySoundFile failed. Trying audioread instead.\")\n"
     ]
    },
    {
     "name": "stdout",
     "output_type": "stream",
     "text": [
      "['am - one direction', 143.5546875, -0.011413206763969917]\n"
     ]
    },
    {
     "name": "stderr",
     "output_type": "stream",
     "text": [
      "/opt/anaconda3/envs/music/lib/python3.8/site-packages/librosa/core/audio.py:162: UserWarning: PySoundFile failed. Trying audioread instead.\n",
      "  warnings.warn(\"PySoundFile failed. Trying audioread instead.\")\n"
     ]
    },
    {
     "name": "stdout",
     "output_type": "stream",
     "text": [
      "[\"happy's theme - takanashi yasuharu\", 112.34714673913044, 0.00682293214051655]\n"
     ]
    },
    {
     "name": "stderr",
     "output_type": "stream",
     "text": [
      "/opt/anaconda3/envs/music/lib/python3.8/site-packages/librosa/core/audio.py:162: UserWarning: PySoundFile failed. Trying audioread instead.\n",
      "  warnings.warn(\"PySoundFile failed. Trying audioread instead.\")\n"
     ]
    },
    {
     "name": "stdout",
     "output_type": "stream",
     "text": [
      "['three - britney spears', 135.99917763157896, -0.007912213157360041]\n"
     ]
    },
    {
     "name": "stderr",
     "output_type": "stream",
     "text": [
      "/opt/anaconda3/envs/music/lib/python3.8/site-packages/librosa/core/audio.py:162: UserWarning: PySoundFile failed. Trying audioread instead.\n",
      "  warnings.warn(\"PySoundFile failed. Trying audioread instead.\")\n"
     ]
    },
    {
     "name": "stdout",
     "output_type": "stream",
     "text": [
      "['bad things - camila cabello, machine gun kelly', 135.99917763157896, 0.01347605818917859]\n"
     ]
    },
    {
     "name": "stderr",
     "output_type": "stream",
     "text": [
      "/opt/anaconda3/envs/music/lib/python3.8/site-packages/librosa/core/audio.py:162: UserWarning: PySoundFile failed. Trying audioread instead.\n",
      "  warnings.warn(\"PySoundFile failed. Trying audioread instead.\")\n"
     ]
    },
    {
     "name": "stdout",
     "output_type": "stream",
     "text": [
      "['maybe tomorrow - ryeowook', 123.046875, -0.017485015829075773]\n"
     ]
    },
    {
     "name": "stderr",
     "output_type": "stream",
     "text": [
      "/opt/anaconda3/envs/music/lib/python3.8/site-packages/librosa/core/audio.py:162: UserWarning: PySoundFile failed. Trying audioread instead.\n",
      "  warnings.warn(\"PySoundFile failed. Trying audioread instead.\")\n"
     ]
    },
    {
     "name": "stdout",
     "output_type": "stream",
     "text": [
      "['jiu shi xi huan ni - li meng yin', 89.10290948275862, 0.010755883734014737]\n"
     ]
    },
    {
     "name": "stderr",
     "output_type": "stream",
     "text": [
      "/opt/anaconda3/envs/music/lib/python3.8/site-packages/librosa/core/audio.py:162: UserWarning: PySoundFile failed. Trying audioread instead.\n",
      "  warnings.warn(\"PySoundFile failed. Trying audioread instead.\")\n"
     ]
    },
    {
     "name": "stdout",
     "output_type": "stream",
     "text": [
      "['wolves - selena gomez, marshmello', 123.046875, 0.025085534467572185]\n"
     ]
    },
    {
     "name": "stderr",
     "output_type": "stream",
     "text": [
      "/opt/anaconda3/envs/music/lib/python3.8/site-packages/librosa/core/audio.py:162: UserWarning: PySoundFile failed. Trying audioread instead.\n",
      "  warnings.warn(\"PySoundFile failed. Trying audioread instead.\")\n"
     ]
    },
    {
     "name": "stdout",
     "output_type": "stream",
     "text": [
      "['ye yan feng bo - yin que shi ting', 89.10290948275862, -0.01863864026293441]\n"
     ]
    },
    {
     "name": "stderr",
     "output_type": "stream",
     "text": [
      "/opt/anaconda3/envs/music/lib/python3.8/site-packages/librosa/core/audio.py:162: UserWarning: PySoundFile failed. Trying audioread instead.\n",
      "  warnings.warn(\"PySoundFile failed. Trying audioread instead.\")\n"
     ]
    },
    {
     "name": "stdout",
     "output_type": "stream",
     "text": [
      "['mirror night - vk', 86.1328125, -0.004544091358963209]\n"
     ]
    },
    {
     "name": "stderr",
     "output_type": "stream",
     "text": [
      "/opt/anaconda3/envs/music/lib/python3.8/site-packages/librosa/core/audio.py:162: UserWarning: PySoundFile failed. Trying audioread instead.\n",
      "  warnings.warn(\"PySoundFile failed. Trying audioread instead.\")\n"
     ]
    },
    {
     "name": "stdout",
     "output_type": "stream",
     "text": [
      "['pyramid - charice, iyaz', 86.1328125, 0.0241859970922945]\n"
     ]
    },
    {
     "name": "stderr",
     "output_type": "stream",
     "text": [
      "/opt/anaconda3/envs/music/lib/python3.8/site-packages/librosa/core/audio.py:162: UserWarning: PySoundFile failed. Trying audioread instead.\n",
      "  warnings.warn(\"PySoundFile failed. Trying audioread instead.\")\n"
     ]
    },
    {
     "name": "stdout",
     "output_type": "stream",
     "text": [
      "['promise - ft island', 129.19921875, 0.0014804140479765177]\n"
     ]
    },
    {
     "name": "stderr",
     "output_type": "stream",
     "text": [
      "/opt/anaconda3/envs/music/lib/python3.8/site-packages/librosa/core/audio.py:162: UserWarning: PySoundFile failed. Trying audioread instead.\n",
      "  warnings.warn(\"PySoundFile failed. Trying audioread instead.\")\n"
     ]
    },
    {
     "name": "stdout",
     "output_type": "stream",
     "text": [
      "['spinning world - diana garnet', 112.34714673913044, -0.020040542766628602]\n"
     ]
    },
    {
     "name": "stderr",
     "output_type": "stream",
     "text": [
      "/opt/anaconda3/envs/music/lib/python3.8/site-packages/librosa/core/audio.py:162: UserWarning: PySoundFile failed. Trying audioread instead.\n",
      "  warnings.warn(\"PySoundFile failed. Trying audioread instead.\")\n"
     ]
    },
    {
     "name": "stdout",
     "output_type": "stream",
     "text": [
      "['hello - teen top', 99.38401442307692, -0.017054152860270302]\n"
     ]
    },
    {
     "name": "stderr",
     "output_type": "stream",
     "text": [
      "/opt/anaconda3/envs/music/lib/python3.8/site-packages/librosa/core/audio.py:162: UserWarning: PySoundFile failed. Trying audioread instead.\n",
      "  warnings.warn(\"PySoundFile failed. Trying audioread instead.\")\n"
     ]
    },
    {
     "name": "stdout",
     "output_type": "stream",
     "text": [
      "['zui mei hun li - bai xiao bai', 112.34714673913044, 0.022650052788881915]\n"
     ]
    },
    {
     "name": "stderr",
     "output_type": "stream",
     "text": [
      "/opt/anaconda3/envs/music/lib/python3.8/site-packages/librosa/core/audio.py:162: UserWarning: PySoundFile failed. Trying audioread instead.\n",
      "  warnings.warn(\"PySoundFile failed. Trying audioread instead.\")\n"
     ]
    },
    {
     "name": "stdout",
     "output_type": "stream",
     "text": [
      "['naturally - selena gomez', 135.99917763157896, -0.005369901176332864]\n"
     ]
    },
    {
     "name": "stderr",
     "output_type": "stream",
     "text": [
      "/opt/anaconda3/envs/music/lib/python3.8/site-packages/librosa/core/audio.py:162: UserWarning: PySoundFile failed. Trying audioread instead.\n",
      "  warnings.warn(\"PySoundFile failed. Trying audioread instead.\")\n"
     ]
    },
    {
     "name": "stdout",
     "output_type": "stream",
     "text": [
      "['no average angel - tiffany giardina', 143.5546875, -0.008827407762209898]\n"
     ]
    },
    {
     "name": "stderr",
     "output_type": "stream",
     "text": [
      "/opt/anaconda3/envs/music/lib/python3.8/site-packages/librosa/core/audio.py:162: UserWarning: PySoundFile failed. Trying audioread instead.\n",
      "  warnings.warn(\"PySoundFile failed. Trying audioread instead.\")\n"
     ]
    },
    {
     "name": "stdout",
     "output_type": "stream",
     "text": [
      "['take it slow - taeyang', 112.34714673913044, -0.026263467233243572]\n"
     ]
    },
    {
     "name": "stderr",
     "output_type": "stream",
     "text": [
      "/opt/anaconda3/envs/music/lib/python3.8/site-packages/librosa/core/audio.py:162: UserWarning: PySoundFile failed. Trying audioread instead.\n",
      "  warnings.warn(\"PySoundFile failed. Trying audioread instead.\")\n"
     ]
    },
    {
     "name": "stdout",
     "output_type": "stream",
     "text": [
      "['does he know - one direction', 135.99917763157896, -0.004340784994510614]\n"
     ]
    },
    {
     "name": "stderr",
     "output_type": "stream",
     "text": [
      "/opt/anaconda3/envs/music/lib/python3.8/site-packages/librosa/core/audio.py:162: UserWarning: PySoundFile failed. Trying audioread instead.\n",
      "  warnings.warn(\"PySoundFile failed. Trying audioread instead.\")\n"
     ]
    },
    {
     "name": "stdout",
     "output_type": "stream",
     "text": [
      "['islands - super junior', 117.45383522727273, 0.023445190035197173]\n"
     ]
    },
    {
     "name": "stderr",
     "output_type": "stream",
     "text": [
      "/opt/anaconda3/envs/music/lib/python3.8/site-packages/librosa/core/audio.py:162: UserWarning: PySoundFile failed. Trying audioread instead.\n",
      "  warnings.warn(\"PySoundFile failed. Trying audioread instead.\")\n"
     ]
    },
    {
     "name": "stdout",
     "output_type": "stream",
     "text": [
      "['cosmic - ryeowook, bada', 184.5703125, -0.010644271194367023]\n"
     ]
    },
    {
     "name": "stderr",
     "output_type": "stream",
     "text": [
      "/opt/anaconda3/envs/music/lib/python3.8/site-packages/librosa/core/audio.py:162: UserWarning: PySoundFile failed. Trying audioread instead.\n",
      "  warnings.warn(\"PySoundFile failed. Trying audioread instead.\")\n"
     ]
    },
    {
     "name": "stdout",
     "output_type": "stream",
     "text": [
      "['happily - one direction', 117.45383522727273, 0.01638698966990839]\n"
     ]
    },
    {
     "name": "stderr",
     "output_type": "stream",
     "text": [
      "/opt/anaconda3/envs/music/lib/python3.8/site-packages/librosa/core/audio.py:162: UserWarning: PySoundFile failed. Trying audioread instead.\n",
      "  warnings.warn(\"PySoundFile failed. Trying audioread instead.\")\n"
     ]
    },
    {
     "name": "stdout",
     "output_type": "stream",
     "text": [
      "['melody two - kajiura yuki', 112.34714673913044, -0.02349778922346862]\n"
     ]
    },
    {
     "name": "stderr",
     "output_type": "stream",
     "text": [
      "/opt/anaconda3/envs/music/lib/python3.8/site-packages/librosa/core/audio.py:162: UserWarning: PySoundFile failed. Trying audioread instead.\n",
      "  warnings.warn(\"PySoundFile failed. Trying audioread instead.\")\n"
     ]
    },
    {
     "name": "stdout",
     "output_type": "stream",
     "text": [
      "['do you hear what i hear - carrie underwood', 78.30255681818181, -0.0175520178536419]\n"
     ]
    },
    {
     "name": "stderr",
     "output_type": "stream",
     "text": [
      "/opt/anaconda3/envs/music/lib/python3.8/site-packages/librosa/core/audio.py:162: UserWarning: PySoundFile failed. Trying audioread instead.\n",
      "  warnings.warn(\"PySoundFile failed. Trying audioread instead.\")\n"
     ]
    },
    {
     "name": "stdout",
     "output_type": "stream",
     "text": [
      "['holiday - henry', 123.046875, 0.030490049127141098]\n"
     ]
    },
    {
     "name": "stderr",
     "output_type": "stream",
     "text": [
      "/opt/anaconda3/envs/music/lib/python3.8/site-packages/librosa/core/audio.py:162: UserWarning: PySoundFile failed. Trying audioread instead.\n",
      "  warnings.warn(\"PySoundFile failed. Trying audioread instead.\")\n"
     ]
    },
    {
     "name": "stdout",
     "output_type": "stream",
     "text": [
      "['wu ji - lin hai', 83.35433467741936, 0.011032114398291278]\n"
     ]
    },
    {
     "name": "stderr",
     "output_type": "stream",
     "text": [
      "/opt/anaconda3/envs/music/lib/python3.8/site-packages/librosa/core/audio.py:162: UserWarning: PySoundFile failed. Trying audioread instead.\n",
      "  warnings.warn(\"PySoundFile failed. Trying audioread instead.\")\n"
     ]
    },
    {
     "name": "stdout",
     "output_type": "stream",
     "text": [
      "['guang nian zhi wai - gem', 89.10290948275862, 0.0074647086420692645]\n"
     ]
    },
    {
     "name": "stderr",
     "output_type": "stream",
     "text": [
      "/opt/anaconda3/envs/music/lib/python3.8/site-packages/librosa/core/audio.py:162: UserWarning: PySoundFile failed. Trying audioread instead.\n",
      "  warnings.warn(\"PySoundFile failed. Trying audioread instead.\")\n"
     ]
    },
    {
     "name": "stdout",
     "output_type": "stream",
     "text": [
      "['lightning flame dragon roar - takanashi yasuharu', 80.74951171875, -0.031106589794630345]\n"
     ]
    },
    {
     "name": "stderr",
     "output_type": "stream",
     "text": [
      "/opt/anaconda3/envs/music/lib/python3.8/site-packages/librosa/core/audio.py:162: UserWarning: PySoundFile failed. Trying audioread instead.\n",
      "  warnings.warn(\"PySoundFile failed. Trying audioread instead.\")\n"
     ]
    },
    {
     "name": "stdout",
     "output_type": "stream",
     "text": [
      "['try - colbie caillat', 92.28515625, -0.018167193014159283]\n"
     ]
    },
    {
     "name": "stderr",
     "output_type": "stream",
     "text": [
      "/opt/anaconda3/envs/music/lib/python3.8/site-packages/librosa/core/audio.py:162: UserWarning: PySoundFile failed. Trying audioread instead.\n",
      "  warnings.warn(\"PySoundFile failed. Trying audioread instead.\")\n"
     ]
    },
    {
     "name": "stdout",
     "output_type": "stream",
     "text": [
      "['boys and girls - lmc', 95.703125, -0.013807690354119682]\n"
     ]
    },
    {
     "name": "stderr",
     "output_type": "stream",
     "text": [
      "/opt/anaconda3/envs/music/lib/python3.8/site-packages/librosa/core/audio.py:162: UserWarning: PySoundFile failed. Trying audioread instead.\n",
      "  warnings.warn(\"PySoundFile failed. Trying audioread instead.\")\n"
     ]
    },
    {
     "name": "stdout",
     "output_type": "stream",
     "text": [
      "['down - jay sean', 66.25600961538461, 0.00886403516263575]\n"
     ]
    },
    {
     "name": "stderr",
     "output_type": "stream",
     "text": [
      "/opt/anaconda3/envs/music/lib/python3.8/site-packages/librosa/core/audio.py:162: UserWarning: PySoundFile failed. Trying audioread instead.\n",
      "  warnings.warn(\"PySoundFile failed. Trying audioread instead.\")\n"
     ]
    },
    {
     "name": "stdout",
     "output_type": "stream",
     "text": [
      "['a new adventure - takanashi yasuharu', 117.45383522727273, -0.0106350530967013]\n"
     ]
    },
    {
     "name": "stderr",
     "output_type": "stream",
     "text": [
      "/opt/anaconda3/envs/music/lib/python3.8/site-packages/librosa/core/audio.py:162: UserWarning: PySoundFile failed. Trying audioread instead.\n",
      "  warnings.warn(\"PySoundFile failed. Trying audioread instead.\")\n"
     ]
    },
    {
     "name": "stdout",
     "output_type": "stream",
     "text": [
      "['shelter - porter robinson, madeon', 99.38401442307692, -0.014798757744349574]\n"
     ]
    },
    {
     "name": "stderr",
     "output_type": "stream",
     "text": [
      "/opt/anaconda3/envs/music/lib/python3.8/site-packages/librosa/core/audio.py:162: UserWarning: PySoundFile failed. Trying audioread instead.\n",
      "  warnings.warn(\"PySoundFile failed. Trying audioread instead.\")\n"
     ]
    },
    {
     "name": "stdout",
     "output_type": "stream",
     "text": [
      "['because i miss you - kyuhyun', 73.828125, 0.02337915529267231]\n"
     ]
    },
    {
     "name": "stderr",
     "output_type": "stream",
     "text": [
      "/opt/anaconda3/envs/music/lib/python3.8/site-packages/librosa/core/audio.py:162: UserWarning: PySoundFile failed. Trying audioread instead.\n",
      "  warnings.warn(\"PySoundFile failed. Trying audioread instead.\")\n"
     ]
    },
    {
     "name": "stdout",
     "output_type": "stream",
     "text": [
      "['preacher - one republic', 143.5546875, -0.017553541322051773]\n"
     ]
    },
    {
     "name": "stderr",
     "output_type": "stream",
     "text": [
      "/opt/anaconda3/envs/music/lib/python3.8/site-packages/librosa/core/audio.py:162: UserWarning: PySoundFile failed. Trying audioread instead.\n",
      "  warnings.warn(\"PySoundFile failed. Trying audioread instead.\")\n"
     ]
    },
    {
     "name": "stdout",
     "output_type": "stream",
     "text": [
      "['ai xiao de yan jing - jj lin', 66.25600961538461, -0.012003980770057744]\n"
     ]
    },
    {
     "name": "stderr",
     "output_type": "stream",
     "text": [
      "/opt/anaconda3/envs/music/lib/python3.8/site-packages/librosa/core/audio.py:162: UserWarning: PySoundFile failed. Trying audioread instead.\n",
      "  warnings.warn(\"PySoundFile failed. Trying audioread instead.\")\n"
     ]
    },
    {
     "name": "stdout",
     "output_type": "stream",
     "text": [
      "['love somebody - maroon 5', 117.45383522727273, -0.024010154584401006]\n"
     ]
    },
    {
     "name": "stderr",
     "output_type": "stream",
     "text": [
      "/opt/anaconda3/envs/music/lib/python3.8/site-packages/librosa/core/audio.py:162: UserWarning: PySoundFile failed. Trying audioread instead.\n",
      "  warnings.warn(\"PySoundFile failed. Trying audioread instead.\")\n"
     ]
    },
    {
     "name": "stdout",
     "output_type": "stream",
     "text": [
      "['flower dance - dj okawari', 99.38401442307692, 0.02330023926950157]\n"
     ]
    },
    {
     "name": "stderr",
     "output_type": "stream",
     "text": [
      "/opt/anaconda3/envs/music/lib/python3.8/site-packages/librosa/core/audio.py:162: UserWarning: PySoundFile failed. Trying audioread instead.\n",
      "  warnings.warn(\"PySoundFile failed. Trying audioread instead.\")\n"
     ]
    },
    {
     "name": "stdout",
     "output_type": "stream",
     "text": [
      "['core pride - uverworld', 92.28515625, -0.009156924133676605]\n"
     ]
    },
    {
     "name": "stderr",
     "output_type": "stream",
     "text": [
      "/opt/anaconda3/envs/music/lib/python3.8/site-packages/librosa/core/audio.py:162: UserWarning: PySoundFile failed. Trying audioread instead.\n",
      "  warnings.warn(\"PySoundFile failed. Trying audioread instead.\")\n"
     ]
    },
    {
     "name": "stdout",
     "output_type": "stream",
     "text": [
      "['bboom bboom - momoland', 123.046875, 0.011703878694598368]\n"
     ]
    },
    {
     "name": "stderr",
     "output_type": "stream",
     "text": [
      "/opt/anaconda3/envs/music/lib/python3.8/site-packages/librosa/core/audio.py:162: UserWarning: PySoundFile failed. Trying audioread instead.\n",
      "  warnings.warn(\"PySoundFile failed. Trying audioread instead.\")\n"
     ]
    },
    {
     "name": "stdout",
     "output_type": "stream",
     "text": [
      "['ni pa bu pa shi qu wo - liu zeng tong', 83.35433467741936, 0.004887171591214858]\n"
     ]
    },
    {
     "name": "stderr",
     "output_type": "stream",
     "text": [
      "/opt/anaconda3/envs/music/lib/python3.8/site-packages/librosa/core/audio.py:162: UserWarning: PySoundFile failed. Trying audioread instead.\n",
      "  warnings.warn(\"PySoundFile failed. Trying audioread instead.\")\n"
     ]
    },
    {
     "name": "stdout",
     "output_type": "stream",
     "text": [
      "['mei you li you - ryanb, zhou yan ying', 89.10290948275862, 0.021456378885319104]\n"
     ]
    },
    {
     "name": "stderr",
     "output_type": "stream",
     "text": [
      "/opt/anaconda3/envs/music/lib/python3.8/site-packages/librosa/core/audio.py:162: UserWarning: PySoundFile failed. Trying audioread instead.\n",
      "  warnings.warn(\"PySoundFile failed. Trying audioread instead.\")\n"
     ]
    },
    {
     "name": "stdout",
     "output_type": "stream",
     "text": [
      "['gold - britt nicole', 95.703125, -0.014599303353835628]\n"
     ]
    },
    {
     "name": "stderr",
     "output_type": "stream",
     "text": [
      "/opt/anaconda3/envs/music/lib/python3.8/site-packages/librosa/core/audio.py:162: UserWarning: PySoundFile failed. Trying audioread instead.\n",
      "  warnings.warn(\"PySoundFile failed. Trying audioread instead.\")\n"
     ]
    },
    {
     "name": "stdout",
     "output_type": "stream",
     "text": [
      "['more than this - one direction', 151.99908088235293, -0.024638453061573185]\n"
     ]
    },
    {
     "name": "stderr",
     "output_type": "stream",
     "text": [
      "/opt/anaconda3/envs/music/lib/python3.8/site-packages/librosa/core/audio.py:162: UserWarning: PySoundFile failed. Trying audioread instead.\n",
      "  warnings.warn(\"PySoundFile failed. Trying audioread instead.\")\n"
     ]
    },
    {
     "name": "stdout",
     "output_type": "stream",
     "text": [
      "['holding an umbrella - hangeng', 112.34714673913044, -0.032323811721038966]\n"
     ]
    },
    {
     "name": "stderr",
     "output_type": "stream",
     "text": [
      "/opt/anaconda3/envs/music/lib/python3.8/site-packages/librosa/core/audio.py:162: UserWarning: PySoundFile failed. Trying audioread instead.\n",
      "  warnings.warn(\"PySoundFile failed. Trying audioread instead.\")\n"
     ]
    },
    {
     "name": "stdout",
     "output_type": "stream",
     "text": [
      "['dragon rider - two steps from hell', 161.4990234375, -0.0003719003347416421]\n"
     ]
    },
    {
     "name": "stderr",
     "output_type": "stream",
     "text": [
      "/opt/anaconda3/envs/music/lib/python3.8/site-packages/librosa/core/audio.py:162: UserWarning: PySoundFile failed. Trying audioread instead.\n",
      "  warnings.warn(\"PySoundFile failed. Trying audioread instead.\")\n"
     ]
    },
    {
     "name": "stdout",
     "output_type": "stream",
     "text": [
      "['nighty my luna - sereno', 161.4990234375, -0.024723925680906284]\n"
     ]
    },
    {
     "name": "stderr",
     "output_type": "stream",
     "text": [
      "/opt/anaconda3/envs/music/lib/python3.8/site-packages/librosa/core/audio.py:162: UserWarning: PySoundFile failed. Trying audioread instead.\n",
      "  warnings.warn(\"PySoundFile failed. Trying audioread instead.\")\n"
     ]
    },
    {
     "name": "stdout",
     "output_type": "stream",
     "text": [
      "[\"live like there's no tomorrow - selena gomez\", 184.5703125, -0.006308216618644661]\n"
     ]
    },
    {
     "name": "stderr",
     "output_type": "stream",
     "text": [
      "/opt/anaconda3/envs/music/lib/python3.8/site-packages/librosa/core/audio.py:162: UserWarning: PySoundFile failed. Trying audioread instead.\n",
      "  warnings.warn(\"PySoundFile failed. Trying audioread instead.\")\n"
     ]
    },
    {
     "name": "stdout",
     "output_type": "stream",
     "text": [
      "['baby don_t cry - exo', 69.83741554054055, -0.01112832059264044]\n"
     ]
    },
    {
     "name": "stderr",
     "output_type": "stream",
     "text": [
      "/opt/anaconda3/envs/music/lib/python3.8/site-packages/librosa/core/audio.py:162: UserWarning: PySoundFile failed. Trying audioread instead.\n",
      "  warnings.warn(\"PySoundFile failed. Trying audioread instead.\")\n"
     ]
    },
    {
     "name": "stdout",
     "output_type": "stream",
     "text": [
      "['alone - toshiro masuda', 80.74951171875, -0.006773376686310041]\n"
     ]
    },
    {
     "name": "stderr",
     "output_type": "stream",
     "text": [
      "/opt/anaconda3/envs/music/lib/python3.8/site-packages/librosa/core/audio.py:162: UserWarning: PySoundFile failed. Trying audioread instead.\n",
      "  warnings.warn(\"PySoundFile failed. Trying audioread instead.\")\n"
     ]
    },
    {
     "name": "stdout",
     "output_type": "stream",
     "text": [
      "['yi xiao qing cheng - wang su long', 117.45383522727273, -0.009856596651430538]\n"
     ]
    },
    {
     "name": "stderr",
     "output_type": "stream",
     "text": [
      "/opt/anaconda3/envs/music/lib/python3.8/site-packages/librosa/core/audio.py:162: UserWarning: PySoundFile failed. Trying audioread instead.\n",
      "  warnings.warn(\"PySoundFile failed. Trying audioread instead.\")\n"
     ]
    },
    {
     "name": "stdout",
     "output_type": "stream",
     "text": [
      "['sky chord - tsuji shion', 83.35433467741936, -0.005442952465846476]\n"
     ]
    },
    {
     "name": "stderr",
     "output_type": "stream",
     "text": [
      "/opt/anaconda3/envs/music/lib/python3.8/site-packages/librosa/core/audio.py:162: UserWarning: PySoundFile failed. Trying audioread instead.\n",
      "  warnings.warn(\"PySoundFile failed. Trying audioread instead.\")\n"
     ]
    },
    {
     "name": "stdout",
     "output_type": "stream",
     "text": [
      "['all my heart - super junior', 95.703125, -0.018274428154324018]\n"
     ]
    },
    {
     "name": "stderr",
     "output_type": "stream",
     "text": [
      "/opt/anaconda3/envs/music/lib/python3.8/site-packages/librosa/core/audio.py:162: UserWarning: PySoundFile failed. Trying audioread instead.\n",
      "  warnings.warn(\"PySoundFile failed. Trying audioread instead.\")\n"
     ]
    },
    {
     "name": "stdout",
     "output_type": "stream",
     "text": [
      "['nine four two zero - mai xiao er', 83.35433467741936, -0.011240924686030029]\n"
     ]
    },
    {
     "name": "stderr",
     "output_type": "stream",
     "text": [
      "/opt/anaconda3/envs/music/lib/python3.8/site-packages/librosa/core/audio.py:162: UserWarning: PySoundFile failed. Trying audioread instead.\n",
      "  warnings.warn(\"PySoundFile failed. Trying audioread instead.\")\n"
     ]
    },
    {
     "name": "stdout",
     "output_type": "stream",
     "text": [
      "['this is me - keala settle', 95.703125, 0.016682267565661626]\n"
     ]
    },
    {
     "name": "stderr",
     "output_type": "stream",
     "text": [
      "/opt/anaconda3/envs/music/lib/python3.8/site-packages/librosa/core/audio.py:162: UserWarning: PySoundFile failed. Trying audioread instead.\n",
      "  warnings.warn(\"PySoundFile failed. Trying audioread instead.\")\n"
     ]
    },
    {
     "name": "stdout",
     "output_type": "stream",
     "text": [
      "['star sky - two steps from hell', 129.19921875, -0.019501384306099545]\n"
     ]
    },
    {
     "name": "stderr",
     "output_type": "stream",
     "text": [
      "/opt/anaconda3/envs/music/lib/python3.8/site-packages/librosa/core/audio.py:162: UserWarning: PySoundFile failed. Trying audioread instead.\n",
      "  warnings.warn(\"PySoundFile failed. Trying audioread instead.\")\n"
     ]
    },
    {
     "name": "stdout",
     "output_type": "stream",
     "text": [
      "['wake me up - avicii', 123.046875, 0.026902930808876502]\n"
     ]
    },
    {
     "name": "stderr",
     "output_type": "stream",
     "text": [
      "/opt/anaconda3/envs/music/lib/python3.8/site-packages/librosa/core/audio.py:162: UserWarning: PySoundFile failed. Trying audioread instead.\n",
      "  warnings.warn(\"PySoundFile failed. Trying audioread instead.\")\n"
     ]
    },
    {
     "name": "stdout",
     "output_type": "stream",
     "text": [
      "['super clap - super junior', 129.19921875, -0.005076935539705365]\n"
     ]
    },
    {
     "name": "stderr",
     "output_type": "stream",
     "text": [
      "/opt/anaconda3/envs/music/lib/python3.8/site-packages/librosa/core/audio.py:162: UserWarning: PySoundFile failed. Trying audioread instead.\n",
      "  warnings.warn(\"PySoundFile failed. Trying audioread instead.\")\n"
     ]
    },
    {
     "name": "stdout",
     "output_type": "stream",
     "text": [
      "['i - taeyeon, verbal jint', 89.10290948275862, 0.015557589302528261]\n"
     ]
    },
    {
     "name": "stderr",
     "output_type": "stream",
     "text": [
      "/opt/anaconda3/envs/music/lib/python3.8/site-packages/librosa/core/audio.py:162: UserWarning: PySoundFile failed. Trying audioread instead.\n",
      "  warnings.warn(\"PySoundFile failed. Trying audioread instead.\")\n"
     ]
    },
    {
     "name": "stdout",
     "output_type": "stream",
     "text": [
      "['off my mind - henry', 129.19921875, -0.004858137908405207]\n"
     ]
    },
    {
     "name": "stderr",
     "output_type": "stream",
     "text": [
      "/opt/anaconda3/envs/music/lib/python3.8/site-packages/librosa/core/audio.py:162: UserWarning: PySoundFile failed. Trying audioread instead.\n",
      "  warnings.warn(\"PySoundFile failed. Trying audioread instead.\")\n"
     ]
    },
    {
     "name": "stdout",
     "output_type": "stream",
     "text": [
      "['tsuna awakens - toshihiko sahashi', 103.359375, -0.02929042246371395]\n"
     ]
    },
    {
     "name": "stderr",
     "output_type": "stream",
     "text": [
      "/opt/anaconda3/envs/music/lib/python3.8/site-packages/librosa/core/audio.py:162: UserWarning: PySoundFile failed. Trying audioread instead.\n",
      "  warnings.warn(\"PySoundFile failed. Trying audioread instead.\")\n"
     ]
    },
    {
     "name": "stdout",
     "output_type": "stream",
     "text": [
      "[\"paper plane's adventure - vk\", 117.45383522727273, 0.0038949097127294594]\n"
     ]
    },
    {
     "name": "stderr",
     "output_type": "stream",
     "text": [
      "/opt/anaconda3/envs/music/lib/python3.8/site-packages/librosa/core/audio.py:162: UserWarning: PySoundFile failed. Trying audioread instead.\n",
      "  warnings.warn(\"PySoundFile failed. Trying audioread instead.\")\n"
     ]
    },
    {
     "name": "stdout",
     "output_type": "stream",
     "text": [
      "['twenty two - taylor swift', 103.359375, -0.005431874408937941]\n"
     ]
    },
    {
     "name": "stderr",
     "output_type": "stream",
     "text": [
      "/opt/anaconda3/envs/music/lib/python3.8/site-packages/librosa/core/audio.py:162: UserWarning: PySoundFile failed. Trying audioread instead.\n",
      "  warnings.warn(\"PySoundFile failed. Trying audioread instead.\")\n"
     ]
    },
    {
     "name": "stdout",
     "output_type": "stream",
     "text": [
      "['flight of the silverbird - two steps from hell', 135.99917763157896, -0.00820007791450968]\n"
     ]
    },
    {
     "name": "stderr",
     "output_type": "stream",
     "text": [
      "/opt/anaconda3/envs/music/lib/python3.8/site-packages/librosa/core/audio.py:162: UserWarning: PySoundFile failed. Trying audioread instead.\n",
      "  warnings.warn(\"PySoundFile failed. Trying audioread instead.\")\n"
     ]
    },
    {
     "name": "stdout",
     "output_type": "stream",
     "text": [
      "['hoodie - hey violet', 95.703125, 0.005097096529713076]\n"
     ]
    },
    {
     "name": "stderr",
     "output_type": "stream",
     "text": [
      "/opt/anaconda3/envs/music/lib/python3.8/site-packages/librosa/core/audio.py:162: UserWarning: PySoundFile failed. Trying audioread instead.\n",
      "  warnings.warn(\"PySoundFile failed. Trying audioread instead.\")\n"
     ]
    },
    {
     "name": "stdout",
     "output_type": "stream",
     "text": [
      "[\"cobra's poison - takanashi yasuharu\", 99.38401442307692, -0.020214645129929768]\n"
     ]
    },
    {
     "name": "stderr",
     "output_type": "stream",
     "text": [
      "/opt/anaconda3/envs/music/lib/python3.8/site-packages/librosa/core/audio.py:162: UserWarning: PySoundFile failed. Trying audioread instead.\n",
      "  warnings.warn(\"PySoundFile failed. Trying audioread instead.\")\n"
     ]
    },
    {
     "name": "stdout",
     "output_type": "stream",
     "text": [
      "['kataomoi - aimer', 95.703125, -0.010971366501570013]\n"
     ]
    },
    {
     "name": "stderr",
     "output_type": "stream",
     "text": [
      "/opt/anaconda3/envs/music/lib/python3.8/site-packages/librosa/core/audio.py:162: UserWarning: PySoundFile failed. Trying audioread instead.\n",
      "  warnings.warn(\"PySoundFile failed. Trying audioread instead.\")\n"
     ]
    },
    {
     "name": "stdout",
     "output_type": "stream",
     "text": [
      "['crimson lotus - takanashi yasuharu', 151.99908088235293, 0.0025502426028919324]\n"
     ]
    },
    {
     "name": "stderr",
     "output_type": "stream",
     "text": [
      "/opt/anaconda3/envs/music/lib/python3.8/site-packages/librosa/core/audio.py:162: UserWarning: PySoundFile failed. Trying audioread instead.\n",
      "  warnings.warn(\"PySoundFile failed. Trying audioread instead.\")\n"
     ]
    },
    {
     "name": "stdout",
     "output_type": "stream",
     "text": [
      "['polaris memories - sereno', 99.38401442307692, 0.014748405157957669]\n"
     ]
    },
    {
     "name": "stderr",
     "output_type": "stream",
     "text": [
      "/opt/anaconda3/envs/music/lib/python3.8/site-packages/librosa/core/audio.py:162: UserWarning: PySoundFile failed. Trying audioread instead.\n",
      "  warnings.warn(\"PySoundFile failed. Trying audioread instead.\")\n"
     ]
    },
    {
     "name": "stdout",
     "output_type": "stream",
     "text": [
      "['gotta be somebody - nickelback', 117.45383522727273, -0.018831876415907837]\n"
     ]
    }
   ],
   "source": [
    "for song in os.scandir(\".\"):\n",
    "    if song.path.endswith(\".mp3\") and song.is_file():\n",
    "        # skip ./ in the path to the mp3 file\n",
    "        file_name = song.path[2:]\n",
    "        song_name = file_name[:len(file_name) - 4]\n",
    "        if song_name not in existing:\n",
    "            # add it to the missing list so we can use pyAudioAnalysis on it\n",
    "            missing.append(file_name)\n",
    "            \n",
    "            # get the tempo of the song\n",
    "            waveform, samp_rate = librosa.load(file_name)\n",
    "            tempo, beat_frames = librosa.beat.beat_track(waveform, samp_rate)\n",
    "\n",
    "            # get the chroma number of the song\n",
    "            beat_times = librosa.frames_to_time(beat_frames, samp_rate)\n",
    "            y_harmonic, y_percussive = librosa.effects.hpss(waveform)\n",
    "            chromagram = librosa.feature.chroma_cqt(y_harmonic, samp_rate)\n",
    "            beat_chroma = librosa.util.sync(chromagram, beat_frames, aggregate=np.median)\n",
    "            # make beat chroma into a DataFrame and calculate the diff\n",
    "            chroma_df = pd.DataFrame(beat_chroma)\n",
    "            diff_values = chroma_df.diff()\n",
    "            diff_mean = diff_values.mean(axis = 0, skipna = True)\n",
    "            chroma_num = sum(diff_mean) / len(diff_mean)\n",
    "\n",
    "            # add song, tempo and chroma number to the features list\n",
    "            print ([song_name, tempo, chroma_num])\n",
    "            features.append([song_name, tempo, chroma_num])"
   ]
  },
  {
   "cell_type": "code",
   "execution_count": 5,
   "id": "coupled-pitch",
   "metadata": {},
   "outputs": [],
   "source": [
    "features_df = pd.DataFrame(features, columns = ['song', 'tempo', 'chroma_number'])\n",
    "features_df = features_df.sort_values(by = ['song'])"
   ]
  },
  {
   "cell_type": "code",
   "execution_count": null,
   "id": "intimate-museum",
   "metadata": {},
   "outputs": [],
   "source": [
    "# move all the mp3 files that need to have features extracted into some folder\n",
    "with open('missing.txt', 'w+') as f:\n",
    "    for song in missing:\n",
    "        f.write(\"%s\\n\" % song)\n",
    "# use command line here\n",
    "'''\n",
    "mkdir missing\n",
    "cat missing.txt | while read line\n",
    "do\n",
    "    cp $line missing\n",
    "done\n",
    "'''\n",
    "# change the path in directory_feature_extraction"
   ]
  },
  {
   "cell_type": "code",
   "execution_count": 7,
   "id": "ordered-cowboy",
   "metadata": {},
   "outputs": [
    {
     "name": "stdout",
     "output_type": "stream",
     "text": [
      "Analyzing file 1 of 200: ./a new adventure - takanashi yasuharu.mp3\n",
      "Analyzing file 2 of 200: ./a oh - super junior.mp3\n",
      "Analyzing file 3 of 200: ./a thousand years - christina perri.mp3\n",
      "Analyzing file 4 of 200: ./adore u - seventeen.mp3\n",
      "Analyzing file 5 of 200: ./after rain - aimer.mp3\n",
      "Analyzing file 6 of 200: ./ai no katachi - tachibana keita.mp3\n",
      "Analyzing file 7 of 200: ./ai xiao de yan jing - jj lin.mp3\n",
      "Analyzing file 8 of 200: ./all my heart - super junior.mp3\n",
      "Analyzing file 9 of 200: ./alliance force, assemble - takanashi yasuharu.mp3\n",
      "Analyzing file 10 of 200: ./alone - toshiro masuda.mp3\n",
      "Analyzing file 11 of 200: ./am - one direction.mp3\n",
      "Analyzing file 12 of 200: ./angela - super junior.mp3\n",
      "Analyzing file 13 of 200: ./baby don_t cry - exo.mp3\n",
      "Analyzing file 14 of 200: ./bad things - camila cabello, machine gun kelly.mp3\n",
      "Analyzing file 15 of 200: ./battleborne - two steps from hell.mp3\n",
      "Analyzing file 16 of 200: ./bboom bboom - momoland.mp3\n",
      "Analyzing file 17 of 200: ./because i miss you - kyuhyun.mp3\n",
      "Analyzing file 18 of 200: ./because of you - kelly clarkson.mp3\n",
      "Analyzing file 19 of 200: ./beggin on your knees - victoria justice.mp3\n",
      "Analyzing file 20 of 200: ./between - yesung.mp3\n",
      "Analyzing file 21 of 200: ./bie qing yi shuo ai - cheng xin.mp3\n",
      "Analyzing file 22 of 200: ./body language - jesse mccartney.mp3\n",
      "Analyzing file 23 of 200: ./boys and girls - lmc.mp3\n",
      "Analyzing file 24 of 200: ./cassandra - two steps from hell.mp3\n",
      "Analyzing file 25 of 200: ./celestial spirit leo - takanashi yasuharu.mp3\n",
      "Analyzing file 26 of 200: ./city - yamagami takeshi.mp3\n",
      "Analyzing file 27 of 200: ./cobra's poison - takanashi yasuharu.mp3\n",
      "Analyzing file 28 of 200: ./core pride - uverworld.mp3\n",
      "Analyzing file 29 of 200: ./cosmic - ryeowook, bada.mp3\n",
      "Analyzing file 30 of 200: ./count on you - jordin sparks, big time rush.mp3\n",
      "Analyzing file 31 of 200: ./crimson lotus - takanashi yasuharu.mp3\n",
      "Analyzing file 32 of 200: ./daisy - stereo dive foundation.mp3\n",
      "Analyzing file 33 of 200: ./dawn star and boy's song - sereno.mp3\n",
      "Analyzing file 34 of 200: ./deng ni - a lin.mp3\n",
      "Analyzing file 35 of 200: ./destiny of love - yiruma.mp3\n",
      "Analyzing file 36 of 200: ./dive to world - cherryblossom.mp3\n",
      "Analyzing file 37 of 200: ./do you hear what i hear - carrie underwood.mp3\n",
      "Analyzing file 38 of 200: ./does he know - one direction.mp3\n",
      "Analyzing file 39 of 200: ./don't stop - 5 seconds of summer.mp3\n",
      "Analyzing file 40 of 200: ./don't wake me - skillet.mp3\n",
      "Analyzing file 41 of 200: ./dorothy - super junior.mp3\n",
      "Analyzing file 42 of 200: ./down - jay sean.mp3\n",
      "Analyzing file 43 of 200: ./dragon cry - takanashi yasuharu.mp3\n",
      "Analyzing file 44 of 200: ./dragon fight - takanashi yasuharu.mp3\n",
      "Analyzing file 45 of 200: ./dragon rider - two steps from hell.mp3\n",
      "Analyzing file 46 of 200: ./dragon slayer - takanashi yasuharu.mp3\n",
      "Analyzing file 47 of 200: ./dreamer - super junior.mp3\n",
      "Analyzing file 48 of 200: ./dynamite - taio cruz.mp3\n",
      "Analyzing file 49 of 200: ./everytime we touch - cascada.mp3\n",
      "Analyzing file 50 of 200: ./fade - alan walker.mp3\n",
      "Analyzing file 51 of 200: ./faded - alan walker.mp3\n",
      "Analyzing file 52 of 200: ./fairy tail rising - takanashi yasuharu.mp3\n",
      "Analyzing file 53 of 200: ./festival - yamagami takeshi.mp3\n",
      "Analyzing file 54 of 200: ./fight song - rachel platten.mp3\n",
      "Analyzing file 55 of 200: ./flight of the silverbird - two steps from hell.mp3\n",
      "Analyzing file 56 of 200: ./flower dance - dj okawari.mp3\n",
      "Analyzing file 57 of 200: ./fo xi shao nu - feng ti mo.mp3\n",
      "Analyzing file 58 of 200: ./for the win - two steps from hell.mp3\n",
      "Analyzing file 59 of 200: ./gang hao yu jian ni - li yu gang.mp3\n",
      "Analyzing file 60 of 200: ./glass heart - jason chen.mp3\n",
      "Analyzing file 61 of 200: ./gold - britt nicole.mp3\n",
      "Analyzing file 62 of 200: ./gotta be somebody - nickelback.mp3\n",
      "Analyzing file 63 of 200: ./guang nian zhi wai - gem.mp3\n",
      "Analyzing file 64 of 200: ./half a heart - one direction.mp3\n",
      "Analyzing file 65 of 200: ./happily - one direction.mp3\n",
      "Analyzing file 66 of 200: ./happy's theme - takanashi yasuharu.mp3\n",
      "Analyzing file 67 of 200: ./haru - super junior.mp3\n",
      "Analyzing file 68 of 200: ./heart of courage - two steps from hell.mp3\n",
      "Analyzing file 69 of 200: ./heartseeker - miraie, imeiden.mp3\n",
      "Analyzing file 70 of 200: ./hello - omfg.mp3\n",
      "Analyzing file 71 of 200: ./hello - teen top.mp3\n",
      "Analyzing file 72 of 200: ./here we go - super junior.mp3\n",
      "Analyzing file 73 of 200: ./hey, soul sister - train.mp3\n",
      "Analyzing file 74 of 200: ./holding an umbrella - hangeng.mp3\n",
      "Analyzing file 75 of 200: ./holiday - henry.mp3\n",
      "Analyzing file 76 of 200: ./hoodie - hey violet.mp3\n",
      "Analyzing file 77 of 200: ./houki boshi - younha.mp3\n",
      "Analyzing file 78 of 200: ./hua shui yue - vk.mp3\n",
      "Analyzing file 79 of 200: ./hurry up and save me - tiffany giardina.mp3\n",
      "Analyzing file 80 of 200: ./i - taeyeon, verbal jint.mp3\n",
      "Analyzing file 81 of 200: ./i love you - omfg.mp3\n",
      "Analyzing file 82 of 200: ./i wish - one direction.mp3\n",
      "Analyzing file 83 of 200: ./in love - july.mp3\n",
      "Analyzing file 84 of 200: ./invoke magic - takanashi yasuharu.mp3\n",
      "Analyzing file 85 of 200: ./islands - super junior.mp3\n",
      "Analyzing file 86 of 200: ./it's you - henry.mp3\n",
      "Analyzing file 87 of 200: ./ji jing zhi kong - fu xu.mp3\n",
      "Analyzing file 88 of 200: ./jing zhe - yin que shi ting.mp3\n",
      "Analyzing file 89 of 200: ./jiu shi xi huan ni - li meng yin.mp3\n",
      "Analyzing file 90 of 200: ./just dance - lady gaga.mp3\n",
      "Analyzing file 91 of 200: ./kataomoi - aimer.mp3\n",
      "Analyzing file 92 of 200: ./katawaredoki - radwimps.mp3\n",
      "Analyzing file 93 of 200: ./kiss the rain - yiruma.mp3\n",
      "Analyzing file 94 of 200: ./last first kiss - one direction.mp3\n",
      "Analyzing file 95 of 200: ./let me love you - mario.mp3\n",
      "Analyzing file 96 of 200: ./lightning flame dragon roar - takanashi yasuharu.mp3\n",
      "Analyzing file 97 of 200: ./live like there's no tomorrow - selena gomez.mp3\n",
      "Analyzing file 98 of 200: ./live while we're young - one direction.mp3\n",
      "Analyzing file 99 of 200: ./livin in - super junior.mp3\n",
      "Analyzing file 100 of 200: ./lost my pieces - hashimoto yukari.mp3\n",
      "Analyzing file 101 of 200: ./love somebody - maroon 5.mp3\n",
      "Analyzing file 102 of 200: ./loved you first - one direction.mp3\n",
      "Analyzing file 103 of 200: ./mad - neyo.mp3\n",
      "Analyzing file 104 of 200: ./may be - yiruma.mp3\n",
      "Analyzing file 105 of 200: ./maybe tomorrow - ryeowook.mp3\n",
      "Analyzing file 106 of 200: ./mei you li you - ryanb, zhou yan ying.mp3\n",
      "Analyzing file 107 of 200: ./melody two - kajiura yuki.mp3\n",
      "Analyzing file 108 of 200: ./mine - taylor swift.mp3\n",
      "Analyzing file 109 of 200: ./mirror night - vk.mp3\n",
      "Analyzing file 110 of 200: ./mitsuha no tsugaku - radwimps.mp3\n",
      "Analyzing file 111 of 200: ./more than this - one direction.mp3\n",
      "Analyzing file 112 of 200: ./morning - toshiro masuda.mp3\n",
      "Analyzing file 113 of 200: ./mother - super junior.mp3\n",
      "Analyzing file 114 of 200: ./na ge ta shi ni - mai xiao er.mp3\n",
      "Analyzing file 115 of 200: ./natsu's theme - takanashi yasuharu.mp3\n",
      "Analyzing file 116 of 200: ./naturally - selena gomez.mp3\n",
      "Analyzing file 117 of 200: ./need you now - henry, hoya.mp3\n",
      "Analyzing file 118 of 200: ./ni cong bu zhi dao - liu zeng tong.mp3\n",
      "Analyzing file 119 of 200: ./ni pa bu pa shi qu wo - liu zeng tong.mp3\n",
      "Analyzing file 120 of 200: ./nighty my luna - sereno.mp3\n",
      "Analyzing file 121 of 200: ./nine four two zero - mai xiao er.mp3\n",
      "Analyzing file 122 of 200: ./no air - jordin sparks, chris brown.mp3\n",
      "Analyzing file 123 of 200: ./no average angel - tiffany giardina.mp3\n",
      "Analyzing file 124 of 200: ./no title - reol.mp3\n",
      "Analyzing file 125 of 200: ./norwegian pirate - two steps from hell.mp3\n",
      "Analyzing file 126 of 200: ./not over you - gavin degraw.mp3\n",
      "Analyzing file 127 of 200: ./off my mind - henry.mp3\n",
      "Analyzing file 128 of 200: ./one thing - one direction.mp3\n",
      "Analyzing file 129 of 200: ./paper plane's adventure - vk.mp3\n",
      "Analyzing file 130 of 200: ./people of the floating island - takanashi yasuharu.mp3\n",
      "Analyzing file 131 of 200: ./please don't go - joel adams.mp3\n",
      "Analyzing file 132 of 200: ./polaris memories - sereno.mp3\n",
      "Analyzing file 133 of 200: ./preacher - one republic.mp3\n",
      "Analyzing file 134 of 200: ./promise - ft island.mp3\n",
      "Analyzing file 135 of 200: ./pyramid - charice, iyaz.mp3\n",
      "Analyzing file 136 of 200: ./qing hua ci - jay chou.mp3\n",
      "Analyzing file 137 of 200: ./rainy summer - sereno.mp3\n"
     ]
    },
    {
     "name": "stdout",
     "output_type": "stream",
     "text": [
      "Analyzing file 138 of 200: ./red - taylor swift.mp3\n",
      "Analyzing file 139 of 200: ./river flows in you - yiruma.mp3\n",
      "Analyzing file 140 of 200: ./rugs from me to you - owl city.mp3\n",
      "Analyzing file 141 of 200: ./sad past - takanashi yasuharu.mp3\n",
      "Analyzing file 142 of 200: ./sakura's theme - toshiro masuda.mp3\n",
      "Analyzing file 143 of 200: ./save you tonight - one direction.mp3\n",
      "Analyzing file 144 of 200: ./shelter - porter robinson, madeon.mp3\n",
      "Analyzing file 145 of 200: ./silhouette - kana boon.mp3\n",
      "Analyzing file 146 of 200: ./sky chord - tsuji shion.mp3\n",
      "Analyzing file 147 of 200: ./something i need - one republic.mp3\n",
      "Analyzing file 148 of 200: ./somewhere - july.mp3\n",
      "Analyzing file 149 of 200: ./sparks fly - taylor swift.mp3\n",
      "Analyzing file 150 of 200: ./spectre - alan walker.mp3\n",
      "Analyzing file 151 of 200: ./spin and burst - yaiba.mp3\n",
      "Analyzing file 152 of 200: ./spinning world - diana garnet.mp3\n",
      "Analyzing file 153 of 200: ./spiral moon - sereno.mp3\n",
      "Analyzing file 154 of 200: ./star at dawn - vk.mp3\n",
      "Analyzing file 155 of 200: ./star sky - two steps from hell.mp3\n",
      "Analyzing file 156 of 200: ./starry night rondo - sereno.mp3\n",
      "Analyzing file 157 of 200: ./still in love - jason chen.mp3\n",
      "Analyzing file 158 of 200: ./strong bonds in mind - takanashi yasuharu.mp3\n",
      "Analyzing file 159 of 200: ./super clap - super junior.mp3\n",
      "Analyzing file 160 of 200: ./take it slow - taeyang.mp3\n",
      "Analyzing file 161 of 200: ./talking with the star in the night - sereno.mp3\n",
      "Analyzing file 162 of 200: ./tell me why - teen top.mp3\n",
      "Analyzing file 163 of 200: ./the colonel - two steps from hell.mp3\n",
      "Analyzing file 164 of 200: ./the monster - eminem, rihanna.mp3\n",
      "Analyzing file 165 of 200: ./the relief - kajiura yuki.mp3\n",
      "Analyzing file 166 of 200: ./the sea - yamagami takeshi.mp3\n",
      "Analyzing file 167 of 200: ./the story of us - taylor swift.mp3\n",
      "Analyzing file 168 of 200: ./theme of el - yamagami takeshi.mp3\n",
      "Analyzing file 169 of 200: ./this is me - demi lovato, joe jonas.mp3\n",
      "Analyzing file 170 of 200: ./this is me - keala settle.mp3\n",
      "Analyzing file 171 of 200: ./three - britney spears.mp3\n",
      "Analyzing file 172 of 200: ./three dragon slayers - takanashi yasuharu.mp3\n",
      "Analyzing file 173 of 200: ./traveler of the magic borders - takanashi yasuharu.mp3\n",
      "Analyzing file 174 of 200: ./try - colbie caillat.mp3\n",
      "Analyzing file 175 of 200: ./try - pink.mp3\n",
      "Analyzing file 176 of 200: ./tsuna awakens - toshihiko sahashi.mp3\n",
      "Analyzing file 177 of 200: ./twenty two - taylor swift.mp3\n",
      "Analyzing file 178 of 200: ./u smile - justin bieber.mp3\n",
      "Analyzing file 179 of 200: ./unexpectedly - jason chen.mp3\n",
      "Analyzing file 180 of 200: ./victory - two steps from hell.mp3\n",
      "Analyzing file 181 of 200: ./wait for you - elliot yamin.mp3\n",
      "Analyzing file 182 of 200: ./wake me up - avicii.mp3\n",
      "Analyzing file 183 of 200: ./wan you yin li - wang su long.mp3\n",
      "Analyzing file 184 of 200: ./way back home - shaun.mp3\n",
      "Analyzing file 185 of 200: ./what makes you beautiful - one direction.mp3\n",
      "Analyzing file 186 of 200: ./whistle - flo rida.mp3\n",
      "Analyzing file 187 of 200: ./who says - selena gomez.mp3\n",
      "Analyzing file 188 of 200: ./why don't we go there - one direction.mp3\n",
      "Analyzing file 189 of 200: ./wo shi zhen de ai guo ni - liu zeng tong.mp3\n",
      "Analyzing file 190 of 200: ./wolves - selena gomez, marshmello.mp3\n",
      "Analyzing file 191 of 200: ./wu ji - lin hai.mp3\n",
      "Analyzing file 192 of 200: ./xiao xing xing - wang su long.mp3\n",
      "Analyzing file 193 of 200: ./ye yan feng bo - yin que shi ting.mp3\n",
      "Analyzing file 194 of 200: ./yi xiao qing cheng - wang su long.mp3\n",
      "Analyzing file 195 of 200: ./you don't go - super junior.mp3\n",
      "Analyzing file 196 of 200: ./you he bu ke - xu song.mp3\n",
      "Analyzing file 197 of 200: ./youth - troye sivan.mp3\n",
      "Analyzing file 198 of 200: ./zhe shi ai - henry, donghae.mp3\n",
      "Analyzing file 199 of 200: ./zui mei hun li - bai xiao bai.mp3\n",
      "Analyzing file 200 of 200: ./zurui yo - chihiro.mp3\n",
      "Feature extraction complexity ratio: 38.1 x realtime\n"
     ]
    }
   ],
   "source": [
    "mid_term_window = 1\n",
    "mid_term_step = 1\n",
    "short_term_window = 0.05\n",
    "short_term_step = 0.05\n",
    "# use compute_beat = True if we want the extra beat features\n",
    "pyaudio_feat, files, feat_names = MidTermFeatures.directory_feature_extraction(\".\", \n",
    "                                                                               mid_term_window, \n",
    "                                                                               mid_term_step, \n",
    "                                                                               short_term_window, \n",
    "                                                                               short_term_step,\n",
    "                                                                               False)"
   ]
  },
  {
   "cell_type": "code",
   "execution_count": 8,
   "id": "ethical-highlight",
   "metadata": {},
   "outputs": [],
   "source": [
    "# neural network features\n",
    "features_df.reset_index(drop = True, inplace = True)\n",
    "nn_features_df = pd.DataFrame(pyaudio_feat, columns = feat_names)\n",
    "nn_features_df['song'] = features_df['song']"
   ]
  },
  {
   "cell_type": "code",
   "execution_count": 9,
   "id": "handled-integer",
   "metadata": {},
   "outputs": [],
   "source": [
    "zcr_ind = feat_names.index('zcr_mean')\n",
    "ee_ind = feat_names.index('energy_entropy_mean')\n",
    "spc_ind = feat_names.index('spectral_centroid_mean')\n",
    "\n",
    "features_df['zero_crossing_rate'] = nn_features_df.iloc[:, zcr_ind]\n",
    "features_df['energy_entropy'] = nn_features_df.iloc[:, ee_ind]\n",
    "features_df['spectral_centroid'] = nn_features_df.iloc[:, spc_ind]"
   ]
  },
  {
   "cell_type": "code",
   "execution_count": 10,
   "id": "younger-premises",
   "metadata": {
    "scrolled": false
   },
   "outputs": [
    {
     "data": {
      "text/html": [
       "<div>\n",
       "<style scoped>\n",
       "    .dataframe tbody tr th:only-of-type {\n",
       "        vertical-align: middle;\n",
       "    }\n",
       "\n",
       "    .dataframe tbody tr th {\n",
       "        vertical-align: top;\n",
       "    }\n",
       "\n",
       "    .dataframe thead th {\n",
       "        text-align: right;\n",
       "    }\n",
       "</style>\n",
       "<table border=\"1\" class=\"dataframe\">\n",
       "  <thead>\n",
       "    <tr style=\"text-align: right;\">\n",
       "      <th></th>\n",
       "      <th>song</th>\n",
       "      <th>tempo</th>\n",
       "      <th>chroma_number</th>\n",
       "      <th>zero_crossing_rate</th>\n",
       "      <th>energy_entropy</th>\n",
       "      <th>spectral_centroid</th>\n",
       "    </tr>\n",
       "  </thead>\n",
       "  <tbody>\n",
       "    <tr>\n",
       "      <th>0</th>\n",
       "      <td>a new adventure - takanashi yasuharu</td>\n",
       "      <td>117.453835</td>\n",
       "      <td>-0.010635</td>\n",
       "      <td>0.082014</td>\n",
       "      <td>3.164051</td>\n",
       "      <td>0.186062</td>\n",
       "    </tr>\n",
       "    <tr>\n",
       "      <th>1</th>\n",
       "      <td>a oh - super junior</td>\n",
       "      <td>129.199219</td>\n",
       "      <td>-0.005782</td>\n",
       "      <td>0.078039</td>\n",
       "      <td>3.213386</td>\n",
       "      <td>0.179459</td>\n",
       "    </tr>\n",
       "    <tr>\n",
       "      <th>2</th>\n",
       "      <td>a thousand years - christina perri</td>\n",
       "      <td>92.285156</td>\n",
       "      <td>-0.016321</td>\n",
       "      <td>0.044617</td>\n",
       "      <td>3.217903</td>\n",
       "      <td>0.122203</td>\n",
       "    </tr>\n",
       "    <tr>\n",
       "      <th>3</th>\n",
       "      <td>adore u - seventeen</td>\n",
       "      <td>103.359375</td>\n",
       "      <td>-0.007745</td>\n",
       "      <td>0.058125</td>\n",
       "      <td>3.142738</td>\n",
       "      <td>0.145660</td>\n",
       "    </tr>\n",
       "    <tr>\n",
       "      <th>4</th>\n",
       "      <td>after rain - aimer</td>\n",
       "      <td>117.453835</td>\n",
       "      <td>-0.010324</td>\n",
       "      <td>0.068620</td>\n",
       "      <td>3.211794</td>\n",
       "      <td>0.147982</td>\n",
       "    </tr>\n",
       "    <tr>\n",
       "      <th>...</th>\n",
       "      <td>...</td>\n",
       "      <td>...</td>\n",
       "      <td>...</td>\n",
       "      <td>...</td>\n",
       "      <td>...</td>\n",
       "      <td>...</td>\n",
       "    </tr>\n",
       "    <tr>\n",
       "      <th>195</th>\n",
       "      <td>you he bu ke - xu song</td>\n",
       "      <td>99.384014</td>\n",
       "      <td>0.015339</td>\n",
       "      <td>0.056268</td>\n",
       "      <td>3.166332</td>\n",
       "      <td>0.156298</td>\n",
       "    </tr>\n",
       "    <tr>\n",
       "      <th>196</th>\n",
       "      <td>youth - troye sivan</td>\n",
       "      <td>123.046875</td>\n",
       "      <td>-0.002242</td>\n",
       "      <td>0.056377</td>\n",
       "      <td>3.192966</td>\n",
       "      <td>0.140693</td>\n",
       "    </tr>\n",
       "    <tr>\n",
       "      <th>197</th>\n",
       "      <td>zhe shi ai - henry, donghae</td>\n",
       "      <td>151.999081</td>\n",
       "      <td>-0.020014</td>\n",
       "      <td>0.019520</td>\n",
       "      <td>3.202357</td>\n",
       "      <td>0.075014</td>\n",
       "    </tr>\n",
       "    <tr>\n",
       "      <th>198</th>\n",
       "      <td>zui mei hun li - bai xiao bai</td>\n",
       "      <td>112.347147</td>\n",
       "      <td>0.022650</td>\n",
       "      <td>0.051512</td>\n",
       "      <td>3.168251</td>\n",
       "      <td>0.134493</td>\n",
       "    </tr>\n",
       "    <tr>\n",
       "      <th>199</th>\n",
       "      <td>zurui yo - chihiro</td>\n",
       "      <td>161.499023</td>\n",
       "      <td>0.001965</td>\n",
       "      <td>0.047713</td>\n",
       "      <td>3.181779</td>\n",
       "      <td>0.129770</td>\n",
       "    </tr>\n",
       "  </tbody>\n",
       "</table>\n",
       "<p>200 rows × 6 columns</p>\n",
       "</div>"
      ],
      "text/plain": [
       "                                     song       tempo  chroma_number  \\\n",
       "0    a new adventure - takanashi yasuharu  117.453835      -0.010635   \n",
       "1                     a oh - super junior  129.199219      -0.005782   \n",
       "2      a thousand years - christina perri   92.285156      -0.016321   \n",
       "3                     adore u - seventeen  103.359375      -0.007745   \n",
       "4                      after rain - aimer  117.453835      -0.010324   \n",
       "..                                    ...         ...            ...   \n",
       "195                you he bu ke - xu song   99.384014       0.015339   \n",
       "196                   youth - troye sivan  123.046875      -0.002242   \n",
       "197           zhe shi ai - henry, donghae  151.999081      -0.020014   \n",
       "198         zui mei hun li - bai xiao bai  112.347147       0.022650   \n",
       "199                    zurui yo - chihiro  161.499023       0.001965   \n",
       "\n",
       "     zero_crossing_rate  energy_entropy  spectral_centroid  \n",
       "0              0.082014        3.164051           0.186062  \n",
       "1              0.078039        3.213386           0.179459  \n",
       "2              0.044617        3.217903           0.122203  \n",
       "3              0.058125        3.142738           0.145660  \n",
       "4              0.068620        3.211794           0.147982  \n",
       "..                  ...             ...                ...  \n",
       "195            0.056268        3.166332           0.156298  \n",
       "196            0.056377        3.192966           0.140693  \n",
       "197            0.019520        3.202357           0.075014  \n",
       "198            0.051512        3.168251           0.134493  \n",
       "199            0.047713        3.181779           0.129770  \n",
       "\n",
       "[200 rows x 6 columns]"
      ]
     },
     "execution_count": 10,
     "metadata": {},
     "output_type": "execute_result"
    }
   ],
   "source": [
    "features_df"
   ]
  },
  {
   "cell_type": "code",
   "execution_count": 12,
   "id": "swedish-crime",
   "metadata": {},
   "outputs": [
    {
     "data": {
      "text/html": [
       "<div>\n",
       "<style scoped>\n",
       "    .dataframe tbody tr th:only-of-type {\n",
       "        vertical-align: middle;\n",
       "    }\n",
       "\n",
       "    .dataframe tbody tr th {\n",
       "        vertical-align: top;\n",
       "    }\n",
       "\n",
       "    .dataframe thead th {\n",
       "        text-align: right;\n",
       "    }\n",
       "</style>\n",
       "<table border=\"1\" class=\"dataframe\">\n",
       "  <thead>\n",
       "    <tr style=\"text-align: right;\">\n",
       "      <th></th>\n",
       "      <th>title</th>\n",
       "      <th>artist</th>\n",
       "      <th>primary</th>\n",
       "      <th>secondary</th>\n",
       "    </tr>\n",
       "  </thead>\n",
       "  <tbody>\n",
       "    <tr>\n",
       "      <th>0</th>\n",
       "      <td>who says</td>\n",
       "      <td>selena gomez</td>\n",
       "      <td>2</td>\n",
       "      <td>3</td>\n",
       "    </tr>\n",
       "    <tr>\n",
       "      <th>1</th>\n",
       "      <td>don't stop</td>\n",
       "      <td>5 seconds of summer</td>\n",
       "      <td>3</td>\n",
       "      <td>2</td>\n",
       "    </tr>\n",
       "    <tr>\n",
       "      <th>2</th>\n",
       "      <td>do you hear what i hear</td>\n",
       "      <td>carrie underwood</td>\n",
       "      <td>4</td>\n",
       "      <td>2</td>\n",
       "    </tr>\n",
       "    <tr>\n",
       "      <th>3</th>\n",
       "      <td>alliance force, assemble</td>\n",
       "      <td>takanashi yasuharu</td>\n",
       "      <td>1</td>\n",
       "      <td>6</td>\n",
       "    </tr>\n",
       "    <tr>\n",
       "      <th>4</th>\n",
       "      <td>ni pa bu pa shi qu wo</td>\n",
       "      <td>liu zeng tong</td>\n",
       "      <td>2</td>\n",
       "      <td>4</td>\n",
       "    </tr>\n",
       "    <tr>\n",
       "      <th>...</th>\n",
       "      <td>...</td>\n",
       "      <td>...</td>\n",
       "      <td>...</td>\n",
       "      <td>...</td>\n",
       "    </tr>\n",
       "    <tr>\n",
       "      <th>195</th>\n",
       "      <td>nine four two zero</td>\n",
       "      <td>mai xiao er</td>\n",
       "      <td>2</td>\n",
       "      <td>4</td>\n",
       "    </tr>\n",
       "    <tr>\n",
       "      <th>196</th>\n",
       "      <td>zui mei hun li</td>\n",
       "      <td>bai xiao bai</td>\n",
       "      <td>2</td>\n",
       "      <td>4</td>\n",
       "    </tr>\n",
       "    <tr>\n",
       "      <th>197</th>\n",
       "      <td>jiu shi xi huan ni</td>\n",
       "      <td>li meng yin</td>\n",
       "      <td>2</td>\n",
       "      <td>6</td>\n",
       "    </tr>\n",
       "    <tr>\n",
       "      <th>198</th>\n",
       "      <td>xiao xing xing</td>\n",
       "      <td>wang su long</td>\n",
       "      <td>2</td>\n",
       "      <td>4</td>\n",
       "    </tr>\n",
       "    <tr>\n",
       "      <th>199</th>\n",
       "      <td>qing hua ci</td>\n",
       "      <td>jay chou</td>\n",
       "      <td>4</td>\n",
       "      <td>2</td>\n",
       "    </tr>\n",
       "  </tbody>\n",
       "</table>\n",
       "<p>200 rows × 4 columns</p>\n",
       "</div>"
      ],
      "text/plain": [
       "                        title               artist  primary  secondary\n",
       "0                    who says         selena gomez        2          3\n",
       "1                  don't stop  5 seconds of summer        3          2\n",
       "2     do you hear what i hear     carrie underwood        4          2\n",
       "3    alliance force, assemble   takanashi yasuharu        1          6\n",
       "4       ni pa bu pa shi qu wo        liu zeng tong        2          4\n",
       "..                        ...                  ...      ...        ...\n",
       "195        nine four two zero          mai xiao er        2          4\n",
       "196            zui mei hun li         bai xiao bai        2          4\n",
       "197        jiu shi xi huan ni          li meng yin        2          6\n",
       "198            xiao xing xing         wang su long        2          4\n",
       "199               qing hua ci             jay chou        4          2\n",
       "\n",
       "[200 rows x 4 columns]"
      ]
     },
     "execution_count": 12,
     "metadata": {},
     "output_type": "execute_result"
    }
   ],
   "source": [
    "moods = pd.read_csv(\"../data/mood_data.csv\")\n",
    "moods"
   ]
  },
  {
   "cell_type": "code",
   "execution_count": 13,
   "id": "according-definition",
   "metadata": {},
   "outputs": [
    {
     "data": {
      "text/html": [
       "<div>\n",
       "<style scoped>\n",
       "    .dataframe tbody tr th:only-of-type {\n",
       "        vertical-align: middle;\n",
       "    }\n",
       "\n",
       "    .dataframe tbody tr th {\n",
       "        vertical-align: top;\n",
       "    }\n",
       "\n",
       "    .dataframe thead th {\n",
       "        text-align: right;\n",
       "    }\n",
       "</style>\n",
       "<table border=\"1\" class=\"dataframe\">\n",
       "  <thead>\n",
       "    <tr style=\"text-align: right;\">\n",
       "      <th></th>\n",
       "      <th>tempo</th>\n",
       "      <th>chroma_number</th>\n",
       "      <th>zero_crossing_rate</th>\n",
       "      <th>energy_entropy</th>\n",
       "      <th>spectral_centroid</th>\n",
       "      <th>title</th>\n",
       "      <th>artist</th>\n",
       "      <th>primary</th>\n",
       "      <th>secondary</th>\n",
       "    </tr>\n",
       "  </thead>\n",
       "  <tbody>\n",
       "    <tr>\n",
       "      <th>0</th>\n",
       "      <td>117.453835</td>\n",
       "      <td>-0.010635</td>\n",
       "      <td>0.082014</td>\n",
       "      <td>3.164051</td>\n",
       "      <td>0.186062</td>\n",
       "      <td>a new adventure</td>\n",
       "      <td>takanashi yasuharu</td>\n",
       "      <td>1</td>\n",
       "      <td>6</td>\n",
       "    </tr>\n",
       "    <tr>\n",
       "      <th>1</th>\n",
       "      <td>129.199219</td>\n",
       "      <td>-0.005782</td>\n",
       "      <td>0.078039</td>\n",
       "      <td>3.213386</td>\n",
       "      <td>0.179459</td>\n",
       "      <td>a oh</td>\n",
       "      <td>super junior</td>\n",
       "      <td>3</td>\n",
       "      <td>2</td>\n",
       "    </tr>\n",
       "    <tr>\n",
       "      <th>2</th>\n",
       "      <td>92.285156</td>\n",
       "      <td>-0.016321</td>\n",
       "      <td>0.044617</td>\n",
       "      <td>3.217903</td>\n",
       "      <td>0.122203</td>\n",
       "      <td>a thousand years</td>\n",
       "      <td>christina perri</td>\n",
       "      <td>6</td>\n",
       "      <td>5</td>\n",
       "    </tr>\n",
       "    <tr>\n",
       "      <th>3</th>\n",
       "      <td>103.359375</td>\n",
       "      <td>-0.007745</td>\n",
       "      <td>0.058125</td>\n",
       "      <td>3.142738</td>\n",
       "      <td>0.145660</td>\n",
       "      <td>adore u</td>\n",
       "      <td>seventeen</td>\n",
       "      <td>3</td>\n",
       "      <td>2</td>\n",
       "    </tr>\n",
       "    <tr>\n",
       "      <th>4</th>\n",
       "      <td>117.453835</td>\n",
       "      <td>-0.010324</td>\n",
       "      <td>0.068620</td>\n",
       "      <td>3.211794</td>\n",
       "      <td>0.147982</td>\n",
       "      <td>after rain</td>\n",
       "      <td>aimer</td>\n",
       "      <td>2</td>\n",
       "      <td>5</td>\n",
       "    </tr>\n",
       "    <tr>\n",
       "      <th>...</th>\n",
       "      <td>...</td>\n",
       "      <td>...</td>\n",
       "      <td>...</td>\n",
       "      <td>...</td>\n",
       "      <td>...</td>\n",
       "      <td>...</td>\n",
       "      <td>...</td>\n",
       "      <td>...</td>\n",
       "      <td>...</td>\n",
       "    </tr>\n",
       "    <tr>\n",
       "      <th>194</th>\n",
       "      <td>99.384014</td>\n",
       "      <td>0.015339</td>\n",
       "      <td>0.056268</td>\n",
       "      <td>3.166332</td>\n",
       "      <td>0.156298</td>\n",
       "      <td>you he bu ke</td>\n",
       "      <td>xu song</td>\n",
       "      <td>2</td>\n",
       "      <td>4</td>\n",
       "    </tr>\n",
       "    <tr>\n",
       "      <th>195</th>\n",
       "      <td>123.046875</td>\n",
       "      <td>-0.002242</td>\n",
       "      <td>0.056377</td>\n",
       "      <td>3.192966</td>\n",
       "      <td>0.140693</td>\n",
       "      <td>youth</td>\n",
       "      <td>troye sivan</td>\n",
       "      <td>5</td>\n",
       "      <td>6</td>\n",
       "    </tr>\n",
       "    <tr>\n",
       "      <th>196</th>\n",
       "      <td>151.999081</td>\n",
       "      <td>-0.020014</td>\n",
       "      <td>0.019520</td>\n",
       "      <td>3.202357</td>\n",
       "      <td>0.075014</td>\n",
       "      <td>zhe shi ai</td>\n",
       "      <td>henry, donghae</td>\n",
       "      <td>4</td>\n",
       "      <td>6</td>\n",
       "    </tr>\n",
       "    <tr>\n",
       "      <th>197</th>\n",
       "      <td>112.347147</td>\n",
       "      <td>0.022650</td>\n",
       "      <td>0.051512</td>\n",
       "      <td>3.168251</td>\n",
       "      <td>0.134493</td>\n",
       "      <td>zui mei hun li</td>\n",
       "      <td>bai xiao bai</td>\n",
       "      <td>2</td>\n",
       "      <td>4</td>\n",
       "    </tr>\n",
       "    <tr>\n",
       "      <th>198</th>\n",
       "      <td>161.499023</td>\n",
       "      <td>0.001965</td>\n",
       "      <td>0.047713</td>\n",
       "      <td>3.181779</td>\n",
       "      <td>0.129770</td>\n",
       "      <td>zurui yo</td>\n",
       "      <td>chihiro</td>\n",
       "      <td>6</td>\n",
       "      <td>5</td>\n",
       "    </tr>\n",
       "  </tbody>\n",
       "</table>\n",
       "<p>199 rows × 9 columns</p>\n",
       "</div>"
      ],
      "text/plain": [
       "          tempo  chroma_number  zero_crossing_rate  energy_entropy  \\\n",
       "0    117.453835      -0.010635            0.082014        3.164051   \n",
       "1    129.199219      -0.005782            0.078039        3.213386   \n",
       "2     92.285156      -0.016321            0.044617        3.217903   \n",
       "3    103.359375      -0.007745            0.058125        3.142738   \n",
       "4    117.453835      -0.010324            0.068620        3.211794   \n",
       "..          ...            ...                 ...             ...   \n",
       "194   99.384014       0.015339            0.056268        3.166332   \n",
       "195  123.046875      -0.002242            0.056377        3.192966   \n",
       "196  151.999081      -0.020014            0.019520        3.202357   \n",
       "197  112.347147       0.022650            0.051512        3.168251   \n",
       "198  161.499023       0.001965            0.047713        3.181779   \n",
       "\n",
       "     spectral_centroid             title              artist  primary  \\\n",
       "0             0.186062   a new adventure  takanashi yasuharu        1   \n",
       "1             0.179459              a oh        super junior        3   \n",
       "2             0.122203  a thousand years     christina perri        6   \n",
       "3             0.145660           adore u           seventeen        3   \n",
       "4             0.147982        after rain               aimer        2   \n",
       "..                 ...               ...                 ...      ...   \n",
       "194           0.156298      you he bu ke             xu song        2   \n",
       "195           0.140693             youth         troye sivan        5   \n",
       "196           0.075014        zhe shi ai      henry, donghae        4   \n",
       "197           0.134493    zui mei hun li        bai xiao bai        2   \n",
       "198           0.129770          zurui yo             chihiro        6   \n",
       "\n",
       "     secondary  \n",
       "0            6  \n",
       "1            2  \n",
       "2            5  \n",
       "3            2  \n",
       "4            5  \n",
       "..         ...  \n",
       "194          4  \n",
       "195          6  \n",
       "196          6  \n",
       "197          4  \n",
       "198          5  \n",
       "\n",
       "[199 rows x 9 columns]"
      ]
     },
     "execution_count": 13,
     "metadata": {},
     "output_type": "execute_result"
    }
   ],
   "source": [
    "moods['song'] = moods['title'] + \" - \" + moods['artist']\n",
    "moods = moods.sort_values(by = ['song'])\n",
    "moods.reset_index(drop = True, inplace = True)\n",
    "\n",
    "new_features = pd.merge(features_df, moods, on = \"song\")\n",
    "new_features = new_features.drop(columns = ['song'])\n",
    "new_features"
   ]
  },
  {
   "cell_type": "code",
   "execution_count": 15,
   "id": "backed-georgia",
   "metadata": {},
   "outputs": [],
   "source": [
    "if not existing:\n",
    "    new_features.to_csv(\"../data/features.csv\", header = True, index = False)\n",
    "    nn_features_df.to_csv(\"../data/nn_features.csv\", header = True, index = False)\n",
    "else:\n",
    "    all_features = pd.concat([prev_features, new_features], ignore_index = True)\n",
    "    all_features.to_csv(\"../data/features.csv\", header = True, index = False)\n",
    "    \n",
    "    prev_nn = pd.read_csv(\"../data/nn_features.csv\")\n",
    "    all_nn = pd.concat([prev_nn, nn_features_df], ignore_index = True)\n",
    "    all_nn.to_csv(\"../data/nn_features.csv\", header = True, index = False)"
   ]
  },
  {
   "cell_type": "code",
   "execution_count": null,
   "id": "frank-tender",
   "metadata": {},
   "outputs": [],
   "source": [
    "# make sure to delete the directory missing and the text file missing.txt\n",
    "'''\n",
    "rm -r missing\n",
    "rm missing.txt\n",
    "'''"
   ]
  }
 ],
 "metadata": {
  "kernelspec": {
   "display_name": "Python 3",
   "language": "python",
   "name": "python3"
  },
  "language_info": {
   "codemirror_mode": {
    "name": "ipython",
    "version": 3
   },
   "file_extension": ".py",
   "mimetype": "text/x-python",
   "name": "python",
   "nbconvert_exporter": "python",
   "pygments_lexer": "ipython3",
   "version": "3.8.5"
  }
 },
 "nbformat": 4,
 "nbformat_minor": 5
}
