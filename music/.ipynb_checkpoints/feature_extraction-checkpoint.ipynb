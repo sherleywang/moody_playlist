{
 "cells": [
  {
   "cell_type": "code",
   "execution_count": 1,
   "id": "broken-indian",
   "metadata": {},
   "outputs": [],
   "source": [
    "import librosa\n",
    "import pyAudioAnalysis as pyaudio\n",
    "import numpy as np\n",
    "import pandas as pd\n",
    "import os"
   ]
  },
  {
   "cell_type": "code",
   "execution_count": 2,
   "id": "entertaining-reserve",
   "metadata": {},
   "outputs": [],
   "source": [
    "from pyAudioAnalysis import audioBasicIO\n",
    "from pyAudioAnalysis import MidTermFeatures"
   ]
  },
  {
   "cell_type": "code",
   "execution_count": 5,
   "id": "aging-framing",
   "metadata": {},
   "outputs": [],
   "source": [
    "features = []"
   ]
  },
  {
   "cell_type": "code",
   "execution_count": 6,
   "id": "executive-trigger",
   "metadata": {},
   "outputs": [
    {
     "name": "stderr",
     "output_type": "stream",
     "text": [
      "/opt/anaconda3/envs/music/lib/python3.8/site-packages/librosa/core/audio.py:162: UserWarning: PySoundFile failed. Trying audioread instead.\n",
      "  warnings.warn(\"PySoundFile failed. Trying audioread instead.\")\n"
     ]
    },
    {
     "name": "stdout",
     "output_type": "stream",
     "text": [
      "['red - taylor swift', 123.046875, 0.033330368142967165]\n"
     ]
    },
    {
     "name": "stderr",
     "output_type": "stream",
     "text": [
      "/opt/anaconda3/envs/music/lib/python3.8/site-packages/librosa/core/audio.py:162: UserWarning: PySoundFile failed. Trying audioread instead.\n",
      "  warnings.warn(\"PySoundFile failed. Trying audioread instead.\")\n"
     ]
    },
    {
     "name": "stdout",
     "output_type": "stream",
     "text": [
      "[\"it's you - henry\", 151.99908088235293, -0.0013526432818837847]\n"
     ]
    },
    {
     "name": "stderr",
     "output_type": "stream",
     "text": [
      "/opt/anaconda3/envs/music/lib/python3.8/site-packages/librosa/core/audio.py:162: UserWarning: PySoundFile failed. Trying audioread instead.\n",
      "  warnings.warn(\"PySoundFile failed. Trying audioread instead.\")\n"
     ]
    },
    {
     "name": "stdout",
     "output_type": "stream",
     "text": [
      "['what makes you beautiful - one direction', 123.046875, 0.02092259862142693]\n"
     ]
    },
    {
     "name": "stderr",
     "output_type": "stream",
     "text": [
      "/opt/anaconda3/envs/music/lib/python3.8/site-packages/librosa/core/audio.py:162: UserWarning: PySoundFile failed. Trying audioread instead.\n",
      "  warnings.warn(\"PySoundFile failed. Trying audioread instead.\")\n"
     ]
    },
    {
     "name": "stdout",
     "output_type": "stream",
     "text": [
      "['sparks fly - taylor swift', 117.45383522727273, -0.024645435849058286]\n"
     ]
    },
    {
     "name": "stderr",
     "output_type": "stream",
     "text": [
      "/opt/anaconda3/envs/music/lib/python3.8/site-packages/librosa/core/audio.py:162: UserWarning: PySoundFile failed. Trying audioread instead.\n",
      "  warnings.warn(\"PySoundFile failed. Trying audioread instead.\")\n"
     ]
    },
    {
     "name": "stdout",
     "output_type": "stream",
     "text": [
      "['traveler of the magic borders - takanashi yasuharu', 117.45383522727273, -0.012549795917427655]\n"
     ]
    },
    {
     "name": "stderr",
     "output_type": "stream",
     "text": [
      "/opt/anaconda3/envs/music/lib/python3.8/site-packages/librosa/core/audio.py:162: UserWarning: PySoundFile failed. Trying audioread instead.\n",
      "  warnings.warn(\"PySoundFile failed. Trying audioread instead.\")\n"
     ]
    },
    {
     "name": "stdout",
     "output_type": "stream",
     "text": [
      "['wo shi zhen de ai guo ni - liu zeng tong', 143.5546875, 0.0005712135405318934]\n"
     ]
    },
    {
     "name": "stderr",
     "output_type": "stream",
     "text": [
      "/opt/anaconda3/envs/music/lib/python3.8/site-packages/librosa/core/audio.py:162: UserWarning: PySoundFile failed. Trying audioread instead.\n",
      "  warnings.warn(\"PySoundFile failed. Trying audioread instead.\")\n"
     ]
    },
    {
     "name": "stdout",
     "output_type": "stream",
     "text": [
      "['celestial spirit leo - takanashi yasuharu', 86.1328125, 0.0109553187548192]\n"
     ]
    },
    {
     "name": "stderr",
     "output_type": "stream",
     "text": [
      "/opt/anaconda3/envs/music/lib/python3.8/site-packages/librosa/core/audio.py:162: UserWarning: PySoundFile failed. Trying audioread instead.\n",
      "  warnings.warn(\"PySoundFile failed. Trying audioread instead.\")\n"
     ]
    },
    {
     "name": "stdout",
     "output_type": "stream",
     "text": [
      "['mother - super junior', 80.74951171875, -0.018025239349598404]\n"
     ]
    },
    {
     "name": "stderr",
     "output_type": "stream",
     "text": [
      "/opt/anaconda3/envs/music/lib/python3.8/site-packages/librosa/core/audio.py:162: UserWarning: PySoundFile failed. Trying audioread instead.\n",
      "  warnings.warn(\"PySoundFile failed. Trying audioread instead.\")\n"
     ]
    },
    {
     "name": "stdout",
     "output_type": "stream",
     "text": [
      "['jing zhe - yin que shi ting', 123.046875, 0.022497121614629093]\n"
     ]
    },
    {
     "name": "stderr",
     "output_type": "stream",
     "text": [
      "/opt/anaconda3/envs/music/lib/python3.8/site-packages/librosa/core/audio.py:162: UserWarning: PySoundFile failed. Trying audioread instead.\n",
      "  warnings.warn(\"PySoundFile failed. Trying audioread instead.\")\n"
     ]
    },
    {
     "name": "stdout",
     "output_type": "stream",
     "text": [
      "['dreamer - super junior', 95.703125, 0.007970774511758446]\n"
     ]
    },
    {
     "name": "stderr",
     "output_type": "stream",
     "text": [
      "/opt/anaconda3/envs/music/lib/python3.8/site-packages/librosa/core/audio.py:162: UserWarning: PySoundFile failed. Trying audioread instead.\n",
      "  warnings.warn(\"PySoundFile failed. Trying audioread instead.\")\n"
     ]
    },
    {
     "name": "stdout",
     "output_type": "stream",
     "text": [
      "['silhouette - kana boon', 92.28515625, 0.006313550386394379]\n"
     ]
    },
    {
     "name": "stderr",
     "output_type": "stream",
     "text": [
      "/opt/anaconda3/envs/music/lib/python3.8/site-packages/librosa/core/audio.py:162: UserWarning: PySoundFile failed. Trying audioread instead.\n",
      "  warnings.warn(\"PySoundFile failed. Trying audioread instead.\")\n"
     ]
    },
    {
     "name": "stdout",
     "output_type": "stream",
     "text": [
      "['a oh - super junior', 129.19921875, -0.005782174978379038]\n"
     ]
    },
    {
     "name": "stderr",
     "output_type": "stream",
     "text": [
      "/opt/anaconda3/envs/music/lib/python3.8/site-packages/librosa/core/audio.py:162: UserWarning: PySoundFile failed. Trying audioread instead.\n",
      "  warnings.warn(\"PySoundFile failed. Trying audioread instead.\")\n"
     ]
    },
    {
     "name": "stdout",
     "output_type": "stream",
     "text": [
      "['you he bu ke - xu song', 99.38401442307692, 0.01533914687834769]\n"
     ]
    },
    {
     "name": "stderr",
     "output_type": "stream",
     "text": [
      "/opt/anaconda3/envs/music/lib/python3.8/site-packages/librosa/core/audio.py:162: UserWarning: PySoundFile failed. Trying audioread instead.\n",
      "  warnings.warn(\"PySoundFile failed. Trying audioread instead.\")\n"
     ]
    },
    {
     "name": "stdout",
     "output_type": "stream",
     "text": [
      "['norwegian pirate - two steps from hell', 161.4990234375, -0.008484705083681408]\n"
     ]
    },
    {
     "name": "stderr",
     "output_type": "stream",
     "text": [
      "/opt/anaconda3/envs/music/lib/python3.8/site-packages/librosa/core/audio.py:162: UserWarning: PySoundFile failed. Trying audioread instead.\n",
      "  warnings.warn(\"PySoundFile failed. Trying audioread instead.\")\n"
     ]
    },
    {
     "name": "stdout",
     "output_type": "stream",
     "text": [
      "['the story of us - taylor swift', 143.5546875, 0.029204194713596227]\n"
     ]
    },
    {
     "name": "stderr",
     "output_type": "stream",
     "text": [
      "/opt/anaconda3/envs/music/lib/python3.8/site-packages/librosa/core/audio.py:162: UserWarning: PySoundFile failed. Trying audioread instead.\n",
      "  warnings.warn(\"PySoundFile failed. Trying audioread instead.\")\n"
     ]
    },
    {
     "name": "stdout",
     "output_type": "stream",
     "text": [
      "['the colonel - two steps from hell', 89.10290948275862, -0.023732756171060333]\n"
     ]
    },
    {
     "name": "stderr",
     "output_type": "stream",
     "text": [
      "/opt/anaconda3/envs/music/lib/python3.8/site-packages/librosa/core/audio.py:162: UserWarning: PySoundFile failed. Trying audioread instead.\n",
      "  warnings.warn(\"PySoundFile failed. Trying audioread instead.\")\n"
     ]
    },
    {
     "name": "stdout",
     "output_type": "stream",
     "text": [
      "['try - pink', 103.359375, 0.021059716187481155]\n"
     ]
    },
    {
     "name": "stderr",
     "output_type": "stream",
     "text": [
      "/opt/anaconda3/envs/music/lib/python3.8/site-packages/librosa/core/audio.py:162: UserWarning: PySoundFile failed. Trying audioread instead.\n",
      "  warnings.warn(\"PySoundFile failed. Trying audioread instead.\")\n"
     ]
    },
    {
     "name": "stdout",
     "output_type": "stream",
     "text": [
      "['ni cong bu zhi dao - liu zeng tong', 86.1328125, -0.009262435901882492]\n"
     ]
    },
    {
     "name": "stderr",
     "output_type": "stream",
     "text": [
      "/opt/anaconda3/envs/music/lib/python3.8/site-packages/librosa/core/audio.py:162: UserWarning: PySoundFile failed. Trying audioread instead.\n",
      "  warnings.warn(\"PySoundFile failed. Trying audioread instead.\")\n"
     ]
    },
    {
     "name": "stdout",
     "output_type": "stream",
     "text": [
      "[\"live while we're young - one direction\", 123.046875, 0.014973390490779243]\n"
     ]
    },
    {
     "name": "stderr",
     "output_type": "stream",
     "text": [
      "/opt/anaconda3/envs/music/lib/python3.8/site-packages/librosa/core/audio.py:162: UserWarning: PySoundFile failed. Trying audioread instead.\n",
      "  warnings.warn(\"PySoundFile failed. Trying audioread instead.\")\n"
     ]
    },
    {
     "name": "stdout",
     "output_type": "stream",
     "text": [
      "['here we go - super junior', 117.45383522727273, 0.0006970009197766454]\n"
     ]
    },
    {
     "name": "stderr",
     "output_type": "stream",
     "text": [
      "/opt/anaconda3/envs/music/lib/python3.8/site-packages/librosa/core/audio.py:162: UserWarning: PySoundFile failed. Trying audioread instead.\n",
      "  warnings.warn(\"PySoundFile failed. Trying audioread instead.\")\n"
     ]
    },
    {
     "name": "stdout",
     "output_type": "stream",
     "text": [
      "['just dance - lady gaga', 117.45383522727273, 0.009512477723852017]\n"
     ]
    },
    {
     "name": "stderr",
     "output_type": "stream",
     "text": [
      "/opt/anaconda3/envs/music/lib/python3.8/site-packages/librosa/core/audio.py:162: UserWarning: PySoundFile failed. Trying audioread instead.\n",
      "  warnings.warn(\"PySoundFile failed. Trying audioread instead.\")\n"
     ]
    },
    {
     "name": "stdout",
     "output_type": "stream",
     "text": [
      "['everytime we touch - cascada', 143.5546875, -0.008648161975629521]\n"
     ]
    },
    {
     "name": "stderr",
     "output_type": "stream",
     "text": [
      "/opt/anaconda3/envs/music/lib/python3.8/site-packages/librosa/core/audio.py:162: UserWarning: PySoundFile failed. Trying audioread instead.\n",
      "  warnings.warn(\"PySoundFile failed. Trying audioread instead.\")\n"
     ]
    },
    {
     "name": "stdout",
     "output_type": "stream",
     "text": [
      "['angela - super junior', 107.666015625, -0.001114500368419951]\n"
     ]
    },
    {
     "name": "stderr",
     "output_type": "stream",
     "text": [
      "/opt/anaconda3/envs/music/lib/python3.8/site-packages/librosa/core/audio.py:162: UserWarning: PySoundFile failed. Trying audioread instead.\n",
      "  warnings.warn(\"PySoundFile failed. Trying audioread instead.\")\n"
     ]
    },
    {
     "name": "stdout",
     "output_type": "stream",
     "text": [
      "[\"don't stop - 5 seconds of summer\", 151.99908088235293, -0.004306464315502128]\n"
     ]
    },
    {
     "name": "stderr",
     "output_type": "stream",
     "text": [
      "/opt/anaconda3/envs/music/lib/python3.8/site-packages/librosa/core/audio.py:162: UserWarning: PySoundFile failed. Trying audioread instead.\n",
      "  warnings.warn(\"PySoundFile failed. Trying audioread instead.\")\n"
     ]
    },
    {
     "name": "stdout",
     "output_type": "stream",
     "text": [
      "['youth - troye sivan', 123.046875, -0.002241655945459056]\n"
     ]
    },
    {
     "name": "stderr",
     "output_type": "stream",
     "text": [
      "/opt/anaconda3/envs/music/lib/python3.8/site-packages/librosa/core/audio.py:162: UserWarning: PySoundFile failed. Trying audioread instead.\n",
      "  warnings.warn(\"PySoundFile failed. Trying audioread instead.\")\n"
     ]
    },
    {
     "name": "stdout",
     "output_type": "stream",
     "text": [
      "['beggin on your knees - victoria justice', 129.19921875, -0.01633215384444978]\n"
     ]
    },
    {
     "name": "stderr",
     "output_type": "stream",
     "text": [
      "/opt/anaconda3/envs/music/lib/python3.8/site-packages/librosa/core/audio.py:162: UserWarning: PySoundFile failed. Trying audioread instead.\n",
      "  warnings.warn(\"PySoundFile failed. Trying audioread instead.\")\n"
     ]
    },
    {
     "name": "stdout",
     "output_type": "stream",
     "text": [
      "['bie qing yi shuo ai - cheng xin', 117.45383522727273, -0.007790719688954155]\n"
     ]
    },
    {
     "name": "stderr",
     "output_type": "stream",
     "text": [
      "/opt/anaconda3/envs/music/lib/python3.8/site-packages/librosa/core/audio.py:162: UserWarning: PySoundFile failed. Trying audioread instead.\n",
      "  warnings.warn(\"PySoundFile failed. Trying audioread instead.\")\n"
     ]
    },
    {
     "name": "stdout",
     "output_type": "stream",
     "text": [
      "['not over you - gavin degraw', 143.5546875, -0.0075298342572696665]\n"
     ]
    },
    {
     "name": "stderr",
     "output_type": "stream",
     "text": [
      "/opt/anaconda3/envs/music/lib/python3.8/site-packages/librosa/core/audio.py:162: UserWarning: PySoundFile failed. Trying audioread instead.\n",
      "  warnings.warn(\"PySoundFile failed. Trying audioread instead.\")\n"
     ]
    },
    {
     "name": "stdout",
     "output_type": "stream",
     "text": [
      "['city - yamagami takeshi', 107.666015625, 0.03597901234978304]\n"
     ]
    },
    {
     "name": "stderr",
     "output_type": "stream",
     "text": [
      "/opt/anaconda3/envs/music/lib/python3.8/site-packages/librosa/core/audio.py:162: UserWarning: PySoundFile failed. Trying audioread instead.\n",
      "  warnings.warn(\"PySoundFile failed. Trying audioread instead.\")\n"
     ]
    },
    {
     "name": "stdout",
     "output_type": "stream",
     "text": [
      "['who says - selena gomez', 99.38401442307692, 0.017894557862239743]\n"
     ]
    },
    {
     "name": "stderr",
     "output_type": "stream",
     "text": [
      "/opt/anaconda3/envs/music/lib/python3.8/site-packages/librosa/core/audio.py:162: UserWarning: PySoundFile failed. Trying audioread instead.\n",
      "  warnings.warn(\"PySoundFile failed. Trying audioread instead.\")\n"
     ]
    },
    {
     "name": "stdout",
     "output_type": "stream",
     "text": [
      "['dive to world - cherryblossom', 143.5546875, -0.002665922760720305]\n"
     ]
    },
    {
     "name": "stderr",
     "output_type": "stream",
     "text": [
      "/opt/anaconda3/envs/music/lib/python3.8/site-packages/librosa/core/audio.py:162: UserWarning: PySoundFile failed. Trying audioread instead.\n",
      "  warnings.warn(\"PySoundFile failed. Trying audioread instead.\")\n"
     ]
    },
    {
     "name": "stdout",
     "output_type": "stream",
     "text": [
      "['alliance force, assemble - takanashi yasuharu', 95.703125, 0.007707513882594772]\n"
     ]
    },
    {
     "name": "stderr",
     "output_type": "stream",
     "text": [
      "/opt/anaconda3/envs/music/lib/python3.8/site-packages/librosa/core/audio.py:162: UserWarning: PySoundFile failed. Trying audioread instead.\n",
      "  warnings.warn(\"PySoundFile failed. Trying audioread instead.\")\n"
     ]
    },
    {
     "name": "stdout",
     "output_type": "stream",
     "text": [
      "['haru - super junior', 92.28515625, -0.02251503863608079]\n"
     ]
    },
    {
     "name": "stderr",
     "output_type": "stream",
     "text": [
      "/opt/anaconda3/envs/music/lib/python3.8/site-packages/librosa/core/audio.py:162: UserWarning: PySoundFile failed. Trying audioread instead.\n",
      "  warnings.warn(\"PySoundFile failed. Trying audioread instead.\")\n"
     ]
    },
    {
     "name": "stdout",
     "output_type": "stream",
     "text": [
      "['the monster - eminem, rihanna', 112.34714673913044, 0.011379822931062544]\n"
     ]
    },
    {
     "name": "stderr",
     "output_type": "stream",
     "text": [
      "/opt/anaconda3/envs/music/lib/python3.8/site-packages/librosa/core/audio.py:162: UserWarning: PySoundFile failed. Trying audioread instead.\n",
      "  warnings.warn(\"PySoundFile failed. Trying audioread instead.\")\n"
     ]
    },
    {
     "name": "stdout",
     "output_type": "stream",
     "text": [
      "['between - yesung', 99.38401442307692, -0.009141891827877188]\n"
     ]
    },
    {
     "name": "stderr",
     "output_type": "stream",
     "text": [
      "/opt/anaconda3/envs/music/lib/python3.8/site-packages/librosa/core/audio.py:162: UserWarning: PySoundFile failed. Trying audioread instead.\n",
      "  warnings.warn(\"PySoundFile failed. Trying audioread instead.\")\n"
     ]
    },
    {
     "name": "stdout",
     "output_type": "stream",
     "text": [
      "['for the win - two steps from hell', 117.45383522727273, -0.017863495011724538]\n"
     ]
    },
    {
     "name": "stderr",
     "output_type": "stream",
     "text": [
      "/opt/anaconda3/envs/music/lib/python3.8/site-packages/librosa/core/audio.py:162: UserWarning: PySoundFile failed. Trying audioread instead.\n",
      "  warnings.warn(\"PySoundFile failed. Trying audioread instead.\")\n"
     ]
    },
    {
     "name": "stdout",
     "output_type": "stream",
     "text": [
      "['spin and burst - yaiba', 89.10290948275862, -0.0017774532365878546]\n"
     ]
    },
    {
     "name": "stderr",
     "output_type": "stream",
     "text": [
      "/opt/anaconda3/envs/music/lib/python3.8/site-packages/librosa/core/audio.py:162: UserWarning: PySoundFile failed. Trying audioread instead.\n",
      "  warnings.warn(\"PySoundFile failed. Trying audioread instead.\")\n"
     ]
    },
    {
     "name": "stdout",
     "output_type": "stream",
     "text": [
      "['no title - reol', 135.99917763157896, 0.006176362088003991]\n"
     ]
    },
    {
     "name": "stderr",
     "output_type": "stream",
     "text": [
      "/opt/anaconda3/envs/music/lib/python3.8/site-packages/librosa/core/audio.py:162: UserWarning: PySoundFile failed. Trying audioread instead.\n",
      "  warnings.warn(\"PySoundFile failed. Trying audioread instead.\")\n"
     ]
    },
    {
     "name": "stdout",
     "output_type": "stream",
     "text": [
      "['rugs from me to you - owl city', 151.99908088235293, -0.026281568100708582]\n"
     ]
    },
    {
     "name": "stderr",
     "output_type": "stream",
     "text": [
      "/opt/anaconda3/envs/music/lib/python3.8/site-packages/librosa/core/audio.py:162: UserWarning: PySoundFile failed. Trying audioread instead.\n",
      "  warnings.warn(\"PySoundFile failed. Trying audioread instead.\")\n"
     ]
    },
    {
     "name": "stdout",
     "output_type": "stream",
     "text": [
      "['dynamite - taio cruz', 117.45383522727273, 0.028146897818738373]\n"
     ]
    },
    {
     "name": "stderr",
     "output_type": "stream",
     "text": [
      "/opt/anaconda3/envs/music/lib/python3.8/site-packages/librosa/core/audio.py:162: UserWarning: PySoundFile failed. Trying audioread instead.\n",
      "  warnings.warn(\"PySoundFile failed. Trying audioread instead.\")\n"
     ]
    },
    {
     "name": "stdout",
     "output_type": "stream",
     "text": [
      "['half a heart - one direction', 151.99908088235293, -0.011312586485889327]\n"
     ]
    },
    {
     "name": "stderr",
     "output_type": "stream",
     "text": [
      "/opt/anaconda3/envs/music/lib/python3.8/site-packages/librosa/core/audio.py:162: UserWarning: PySoundFile failed. Trying audioread instead.\n",
      "  warnings.warn(\"PySoundFile failed. Trying audioread instead.\")\n"
     ]
    },
    {
     "name": "stdout",
     "output_type": "stream",
     "text": [
      "['heart of courage - two steps from hell', 135.99917763157896, -0.024097726565411325]\n"
     ]
    },
    {
     "name": "stderr",
     "output_type": "stream",
     "text": [
      "/opt/anaconda3/envs/music/lib/python3.8/site-packages/librosa/core/audio.py:162: UserWarning: PySoundFile failed. Trying audioread instead.\n",
      "  warnings.warn(\"PySoundFile failed. Trying audioread instead.\")\n"
     ]
    },
    {
     "name": "stdout",
     "output_type": "stream",
     "text": [
      "['cassandra - two steps from hell', 117.45383522727273, -0.01731830532867276]\n"
     ]
    },
    {
     "name": "stderr",
     "output_type": "stream",
     "text": [
      "/opt/anaconda3/envs/music/lib/python3.8/site-packages/librosa/core/audio.py:162: UserWarning: PySoundFile failed. Trying audioread instead.\n",
      "  warnings.warn(\"PySoundFile failed. Trying audioread instead.\")\n"
     ]
    },
    {
     "name": "stdout",
     "output_type": "stream",
     "text": [
      "['this is me - demi lovato, joe jonas', 92.28515625, -0.004799166308471168]\n"
     ]
    },
    {
     "name": "stderr",
     "output_type": "stream",
     "text": [
      "/opt/anaconda3/envs/music/lib/python3.8/site-packages/librosa/core/audio.py:162: UserWarning: PySoundFile failed. Trying audioread instead.\n",
      "  warnings.warn(\"PySoundFile failed. Trying audioread instead.\")\n"
     ]
    },
    {
     "name": "stdout",
     "output_type": "stream",
     "text": [
      "[\"why don't we go there - one direction\", 161.4990234375, -0.013630135656122937]\n"
     ]
    },
    {
     "name": "stderr",
     "output_type": "stream",
     "text": [
      "/opt/anaconda3/envs/music/lib/python3.8/site-packages/librosa/core/audio.py:162: UserWarning: PySoundFile failed. Trying audioread instead.\n",
      "  warnings.warn(\"PySoundFile failed. Trying audioread instead.\")\n"
     ]
    },
    {
     "name": "stdout",
     "output_type": "stream",
     "text": [
      "['u smile - justin bieber', 75.99954044117646, -0.009513380032173703]\n"
     ]
    },
    {
     "name": "stderr",
     "output_type": "stream",
     "text": [
      "/opt/anaconda3/envs/music/lib/python3.8/site-packages/librosa/core/audio.py:162: UserWarning: PySoundFile failed. Trying audioread instead.\n",
      "  warnings.warn(\"PySoundFile failed. Trying audioread instead.\")\n"
     ]
    },
    {
     "name": "stdout",
     "output_type": "stream",
     "text": [
      "['hurry up and save me - tiffany giardina', 143.5546875, 0.004256395275002831]\n"
     ]
    },
    {
     "name": "stderr",
     "output_type": "stream",
     "text": [
      "/opt/anaconda3/envs/music/lib/python3.8/site-packages/librosa/core/audio.py:162: UserWarning: PySoundFile failed. Trying audioread instead.\n",
      "  warnings.warn(\"PySoundFile failed. Trying audioread instead.\")\n"
     ]
    },
    {
     "name": "stdout",
     "output_type": "stream",
     "text": [
      "['three - britney spears', 135.99917763157896, -0.007912213157360041]\n"
     ]
    },
    {
     "name": "stderr",
     "output_type": "stream",
     "text": [
      "/opt/anaconda3/envs/music/lib/python3.8/site-packages/librosa/core/audio.py:162: UserWarning: PySoundFile failed. Trying audioread instead.\n",
      "  warnings.warn(\"PySoundFile failed. Trying audioread instead.\")\n"
     ]
    },
    {
     "name": "stdout",
     "output_type": "stream",
     "text": [
      "['bad things - camila cabello, machine gun kelly', 135.99917763157896, 0.01347605818917859]\n"
     ]
    },
    {
     "name": "stderr",
     "output_type": "stream",
     "text": [
      "/opt/anaconda3/envs/music/lib/python3.8/site-packages/librosa/core/audio.py:162: UserWarning: PySoundFile failed. Trying audioread instead.\n",
      "  warnings.warn(\"PySoundFile failed. Trying audioread instead.\")\n"
     ]
    },
    {
     "name": "stdout",
     "output_type": "stream",
     "text": [
      "['maybe tomorrow - ryeowook', 123.046875, -0.017485015829075773]\n"
     ]
    },
    {
     "name": "stderr",
     "output_type": "stream",
     "text": [
      "/opt/anaconda3/envs/music/lib/python3.8/site-packages/librosa/core/audio.py:162: UserWarning: PySoundFile failed. Trying audioread instead.\n",
      "  warnings.warn(\"PySoundFile failed. Trying audioread instead.\")\n"
     ]
    },
    {
     "name": "stdout",
     "output_type": "stream",
     "text": [
      "['wolves - selena gomez, marshmello', 123.046875, 0.025085534467572185]\n"
     ]
    },
    {
     "name": "stderr",
     "output_type": "stream",
     "text": [
      "/opt/anaconda3/envs/music/lib/python3.8/site-packages/librosa/core/audio.py:162: UserWarning: PySoundFile failed. Trying audioread instead.\n",
      "  warnings.warn(\"PySoundFile failed. Trying audioread instead.\")\n"
     ]
    },
    {
     "name": "stdout",
     "output_type": "stream",
     "text": [
      "['mirror night - vk', 86.1328125, -0.004544091358963209]\n"
     ]
    },
    {
     "name": "stderr",
     "output_type": "stream",
     "text": [
      "/opt/anaconda3/envs/music/lib/python3.8/site-packages/librosa/core/audio.py:162: UserWarning: PySoundFile failed. Trying audioread instead.\n",
      "  warnings.warn(\"PySoundFile failed. Trying audioread instead.\")\n"
     ]
    },
    {
     "name": "stdout",
     "output_type": "stream",
     "text": [
      "['promise - ft island', 129.19921875, 0.0014804140479765177]\n"
     ]
    },
    {
     "name": "stderr",
     "output_type": "stream",
     "text": [
      "/opt/anaconda3/envs/music/lib/python3.8/site-packages/librosa/core/audio.py:162: UserWarning: PySoundFile failed. Trying audioread instead.\n",
      "  warnings.warn(\"PySoundFile failed. Trying audioread instead.\")\n"
     ]
    },
    {
     "name": "stdout",
     "output_type": "stream",
     "text": [
      "['spinning world - diana garnet', 112.34714673913044, -0.020040542766628602]\n"
     ]
    },
    {
     "name": "stderr",
     "output_type": "stream",
     "text": [
      "/opt/anaconda3/envs/music/lib/python3.8/site-packages/librosa/core/audio.py:162: UserWarning: PySoundFile failed. Trying audioread instead.\n",
      "  warnings.warn(\"PySoundFile failed. Trying audioread instead.\")\n"
     ]
    },
    {
     "name": "stdout",
     "output_type": "stream",
     "text": [
      "['hello - teen top', 99.38401442307692, -0.017054152860270302]\n"
     ]
    },
    {
     "name": "stderr",
     "output_type": "stream",
     "text": [
      "/opt/anaconda3/envs/music/lib/python3.8/site-packages/librosa/core/audio.py:162: UserWarning: PySoundFile failed. Trying audioread instead.\n",
      "  warnings.warn(\"PySoundFile failed. Trying audioread instead.\")\n"
     ]
    },
    {
     "name": "stdout",
     "output_type": "stream",
     "text": [
      "['naturally - selena gomez', 135.99917763157896, -0.005369901176332864]\n"
     ]
    },
    {
     "name": "stderr",
     "output_type": "stream",
     "text": [
      "/opt/anaconda3/envs/music/lib/python3.8/site-packages/librosa/core/audio.py:162: UserWarning: PySoundFile failed. Trying audioread instead.\n",
      "  warnings.warn(\"PySoundFile failed. Trying audioread instead.\")\n"
     ]
    },
    {
     "name": "stdout",
     "output_type": "stream",
     "text": [
      "['no average angel - tiffany giardina', 143.5546875, -0.008827407762209898]\n"
     ]
    },
    {
     "name": "stderr",
     "output_type": "stream",
     "text": [
      "/opt/anaconda3/envs/music/lib/python3.8/site-packages/librosa/core/audio.py:162: UserWarning: PySoundFile failed. Trying audioread instead.\n",
      "  warnings.warn(\"PySoundFile failed. Trying audioread instead.\")\n"
     ]
    },
    {
     "name": "stdout",
     "output_type": "stream",
     "text": [
      "['take it slow - taeyang', 112.34714673913044, -0.026263467233243572]\n"
     ]
    },
    {
     "name": "stderr",
     "output_type": "stream",
     "text": [
      "/opt/anaconda3/envs/music/lib/python3.8/site-packages/librosa/core/audio.py:162: UserWarning: PySoundFile failed. Trying audioread instead.\n",
      "  warnings.warn(\"PySoundFile failed. Trying audioread instead.\")\n"
     ]
    },
    {
     "name": "stdout",
     "output_type": "stream",
     "text": [
      "['cosmic - ryeowook, bada', 184.5703125, -0.010644271194367023]\n"
     ]
    },
    {
     "name": "stderr",
     "output_type": "stream",
     "text": [
      "/opt/anaconda3/envs/music/lib/python3.8/site-packages/librosa/core/audio.py:162: UserWarning: PySoundFile failed. Trying audioread instead.\n",
      "  warnings.warn(\"PySoundFile failed. Trying audioread instead.\")\n"
     ]
    },
    {
     "name": "stdout",
     "output_type": "stream",
     "text": [
      "['do you hear what i hear - carrie underwood', 78.30255681818181, -0.0175520178536419]\n"
     ]
    },
    {
     "name": "stderr",
     "output_type": "stream",
     "text": [
      "/opt/anaconda3/envs/music/lib/python3.8/site-packages/librosa/core/audio.py:162: UserWarning: PySoundFile failed. Trying audioread instead.\n",
      "  warnings.warn(\"PySoundFile failed. Trying audioread instead.\")\n"
     ]
    },
    {
     "name": "stdout",
     "output_type": "stream",
     "text": [
      "['holiday - henry', 123.046875, 0.030490049127141098]\n"
     ]
    },
    {
     "name": "stderr",
     "output_type": "stream",
     "text": [
      "/opt/anaconda3/envs/music/lib/python3.8/site-packages/librosa/core/audio.py:162: UserWarning: PySoundFile failed. Trying audioread instead.\n",
      "  warnings.warn(\"PySoundFile failed. Trying audioread instead.\")\n"
     ]
    },
    {
     "name": "stdout",
     "output_type": "stream",
     "text": [
      "['guang nian zhi wai - gem', 89.10290948275862, 0.0074647086420692645]\n"
     ]
    },
    {
     "name": "stderr",
     "output_type": "stream",
     "text": [
      "/opt/anaconda3/envs/music/lib/python3.8/site-packages/librosa/core/audio.py:162: UserWarning: PySoundFile failed. Trying audioread instead.\n",
      "  warnings.warn(\"PySoundFile failed. Trying audioread instead.\")\n"
     ]
    },
    {
     "name": "stdout",
     "output_type": "stream",
     "text": [
      "['because i miss you - kyuhyun', 73.828125, 0.02337915529267231]\n"
     ]
    },
    {
     "name": "stderr",
     "output_type": "stream",
     "text": [
      "/opt/anaconda3/envs/music/lib/python3.8/site-packages/librosa/core/audio.py:162: UserWarning: PySoundFile failed. Trying audioread instead.\n",
      "  warnings.warn(\"PySoundFile failed. Trying audioread instead.\")\n"
     ]
    },
    {
     "name": "stdout",
     "output_type": "stream",
     "text": [
      "['preacher - one republic', 143.5546875, -0.017553541322051773]\n"
     ]
    },
    {
     "name": "stderr",
     "output_type": "stream",
     "text": [
      "/opt/anaconda3/envs/music/lib/python3.8/site-packages/librosa/core/audio.py:162: UserWarning: PySoundFile failed. Trying audioread instead.\n",
      "  warnings.warn(\"PySoundFile failed. Trying audioread instead.\")\n"
     ]
    },
    {
     "name": "stdout",
     "output_type": "stream",
     "text": [
      "['love somebody - maroon 5', 117.45383522727273, -0.024010154584401006]\n"
     ]
    },
    {
     "name": "stderr",
     "output_type": "stream",
     "text": [
      "/opt/anaconda3/envs/music/lib/python3.8/site-packages/librosa/core/audio.py:162: UserWarning: PySoundFile failed. Trying audioread instead.\n",
      "  warnings.warn(\"PySoundFile failed. Trying audioread instead.\")\n"
     ]
    },
    {
     "name": "stdout",
     "output_type": "stream",
     "text": [
      "['ni pa bu pa shi qu wo - liu zeng tong', 83.35433467741936, 0.004887171591214858]\n"
     ]
    },
    {
     "name": "stderr",
     "output_type": "stream",
     "text": [
      "/opt/anaconda3/envs/music/lib/python3.8/site-packages/librosa/core/audio.py:162: UserWarning: PySoundFile failed. Trying audioread instead.\n",
      "  warnings.warn(\"PySoundFile failed. Trying audioread instead.\")\n"
     ]
    },
    {
     "name": "stdout",
     "output_type": "stream",
     "text": [
      "['dragon rider - two steps from hell', 161.4990234375, -0.0003719003347416421]\n"
     ]
    },
    {
     "name": "stderr",
     "output_type": "stream",
     "text": [
      "/opt/anaconda3/envs/music/lib/python3.8/site-packages/librosa/core/audio.py:162: UserWarning: PySoundFile failed. Trying audioread instead.\n",
      "  warnings.warn(\"PySoundFile failed. Trying audioread instead.\")\n"
     ]
    },
    {
     "name": "stdout",
     "output_type": "stream",
     "text": [
      "['sky chord - tsuji shion', 83.35433467741936, -0.005442952465846476]\n"
     ]
    },
    {
     "name": "stderr",
     "output_type": "stream",
     "text": [
      "/opt/anaconda3/envs/music/lib/python3.8/site-packages/librosa/core/audio.py:162: UserWarning: PySoundFile failed. Trying audioread instead.\n",
      "  warnings.warn(\"PySoundFile failed. Trying audioread instead.\")\n"
     ]
    },
    {
     "name": "stdout",
     "output_type": "stream",
     "text": [
      "['wake me up - avicii', 123.046875, 0.026902930808876502]\n"
     ]
    },
    {
     "name": "stderr",
     "output_type": "stream",
     "text": [
      "/opt/anaconda3/envs/music/lib/python3.8/site-packages/librosa/core/audio.py:162: UserWarning: PySoundFile failed. Trying audioread instead.\n",
      "  warnings.warn(\"PySoundFile failed. Trying audioread instead.\")\n"
     ]
    },
    {
     "name": "stdout",
     "output_type": "stream",
     "text": [
      "['super clap - super junior', 129.19921875, -0.005076935539705365]\n"
     ]
    },
    {
     "name": "stderr",
     "output_type": "stream",
     "text": [
      "/opt/anaconda3/envs/music/lib/python3.8/site-packages/librosa/core/audio.py:162: UserWarning: PySoundFile failed. Trying audioread instead.\n",
      "  warnings.warn(\"PySoundFile failed. Trying audioread instead.\")\n"
     ]
    },
    {
     "name": "stdout",
     "output_type": "stream",
     "text": [
      "['i - taeyeon, verbal jint', 89.10290948275862, 0.015557589302528261]\n"
     ]
    }
   ],
   "source": [
    "for song in os.scandir(\".\"):\n",
    "    if song.path.endswith(\".mp3\") and song.is_file():\n",
    "        # skip ./ in the path to the mp3 file\n",
    "        file_name = song.path[2:]\n",
    "        \n",
    "        # get the tempo of the song\n",
    "        waveform, samp_rate = librosa.load(file_name)\n",
    "        tempo, beat_frames = librosa.beat.beat_track(waveform, samp_rate)\n",
    "        \n",
    "        # get the chroma number of the song\n",
    "        beat_times = librosa.frames_to_time(beat_frames, samp_rate)\n",
    "        y_harmonic, y_percussive = librosa.effects.hpss(waveform)\n",
    "        chromagram = librosa.feature.chroma_cqt(y_harmonic, samp_rate)\n",
    "        beat_chroma = librosa.util.sync(chromagram, beat_frames, aggregate=np.median)\n",
    "        # make beat chroma into a DataFrame and calculate the diff\n",
    "        chroma_df = pd.DataFrame(beat_chroma)\n",
    "        diff_values = chroma_df.diff()\n",
    "        diff_mean = diff_values.mean(axis = 0, skipna = True)\n",
    "        chroma_num = sum(diff_mean) / len(diff_mean)\n",
    "        \n",
    "        # add song, tempo and chroma number to the features list\n",
    "        song_name = file_name[:len(file_name) - 4]\n",
    "        print ([song_name, tempo, chroma_num])\n",
    "        features.append([song_name, tempo, chroma_num])"
   ]
  },
  {
   "cell_type": "code",
   "execution_count": 7,
   "id": "coupled-pitch",
   "metadata": {},
   "outputs": [],
   "source": [
    "features_df = pd.DataFrame(features, columns = ['song', 'tempo', 'chroma_number'])\n",
    "features_df = features_df.sort_values(by = ['song'])"
   ]
  },
  {
   "cell_type": "code",
   "execution_count": 9,
   "id": "ordered-cowboy",
   "metadata": {},
   "outputs": [
    {
     "name": "stdout",
     "output_type": "stream",
     "text": [
      "Analyzing file 1 of 71: ./a oh - super junior.mp3\n",
      "Analyzing file 2 of 71: ./alliance force, assemble - takanashi yasuharu.mp3\n",
      "Analyzing file 3 of 71: ./angela - super junior.mp3\n",
      "Analyzing file 4 of 71: ./bad things - camila cabello, machine gun kelly.mp3\n",
      "Analyzing file 5 of 71: ./because i miss you - kyuhyun.mp3\n",
      "Analyzing file 6 of 71: ./beggin on your knees - victoria justice.mp3\n",
      "Analyzing file 7 of 71: ./between - yesung.mp3\n",
      "Analyzing file 8 of 71: ./bie qing yi shuo ai - cheng xin.mp3\n",
      "Analyzing file 9 of 71: ./cassandra - two steps from hell.mp3\n",
      "Analyzing file 10 of 71: ./celestial spirit leo - takanashi yasuharu.mp3\n",
      "Analyzing file 11 of 71: ./city - yamagami takeshi.mp3\n",
      "Analyzing file 12 of 71: ./cosmic - ryeowook, bada.mp3\n",
      "Analyzing file 13 of 71: ./dive to world - cherryblossom.mp3\n",
      "Analyzing file 14 of 71: ./do you hear what i hear - carrie underwood.mp3\n",
      "Analyzing file 15 of 71: ./don't stop - 5 seconds of summer.mp3\n",
      "Analyzing file 16 of 71: ./dragon rider - two steps from hell.mp3\n",
      "Analyzing file 17 of 71: ./dreamer - super junior.mp3\n",
      "Analyzing file 18 of 71: ./dynamite - taio cruz.mp3\n",
      "Analyzing file 19 of 71: ./everytime we touch - cascada.mp3\n",
      "Analyzing file 20 of 71: ./for the win - two steps from hell.mp3\n",
      "Analyzing file 21 of 71: ./guang nian zhi wai - gem.mp3\n",
      "Analyzing file 22 of 71: ./half a heart - one direction.mp3\n",
      "Analyzing file 23 of 71: ./haru - super junior.mp3\n",
      "Analyzing file 24 of 71: ./heart of courage - two steps from hell.mp3\n",
      "Analyzing file 25 of 71: ./hello - teen top.mp3\n",
      "Analyzing file 26 of 71: ./here we go - super junior.mp3\n",
      "Analyzing file 27 of 71: ./holiday - henry.mp3\n",
      "Analyzing file 28 of 71: ./hurry up and save me - tiffany giardina.mp3\n",
      "Analyzing file 29 of 71: ./i - taeyeon, verbal jint.mp3\n",
      "Analyzing file 30 of 71: ./it's you - henry.mp3\n",
      "Analyzing file 31 of 71: ./jing zhe - yin que shi ting.mp3\n",
      "Analyzing file 32 of 71: ./just dance - lady gaga.mp3\n",
      "Analyzing file 33 of 71: ./live while we're young - one direction.mp3\n",
      "Analyzing file 34 of 71: ./love somebody - maroon 5.mp3\n",
      "Analyzing file 35 of 71: ./maybe tomorrow - ryeowook.mp3\n",
      "Analyzing file 36 of 71: ./mirror night - vk.mp3\n",
      "Analyzing file 37 of 71: ./mother - super junior.mp3\n",
      "Analyzing file 38 of 71: ./naturally - selena gomez.mp3\n",
      "Analyzing file 39 of 71: ./ni cong bu zhi dao - liu zeng tong.mp3\n",
      "Analyzing file 40 of 71: ./ni pa bu pa shi qu wo - liu zeng tong.mp3\n",
      "Analyzing file 41 of 71: ./no average angel - tiffany giardina.mp3\n",
      "Analyzing file 42 of 71: ./no title - reol.mp3\n",
      "Analyzing file 43 of 71: ./norwegian pirate - two steps from hell.mp3\n",
      "Analyzing file 44 of 71: ./not over you - gavin degraw.mp3\n",
      "Analyzing file 45 of 71: ./preacher - one republic.mp3\n",
      "Analyzing file 46 of 71: ./promise - ft island.mp3\n",
      "Analyzing file 47 of 71: ./red - taylor swift.mp3\n",
      "Analyzing file 48 of 71: ./rugs from me to you - owl city.mp3\n",
      "Analyzing file 49 of 71: ./silhouette - kana boon.mp3\n",
      "Analyzing file 50 of 71: ./sky chord - tsuji shion.mp3\n",
      "Analyzing file 51 of 71: ./sparks fly - taylor swift.mp3\n",
      "Analyzing file 52 of 71: ./spin and burst - yaiba.mp3\n",
      "Analyzing file 53 of 71: ./spinning world - diana garnet.mp3\n",
      "Analyzing file 54 of 71: ./super clap - super junior.mp3\n",
      "Analyzing file 55 of 71: ./take it slow - taeyang.mp3\n",
      "Analyzing file 56 of 71: ./the colonel - two steps from hell.mp3\n",
      "Analyzing file 57 of 71: ./the monster - eminem, rihanna.mp3\n",
      "Analyzing file 58 of 71: ./the story of us - taylor swift.mp3\n",
      "Analyzing file 59 of 71: ./this is me - demi lovato, joe jonas.mp3\n",
      "Analyzing file 60 of 71: ./three - britney spears.mp3\n",
      "Analyzing file 61 of 71: ./traveler of the magic borders - takanashi yasuharu.mp3\n",
      "Analyzing file 62 of 71: ./try - pink.mp3\n",
      "Analyzing file 63 of 71: ./u smile - justin bieber.mp3\n",
      "Analyzing file 64 of 71: ./wake me up - avicii.mp3\n",
      "Analyzing file 65 of 71: ./what makes you beautiful - one direction.mp3\n",
      "Analyzing file 66 of 71: ./who says - selena gomez.mp3\n",
      "Analyzing file 67 of 71: ./why don't we go there - one direction.mp3\n",
      "Analyzing file 68 of 71: ./wo shi zhen de ai guo ni - liu zeng tong.mp3\n",
      "Analyzing file 69 of 71: ./wolves - selena gomez, marshmello.mp3\n",
      "Analyzing file 70 of 71: ./you he bu ke - xu song.mp3\n",
      "Analyzing file 71 of 71: ./youth - troye sivan.mp3\n",
      "Feature extraction complexity ratio: 37.3 x realtime\n"
     ]
    }
   ],
   "source": [
    "mid_term_window = 1\n",
    "mid_term_step = 1\n",
    "short_term_window = 0.05\n",
    "short_term_step = 0.05\n",
    "pyaudio_feat, files, feat_names = MidTermFeatures.directory_feature_extraction(\".\", \n",
    "                                                                               mid_term_window, \n",
    "                                                                               mid_term_step, \n",
    "                                                                               short_term_window, \n",
    "                                                                               short_term_step)"
   ]
  },
  {
   "cell_type": "code",
   "execution_count": 33,
   "id": "chief-pennsylvania",
   "metadata": {},
   "outputs": [],
   "source": [
    "# neural network features\n",
    "features_df.reset_index(drop = True, inplace = True)\n",
    "feat_names.append(\"unknown_column_1\")\n",
    "feat_names.append(\"unknown_column_2\")\n",
    "nn_features_df = pd.DataFrame(pyaudio_feat, columns = feat_names)\n",
    "nn_features_df['song'] = features_df['song']\n",
    "nn_features_df.to_csv(\"../data/nn_features.csv\", header = True, index = False)"
   ]
  },
  {
   "cell_type": "code",
   "execution_count": 31,
   "id": "handled-integer",
   "metadata": {},
   "outputs": [],
   "source": [
    "zcr_ind = feat_names.index('zcr_mean')\n",
    "ee_ind = feat_names.index('energy_entropy_mean')\n",
    "spc_ind = feat_names.index('spectral_centroid_mean')\n",
    "\n",
    "features_df['zero_crossing_rate'] = nn_features_df.iloc[:, zcr_ind]\n",
    "features_df['energy_entropy'] = nn_features_df.iloc[:, ee_ind]\n",
    "features_df['spectral_centroid'] = nn_features_df.iloc[:, spc_ind]"
   ]
  },
  {
   "cell_type": "code",
   "execution_count": 34,
   "id": "younger-premises",
   "metadata": {},
   "outputs": [
    {
     "data": {
      "text/html": [
       "<div>\n",
       "<style scoped>\n",
       "    .dataframe tbody tr th:only-of-type {\n",
       "        vertical-align: middle;\n",
       "    }\n",
       "\n",
       "    .dataframe tbody tr th {\n",
       "        vertical-align: top;\n",
       "    }\n",
       "\n",
       "    .dataframe thead th {\n",
       "        text-align: right;\n",
       "    }\n",
       "</style>\n",
       "<table border=\"1\" class=\"dataframe\">\n",
       "  <thead>\n",
       "    <tr style=\"text-align: right;\">\n",
       "      <th></th>\n",
       "      <th>song</th>\n",
       "      <th>tempo</th>\n",
       "      <th>chroma_number</th>\n",
       "      <th>zero_crossing_rate</th>\n",
       "      <th>energy_entropy</th>\n",
       "      <th>spectral_centroid</th>\n",
       "    </tr>\n",
       "  </thead>\n",
       "  <tbody>\n",
       "    <tr>\n",
       "      <th>0</th>\n",
       "      <td>a oh - super junior</td>\n",
       "      <td>129.199219</td>\n",
       "      <td>-0.005782</td>\n",
       "      <td>0.068616</td>\n",
       "      <td>3.249814</td>\n",
       "      <td>0.153889</td>\n",
       "    </tr>\n",
       "    <tr>\n",
       "      <th>1</th>\n",
       "      <td>alliance force, assemble - takanashi yasuharu</td>\n",
       "      <td>95.703125</td>\n",
       "      <td>0.007708</td>\n",
       "      <td>0.069429</td>\n",
       "      <td>3.120086</td>\n",
       "      <td>0.166438</td>\n",
       "    </tr>\n",
       "    <tr>\n",
       "      <th>2</th>\n",
       "      <td>angela - super junior</td>\n",
       "      <td>107.666016</td>\n",
       "      <td>-0.001115</td>\n",
       "      <td>0.072561</td>\n",
       "      <td>3.172593</td>\n",
       "      <td>0.170664</td>\n",
       "    </tr>\n",
       "    <tr>\n",
       "      <th>3</th>\n",
       "      <td>bad things - camila cabello, machine gun kelly</td>\n",
       "      <td>135.999178</td>\n",
       "      <td>0.013476</td>\n",
       "      <td>0.060101</td>\n",
       "      <td>3.212073</td>\n",
       "      <td>0.143173</td>\n",
       "    </tr>\n",
       "    <tr>\n",
       "      <th>4</th>\n",
       "      <td>because i miss you - kyuhyun</td>\n",
       "      <td>73.828125</td>\n",
       "      <td>0.023379</td>\n",
       "      <td>0.057730</td>\n",
       "      <td>3.191261</td>\n",
       "      <td>0.136981</td>\n",
       "    </tr>\n",
       "    <tr>\n",
       "      <th>...</th>\n",
       "      <td>...</td>\n",
       "      <td>...</td>\n",
       "      <td>...</td>\n",
       "      <td>...</td>\n",
       "      <td>...</td>\n",
       "      <td>...</td>\n",
       "    </tr>\n",
       "    <tr>\n",
       "      <th>66</th>\n",
       "      <td>why don't we go there - one direction</td>\n",
       "      <td>161.499023</td>\n",
       "      <td>-0.013630</td>\n",
       "      <td>0.054871</td>\n",
       "      <td>3.204648</td>\n",
       "      <td>0.124632</td>\n",
       "    </tr>\n",
       "    <tr>\n",
       "      <th>67</th>\n",
       "      <td>wo shi zhen de ai guo ni - liu zeng tong</td>\n",
       "      <td>143.554688</td>\n",
       "      <td>0.000571</td>\n",
       "      <td>0.079562</td>\n",
       "      <td>3.226773</td>\n",
       "      <td>0.185206</td>\n",
       "    </tr>\n",
       "    <tr>\n",
       "      <th>68</th>\n",
       "      <td>wolves - selena gomez, marshmello</td>\n",
       "      <td>123.046875</td>\n",
       "      <td>0.025086</td>\n",
       "      <td>0.088343</td>\n",
       "      <td>3.207983</td>\n",
       "      <td>0.179641</td>\n",
       "    </tr>\n",
       "    <tr>\n",
       "      <th>69</th>\n",
       "      <td>you he bu ke - xu song</td>\n",
       "      <td>99.384014</td>\n",
       "      <td>0.015339</td>\n",
       "      <td>0.076929</td>\n",
       "      <td>3.196292</td>\n",
       "      <td>0.164416</td>\n",
       "    </tr>\n",
       "    <tr>\n",
       "      <th>70</th>\n",
       "      <td>youth - troye sivan</td>\n",
       "      <td>123.046875</td>\n",
       "      <td>-0.002242</td>\n",
       "      <td>0.091074</td>\n",
       "      <td>3.181096</td>\n",
       "      <td>0.199137</td>\n",
       "    </tr>\n",
       "  </tbody>\n",
       "</table>\n",
       "<p>71 rows × 6 columns</p>\n",
       "</div>"
      ],
      "text/plain": [
       "                                              song       tempo  chroma_number  \\\n",
       "0                              a oh - super junior  129.199219      -0.005782   \n",
       "1    alliance force, assemble - takanashi yasuharu   95.703125       0.007708   \n",
       "2                            angela - super junior  107.666016      -0.001115   \n",
       "3   bad things - camila cabello, machine gun kelly  135.999178       0.013476   \n",
       "4                     because i miss you - kyuhyun   73.828125       0.023379   \n",
       "..                                             ...         ...            ...   \n",
       "66           why don't we go there - one direction  161.499023      -0.013630   \n",
       "67        wo shi zhen de ai guo ni - liu zeng tong  143.554688       0.000571   \n",
       "68               wolves - selena gomez, marshmello  123.046875       0.025086   \n",
       "69                          you he bu ke - xu song   99.384014       0.015339   \n",
       "70                             youth - troye sivan  123.046875      -0.002242   \n",
       "\n",
       "    zero_crossing_rate  energy_entropy  spectral_centroid  \n",
       "0             0.068616        3.249814           0.153889  \n",
       "1             0.069429        3.120086           0.166438  \n",
       "2             0.072561        3.172593           0.170664  \n",
       "3             0.060101        3.212073           0.143173  \n",
       "4             0.057730        3.191261           0.136981  \n",
       "..                 ...             ...                ...  \n",
       "66            0.054871        3.204648           0.124632  \n",
       "67            0.079562        3.226773           0.185206  \n",
       "68            0.088343        3.207983           0.179641  \n",
       "69            0.076929        3.196292           0.164416  \n",
       "70            0.091074        3.181096           0.199137  \n",
       "\n",
       "[71 rows x 6 columns]"
      ]
     },
     "execution_count": 34,
     "metadata": {},
     "output_type": "execute_result"
    }
   ],
   "source": [
    "features_df"
   ]
  },
  {
   "cell_type": "code",
   "execution_count": 35,
   "id": "lesbian-roman",
   "metadata": {},
   "outputs": [],
   "source": [
    "features_df.to_csv(\"../data/features.csv\", header = True, index = False)"
   ]
  }
 ],
 "metadata": {
  "kernelspec": {
   "display_name": "Python 3",
   "language": "python",
   "name": "python3"
  },
  "language_info": {
   "codemirror_mode": {
    "name": "ipython",
    "version": 3
   },
   "file_extension": ".py",
   "mimetype": "text/x-python",
   "name": "python",
   "nbconvert_exporter": "python",
   "pygments_lexer": "ipython3",
   "version": "3.8.5"
  }
 },
 "nbformat": 4,
 "nbformat_minor": 5
}
